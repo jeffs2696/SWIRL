{
 "cells": [
  {
   "cell_type": "code",
   "execution_count": 58,
   "id": "70e07dba",
   "metadata": {},
   "outputs": [
    {
     "name": "stdout",
     "output_type": "stream",
     "text": [
      "Sum(tanh(r[i] - r_max[j]), (i, 0, 2)) + Sum(tanh(r_loc[j] - r_max[j]), (i, 0, 2))\n"
     ]
    }
   ],
   "source": [
    "# Importing libraries\n",
    "from sympy import *\n",
    "from sympy.plotting import plot\n",
    "from sympy.utilities.codegen import codegen\n",
    "from sympy.utilities.autowrap import autowrap\n",
    "from sympy.interactive import printing\n",
    "from numpy import linspace\n",
    "printing.init_printing(use_latex = True) \n",
    "import sympy as sp\n",
    "import numpy as np\n",
    "import math\n",
    "import re\n",
    "import numpy as np\n",
    "import matplotlib.pyplot as plt\n",
    "\n",
    "\n",
    "\n",
    "\n",
    "r,r_max,r_loc ,i,j = symbols(\"r r_max r_loc i j\")\n",
    "r_loc = IndexedBase('r_loc' )\n",
    "\n",
    "R_indexed = sp.tanh(Indexed('r',i) - Indexed('r_max',j))\n",
    "L_indexed = sp.tanh(Indexed('r_loc',j) - Indexed('r_max',j))\n",
    "\n",
    "R = Sum(R_indexed,(i,0,2))\n",
    "L = Sum(L_indexed,(i,0,2))\n",
    "b = np.array([0.2, 0.3 ,0 ,1.0])\n",
    "print(R+L)\n",
    "\n",
    "f = lambdify(r, R)\n",
    "g = lambdify(r, L)\n"
   ]
  },
  {
   "cell_type": "code",
   "execution_count": 60,
   "id": "c59fc0e8",
   "metadata": {},
   "outputs": [
    {
     "data": {
      "text/plain": [
       "'      Sum(tanh(r(i) - r_max(j)), (i, 0, 2)) + Sum(tanh(r_loc(j) - r_max(\\n     @ j)), (i, 0, 2))'"
      ]
     },
     "execution_count": 60,
     "metadata": {},
     "output_type": "execute_result"
    }
   ],
   "source": [
    "fcode(R+L)"
   ]
  },
  {
   "cell_type": "code",
   "execution_count": null,
   "id": "51ae0cde",
   "metadata": {},
   "outputs": [],
   "source": []
  }
 ],
 "metadata": {
  "kernelspec": {
   "display_name": "Python 3",
   "language": "python",
   "name": "python3"
  },
  "language_info": {
   "codemirror_mode": {
    "name": "ipython",
    "version": 3
   },
   "file_extension": ".py",
   "mimetype": "text/x-python",
   "name": "python",
   "nbconvert_exporter": "python",
   "pygments_lexer": "ipython3",
   "version": "3.8.8"
  }
 },
 "nbformat": 4,
 "nbformat_minor": 5
}
