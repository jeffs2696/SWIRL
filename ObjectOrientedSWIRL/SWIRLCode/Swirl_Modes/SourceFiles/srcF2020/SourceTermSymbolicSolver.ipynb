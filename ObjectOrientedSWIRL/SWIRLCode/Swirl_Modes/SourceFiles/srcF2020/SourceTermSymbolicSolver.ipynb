{
 "cells": [
  {
   "cell_type": "code",
   "execution_count": 1,
   "id": "ae82e538",
   "metadata": {},
   "outputs": [],
   "source": [
    "from sympy.interactive import printing\n",
    "printing.init_printing(use_latex = True) \n",
    "from sympy.utilities.codegen import codegen\n",
    "from sympy.utilities.autowrap import autowrap\n",
    "import sympy as sp\n",
    "from sympy import *\n",
    "import numpy as np\n",
    "import math\n",
    "import re"
   ]
  },
  {
   "cell_type": "markdown",
   "id": "2f3d6b7e",
   "metadata": {},
   "source": [
    "The goal of this python script is to generate source terms for the simplified linearized Euler equations. This script was writted in jupyter notebook.\n",
    "\n",
    "The linearized Euler equations after substitUting the exponential form for the pertubation quantities $\\bar{v}_r \\bar{v}_{\\theta} \\bar{v}_x \\bar{p}$\n",
    "\n",
    "$$ i \\left( \\frac{k}{\\bar{A}} - \\frac{m}{\\bar{r}} - \\bar{\\gamma}{M_x} \\right) \\bar{v}_r + \\frac{2}{\\bar{r}}M_{\\theta}\\bar{v_{\\theta}} -\\frac{d \\bar{p}}{d\\bar{r}} - \\frac{\\kappa - 1}{\\bar{r}} M_{\\theta}^2 \\bar{p} = S_1$$\n",
    "\n",
    "$$ -i \\left( \n",
    "\\frac{k}{\\bar{A}} -\n",
    "\\frac{m}{\\bar{r}} - \n",
    "\\bar{\\gamma}{M_x} \n",
    "\\right) \\bar{v}_{\\theta} + \n",
    "\\left[ \n",
    "\\frac{M_{\\theta}}{\\bar{r}} + \\frac{d M_{\\theta}}{d \\bar{r}} + \\frac{\\kappa - 1}{2 \\bar{r}} M_{\\theta}^3\\right] \\bar{v}_r + \\frac{im}{\\bar{r}}\\bar{p}  = S_2$$\n",
    "\n",
    "$$ -i \\left( \n",
    "\\frac{k}{\\bar{A}} -\n",
    "\\frac{m}{\\bar{r}} - \n",
    "\\bar{\\gamma}{M_x} \n",
    "\\right) \\bar{v}_{x} + \n",
    "\\left[ \n",
    "\\frac{d M_{x}}{d \\bar{r}} +\n",
    "\\frac{\\kappa - 1}{2 \\bar{r}} M_x M_{\\theta}^2\\right] \\bar{v}_r + i\\bar{\\gamma}{\\bar{p}} = S_3  $$\n",
    "\n",
    "\n",
    "$$ -i \\left( \n",
    "\\frac{k}{\\bar{A}} -\n",
    "\\frac{m}{\\bar{r}} - \n",
    "\\bar{\\gamma}{M_x} \n",
    "\\right) \\bar{p} + \n",
    "\\frac{d \\bar{v}_r}{d \\bar{r}} +\n",
    "\\left[ \n",
    "\\frac{\\kappa - 1}{2 \\bar{r}} M_{\\theta}^2 +\n",
    "\\frac{1}{\\bar{r}}\n",
    "\\right] \\bar{v}_r + \n",
    "\\frac{im}{\\bar{r}}\\bar{v}_{\\theta} +\n",
    "i \\bar{\\gamma} \\bar{v}_x = S_4$$"
   ]
  },
  {
   "cell_type": "markdown",
   "id": "f720a8d0",
   "metadata": {},
   "source": [
    "First we will go over the integration process used to obtain the speed of sound $A$ from $M_{\\theta}$\n",
    "\n",
    "$$\\bar{A}(\\bar{r}) =  \\exp \n",
    "\\left[ \n",
    "\\frac{1-\\kappa}{2}\\int_{\\bar{r}}^{\\bar{r}_{max}}\\frac{M_\\theta^2}{\\bar{r}} dr \n",
    "\\right]$$ \n",
    "\n",
    "Defining an analytical expression for $M_{\\theta}$ from this yields,\n",
    "\n",
    "$$ M_{\\theta} = \\sqrt{  \n",
    "\\frac{\\bar{r}}{(\\kappa - 1) \\bar{A}} \n",
    "\\frac{\\partial \\bar{A}^2}{\\partial \\bar{r}}\n",
    "}$$\n",
    "\n",
    "The input for the speed of sound is defined as $\\bar{A}_{analytic}$, however this is only an analytical function that has been chosen but does not provide a physical and meaningful solution to the problem on its own. For simplicity,\n",
    "\n",
    "$$ \\bar{A}_{analytic} = \\cos \\left( k (\\bar{r} - \\bar{r}_{max} )\\right) $$\n",
    "And the derivative with respect to non dimensional radius is,\n",
    "\n",
    "$$ \\frac{\\partial \\bar{A}_{analytic}}{\\partial \\bar{r} } = \n",
    "\\frac{\\partial}{\\partial \\bar {r}} \\left( \n",
    "\\cos \\left( k (\\bar{r} - \\bar{r}_{max} )\\right) \n",
    "\\right)$$\n",
    "\n",
    "$$ \\frac{\\partial \\bar{A}_{analytic}}{\\partial \\bar{r} } = \n",
    "-k \\sin \\left( k ( \\bar{r} - \\bar{r}_{max}) \\right)\n",
    "$$"
   ]
  },
  {
   "cell_type": "code",
   "execution_count": 2,
   "id": "22ff667d",
   "metadata": {},
   "outputs": [],
   "source": [
    "r, r_max, kappa = symbols('r r_max kappa')\n",
    "\n",
    "k = symbols('k', cls=IndexedBase)\n",
    "\n",
    "ak,   \\\n",
    "k_1, \\\n",
    "k_2, \\\n",
    "k_3, \\\n",
    "k_4, \\\n",
    "k_5, \\\n",
    "k_6, \\\n",
    "k_7 , \\\n",
    "= symbols('ak k_1 k_2 k_3 k_4 k_5 k_6 k_7')\n",
    "\n"
   ]
  },
  {
   "cell_type": "code",
   "execution_count": 3,
   "id": "96fb581a",
   "metadata": {},
   "outputs": [
    {
     "name": "stdout",
     "output_type": "stream",
     "text": [
      "A =  cos((r - r_max)*k[1])\n",
      "dA/dr = -sin((r - r_max)*k[1])*k[1]\n"
     ]
    }
   ],
   "source": [
    "# Defining an arbitrary analytical function for the speed of sound\n",
    "# as well as taking its derivative and the derivative of the square\n",
    "# of the speed of sound \n",
    "\n",
    "A_analytic = sp.cos(k[1]*(r-r_max))\n",
    "dA_analytic_dr = diff(A_analytic,r)\n",
    "\n",
    "print('A = '    ,A_analytic)\n",
    "print('dA/dr =', dA_analytic_dr)"
   ]
  },
  {
   "cell_type": "code",
   "execution_count": 4,
   "id": "3db70fce",
   "metadata": {},
   "outputs": [
    {
     "name": "stdout",
     "output_type": "stream",
     "text": [
      "M_theta = sqrt(2)*sqrt(-r*sin((r - r_max)*k[1])*k[1]/((kappa - 1)*cos((r - r_max)*k[1])))\n"
     ]
    }
   ],
   "source": [
    "dA_analytic_sq_dr = diff(A_analytic**2,r)\n",
    "\n",
    "# Using the expression for the tangential Mach number, M_t above ...\n",
    "\n",
    "M_t_analytic = sp.sqrt(r/((kappa-1)*A_analytic**2) * (dA_analytic_sq_dr))\n",
    "\n",
    "print('M_theta =', M_t_analytic)\n"
   ]
  },
  {
   "cell_type": "code",
   "execution_count": 5,
   "id": "d04a3222",
   "metadata": {},
   "outputs": [],
   "source": [
    "# Now we define the symbolic variables required for the eigenproblem\n",
    "# note that we still need functions for the perturbation variables\n",
    "\n",
    "i, A, m, gamma   = symbols('i A m gamma')\n",
    "\n",
    "v_r, v_t, v_x, p = symbols('v_r v_t v_x p ')\n",
    "\n",
    "M_t, M_x         = symbols('M_t M_x')\n",
    "\n",
    "dp_dr, dv_r_dr   = symbols('dp_dr dv_r_dr')\n",
    "\n",
    "dM_x_dr, dM_t_dr = symbols('dM_x_dr dM_t_dr')\n"
   ]
  },
  {
   "cell_type": "code",
   "execution_count": 6,
   "id": "0e836d28",
   "metadata": {},
   "outputs": [
    {
     "name": "stdout",
     "output_type": "stream",
     "text": [
      "S_1 -M_t**2*p*(kappa - 1)/(2*r) + 2.0*M_t*v_t/r - dp_dr + i*v_r*(M_t*m/r - M_x*gamma - ak/A)\n",
      "S_2 i*m*p/r + i*v_t*(M_t*m/r - M_x*gamma - ak/A) + v_r*(-M_t**3*r*(kappa/2 - 1/2) + M_t/r - dM_t_dr)\n",
      "S_3 gamma*i*p + i*v_x*(M_t*m/r - M_x*gamma - ak/A) + v_r*(-M_t**3*r*(kappa/2 - 1/2) + dM_x_dr)\n",
      "S_4 dv_r_dr + gamma*i*v_x + i*m*v_t/r + i*p*(M_t*m/r - M_x*gamma - ak/A) + v_r*(M_t**2*r*(kappa/2 - 1/2) + 1/r)\n"
     ]
    }
   ],
   "source": [
    "S_1 = i*(-ak/A + (m/r)*M_t - gamma*M_x)*v_r + \\\n",
    "\\\n",
    "(2.0/r)*M_t*v_t - dp_dr - ((kappa - 1)/(2*r))*M_t**2*p\n",
    "\n",
    "S_2 = i*(-ak/A + (m/r)*M_t - gamma*M_x)*v_t + \\\n",
    "\\\n",
    "(M_t/r - dM_t_dr - ((kappa - 1)/2*r)*M_t**3)*v_r + i*m*p/r\n",
    "\n",
    "S_3 = i*(-ak/A + (m/r)*M_t - gamma*M_x)*v_x + \\\n",
    "\\\n",
    "(dM_x_dr - ((kappa - 1)/2*r)*M_t**3)*v_r + i*gamma*p\n",
    "\n",
    "S_4 = i*(-ak/A + (m/r)*M_t - gamma*M_x)*p   \\\n",
    "\\\n",
    "+ dv_r_dr + (((kappa - 1)/2*r)*M_t**2 + 1/r)*v_r + i*m*v_t/r + i*gamma*v_x\n",
    "\n",
    "# Lets look at the source terms\n",
    "print('S_1',S_1)\n",
    "print('S_2',S_2)\n",
    "print('S_3',S_3)\n",
    "print('S_4',S_4)"
   ]
  },
  {
   "cell_type": "markdown",
   "id": "47353029",
   "metadata": {},
   "source": [
    "Now Lets make the mean flow substitutions from the Speed of Sound.\n",
    "We still need to define an analytical axial Mach number as well as \n",
    "functions for the perturbation variables"
   ]
  },
  {
   "cell_type": "code",
   "execution_count": 7,
   "id": "cfe99514",
   "metadata": {},
   "outputs": [],
   "source": [
    "S_1 = (S_1.subs({A:A_analytic, M_t:M_t_analytic}))\n",
    "S_2 = (S_2.subs({A:A_analytic, M_t:M_t_analytic}))\n",
    "S_3 = (S_3.subs({A:A_analytic, M_t:M_t_analytic}))\n",
    "S_4 = (S_4.subs({A:A_analytic, M_t:M_t_analytic}))"
   ]
  },
  {
   "cell_type": "code",
   "execution_count": 8,
   "id": "bed3de1c",
   "metadata": {},
   "outputs": [
    {
     "name": "stdout",
     "output_type": "stream",
     "text": [
      "S_1 -dp_dr + i*(-ak/cos((r - r_max)*k[1]) - gamma*cos((r - r_max)*k[2]) + sqrt(2)*m*sqrt(-r*sin((r - r_max)*k[1])*k[1]/((kappa - 1)*cos((r - r_max)*k[1])))/r)*cos((r - r_max)*k[3]) + sin((r - r_max)*k[1])*cos((r - r_max)*k[6])*k[1]/cos((r - r_max)*k[1]) + 2.0*sqrt(2)*sqrt(-r*sin((r - r_max)*k[1])*k[1]/((kappa - 1)*cos((r - r_max)*k[1])))*cos((r - r_max)*k[4])/r\n",
      "S_2 i*m*cos((r - r_max)*k[6])/r + i*(-ak/cos((r - r_max)*k[1]) - gamma*cos((r - r_max)*k[2]) + sqrt(2)*m*sqrt(-r*sin((r - r_max)*k[1])*k[1]/((kappa - 1)*cos((r - r_max)*k[1])))/r)*cos((r - r_max)*k[4]) + (-dM_t_dr - 2*sqrt(2)*r*(-r*sin((r - r_max)*k[1])*k[1]/((kappa - 1)*cos((r - r_max)*k[1])))**(3/2)*(kappa/2 - 1/2) + sqrt(2)*sqrt(-r*sin((r - r_max)*k[1])*k[1]/((kappa - 1)*cos((r - r_max)*k[1])))/r)*cos((r - r_max)*k[3])\n",
      "S_3 gamma*i*cos((r - r_max)*k[6]) + i*(-ak/cos((r - r_max)*k[1]) - gamma*cos((r - r_max)*k[2]) + sqrt(2)*m*sqrt(-r*sin((r - r_max)*k[1])*k[1]/((kappa - 1)*cos((r - r_max)*k[1])))/r)*cos((r - r_max)*k[5]) + (dM_x_dr - 2*sqrt(2)*r*(-r*sin((r - r_max)*k[1])*k[1]/((kappa - 1)*cos((r - r_max)*k[1])))**(3/2)*(kappa/2 - 1/2))*cos((r - r_max)*k[3])\n",
      "S_4 dv_r_dr + gamma*i*cos((r - r_max)*k[5]) + i*m*cos((r - r_max)*k[4])/r + i*(-ak/cos((r - r_max)*k[1]) - gamma*cos((r - r_max)*k[2]) + sqrt(2)*m*sqrt(-r*sin((r - r_max)*k[1])*k[1]/((kappa - 1)*cos((r - r_max)*k[1])))/r)*cos((r - r_max)*k[6]) + (-2*r**2*(kappa/2 - 1/2)*sin((r - r_max)*k[1])*k[1]/((kappa - 1)*cos((r - r_max)*k[1])) + 1/r)*cos((r - r_max)*k[3])\n"
     ]
    }
   ],
   "source": [
    "M_x_analytical = sp.cos(k[2]*(r - r_max))\n",
    "v_r_analytical = sp.cos(k[3]*(r - r_max))\n",
    "v_t_analytical = sp.cos(k[4]*(r - r_max))\n",
    "v_x_analytical = sp.cos(k[5]*(r - r_max))\n",
    "p_analytical   = sp.cos(k[6]*(r - r_max))\n",
    "\n",
    "\n",
    "S_1 = (S_1.subs({M_x:M_x_analytical, \\\n",
    "                 v_r:v_r_analytical, \\\n",
    "                 v_t:v_t_analytical, \\\n",
    "                 v_x:v_x_analytical, \\\n",
    "                 p:p_analytical, \\\n",
    "                }))\n",
    "\n",
    "S_2 = (S_2.subs({M_x:M_x_analytical, \\\n",
    "                 v_r:v_r_analytical, \\\n",
    "                 v_t:v_t_analytical, \\\n",
    "                 v_x:v_x_analytical, \\\n",
    "                 p:p_analytical, \\\n",
    "                }))\n",
    "\n",
    "S_3 = (S_3.subs({M_x:M_x_analytical, \\\n",
    "                 v_r:v_r_analytical, \\\n",
    "                 v_t:v_t_analytical, \\\n",
    "                 v_x:v_x_analytical, \\\n",
    "                 p:p_analytical, \\\n",
    "                }))\n",
    "\n",
    "S_4 = (S_4.subs({M_x:M_x_analytical, \\\n",
    "                 v_r:v_r_analytical, \\\n",
    "                 v_t:v_t_analytical, \\\n",
    "                 v_x:v_x_analytical, \\\n",
    "                 p:p_analytical, \\\n",
    "                }))\n",
    "\n",
    "print('S_1' ,S_1)\n",
    "print('S_2' ,S_2)\n",
    "print('S_3' ,S_3)\n",
    "print('S_4' ,S_4)"
   ]
  },
  {
   "cell_type": "markdown",
   "id": "c6b230ab",
   "metadata": {},
   "source": [
    "Note that there is still derivative terms in each of the source terms, let's evaluate those derivatives\n",
    "and substitute those in"
   ]
  },
  {
   "cell_type": "code",
   "execution_count": 9,
   "id": "1572f3b0",
   "metadata": {},
   "outputs": [
    {
     "name": "stdout",
     "output_type": "stream",
     "text": [
      "S_1 i*(-ak/cos((r - r_max)*k[1]) - gamma*cos((r - r_max)*k[2]) + sqrt(2)*m*sqrt(-r*sin((r - r_max)*k[1])*k[1]/((kappa - 1)*cos((r - r_max)*k[1])))/r)*cos((r - r_max)*k[3]) + sin((r - r_max)*k[1])*cos((r - r_max)*k[6])*k[1]/cos((r - r_max)*k[1]) + sin((r - r_max)*k[6])*k[6] + 2.0*sqrt(2)*sqrt(-r*sin((r - r_max)*k[1])*k[1]/((kappa - 1)*cos((r - r_max)*k[1])))*cos((r - r_max)*k[4])/r\n",
      "S_2 i*m*cos((r - r_max)*k[6])/r + i*(-ak/cos((r - r_max)*k[1]) - gamma*cos((r - r_max)*k[2]) + sqrt(2)*m*sqrt(-r*sin((r - r_max)*k[1])*k[1]/((kappa - 1)*cos((r - r_max)*k[1])))/r)*cos((r - r_max)*k[4]) + (-2*sqrt(2)*r*(-r*sin((r - r_max)*k[1])*k[1]/((kappa - 1)*cos((r - r_max)*k[1])))**(3/2)*(kappa/2 - 1/2) + sqrt(2)*sqrt(-r*sin((r - r_max)*k[1])*k[1]/((kappa - 1)*cos((r - r_max)*k[1])))*(kappa - 1)*(-r*sin((r - r_max)*k[1])**2*k[1]**2/(2*(kappa - 1)*cos((r - r_max)*k[1])**2) - r*k[1]**2/(2*(kappa - 1)) - sin((r - r_max)*k[1])*k[1]/(2*(kappa - 1)*cos((r - r_max)*k[1])))*cos((r - r_max)*k[1])/(r*sin((r - r_max)*k[1])*k[1]) + sqrt(2)*sqrt(-r*sin((r - r_max)*k[1])*k[1]/((kappa - 1)*cos((r - r_max)*k[1])))/r)*cos((r - r_max)*k[3])\n",
      "S_3 gamma*i*cos((r - r_max)*k[6]) + i*(-ak/cos((r - r_max)*k[1]) - gamma*cos((r - r_max)*k[2]) + sqrt(2)*m*sqrt(-r*sin((r - r_max)*k[1])*k[1]/((kappa - 1)*cos((r - r_max)*k[1])))/r)*cos((r - r_max)*k[5]) + (-2*sqrt(2)*r*(-r*sin((r - r_max)*k[1])*k[1]/((kappa - 1)*cos((r - r_max)*k[1])))**(3/2)*(kappa/2 - 1/2) - sin((r - r_max)*k[2])*k[2])*cos((r - r_max)*k[3])\n",
      "S_4 gamma*i*cos((r - r_max)*k[5]) + i*m*cos((r - r_max)*k[4])/r + i*(-ak/cos((r - r_max)*k[1]) - gamma*cos((r - r_max)*k[2]) + sqrt(2)*m*sqrt(-r*sin((r - r_max)*k[1])*k[1]/((kappa - 1)*cos((r - r_max)*k[1])))/r)*cos((r - r_max)*k[6]) + (-2*r**2*(kappa/2 - 1/2)*sin((r - r_max)*k[1])*k[1]/((kappa - 1)*cos((r - r_max)*k[1])) + 1/r)*cos((r - r_max)*k[3]) - sin((r - r_max)*k[3])*k[3]\n"
     ]
    }
   ],
   "source": [
    "dp_dr_analytical   = p_analytical.diff(r)\n",
    "\n",
    "dv_r_dr_analytical = v_r_analytical.diff(r) \n",
    "\n",
    "dM_x_dr_analytical = M_x_analytical.diff(r)\n",
    "\n",
    "dM_t_dr_analytical = M_t_analytic.diff(r)\n",
    "\n",
    "\n",
    "S_1 = (S_1.subs({ \\\n",
    "                 dp_dr:dp_dr_analytical, \\\n",
    "                 dv_r_dr:dv_r_dr_analytical, \\\n",
    "                 dM_x_dr:dM_x_dr_analytical, \\\n",
    "                 dM_t_dr:dM_t_dr_analytical, \\\n",
    "                }))\n",
    "\n",
    "S_2 = (S_2.subs({ \\\n",
    "                 dp_dr:dp_dr_analytical, \\\n",
    "                 dv_r_dr:dv_r_dr_analytical, \\\n",
    "                 dM_x_dr:dM_x_dr_analytical, \\\n",
    "                 dM_t_dr:dM_t_dr_analytical, \\\n",
    "                }))\n",
    "\n",
    "S_3 = (S_3.subs({ \\\n",
    "                 dp_dr:dp_dr_analytical, \\\n",
    "                 dv_r_dr:dv_r_dr_analytical, \\\n",
    "                 dM_x_dr:dM_x_dr_analytical, \\\n",
    "                 dM_t_dr:dM_t_dr_analytical, \\\n",
    "                }))\n",
    "\n",
    "S_4 = (S_4.subs({ \\\n",
    "                 dp_dr:dp_dr_analytical, \\\n",
    "                 dv_r_dr:dv_r_dr_analytical, \\\n",
    "                 dM_x_dr:dM_x_dr_analytical, \\\n",
    "                 dM_t_dr:dM_t_dr_analytical, \\\n",
    "                }))\n",
    "\n",
    "print('S_1' ,S_1)\n",
    "print('S_2' ,S_2)\n",
    "print('S_3' ,S_3)\n",
    "print('S_4' ,S_4)"
   ]
  },
  {
   "cell_type": "code",
   "execution_count": 10,
   "id": "c1028bc3",
   "metadata": {},
   "outputs": [],
   "source": [
    "\n",
    "fS_1 = fcode(S_1,source_format='free',standard=95)\n",
    "fS_2 = fcode(S_2,source_format='free',standard=95)\n",
    "fS_3 = fcode(S_3,source_format='free',standard=95)\n",
    "fS_4 = fcode(S_4,source_format='free',standard=95)\n",
    "\n",
    "fS_1 = \"    S_1 = \" + re.sub(r\"gamma\",'gam',fS_1) + \"\\n\"\n",
    "fS_2 = \"    S_2 = \" + re.sub(r\"gamma\",'gam',fS_2) + \"\\n\"\n",
    "fS_3 = \"    S_3 = \" + re.sub(r\"gamma\",'gam',fS_3) + \"\\n\"\n",
    "fS_4 = \"    S_4 = \" + re.sub(r\"gamma\",'gam',fS_4) + \"\\n\"\n",
    "\n",
    "S_list = []\n",
    "S_list.append(fS_1)\n",
    "S_list.append(fS_2)\n",
    "S_list.append(fS_3)\n",
    "S_list.append(fS_4)\n",
    "S_list = ''.join(S_list)\n",
    "\n",
    "f_code_header = ''' \n",
    "! gam - axial wavenumber \n",
    "! kappa - ratio of specific heats\n",
    "! i - imaginary number\n",
    "\n",
    "    SUBROUTINE SourceCalc(& \n",
    "    gam  , &\n",
    "    i    , &\n",
    "    ak   , &\n",
    "    k    , &\n",
    "    kappa, &\n",
    "    m    , & \n",
    "    r    , &\n",
    "    r_max, &\n",
    "    S_1  , &\n",
    "    S_2  , &\n",
    "    S_3  , &\n",
    "    S_4)\n",
    "    \n",
    "    INTEGER :: m\n",
    "    REAL(KIND=rDef)   , INTENT(IN) :: kappa,r,r_max \n",
    "    COMPLEX(KIND=rDef), INTENT(IN) :: i, gam, ak           \n",
    "    COMPLEX(KIND=rDef), INTENT(OUT) :: S_1, S_2, S_3, S_4\n",
    "    COMPLEX(KIND=rDef), DIMENSION(:), INTENT(OUT) :: k\n",
    "    \n",
    "'''\n",
    "\n",
    "f_code_footer = '''\n",
    "    END SUBROUTINE SourceCalc\n",
    "'''\n"
   ]
  },
  {
   "cell_type": "code",
   "execution_count": 11,
   "id": "757d6ef9",
   "metadata": {},
   "outputs": [],
   "source": [
    "with open('S_1.tex','w') as f:\n",
    "    f.write(latex(S_1))"
   ]
  },
  {
   "cell_type": "code",
   "execution_count": 12,
   "id": "2ac9bf2d",
   "metadata": {},
   "outputs": [],
   "source": [
    "with open('SourceTermMMS.f90','w') as f:\n",
    "    #Fortran wrapper goes here \n",
    "    f.write(f_code_header)\n",
    "    f.write(S_list)\n",
    "    f.write(f_code_footer)"
   ]
  },
  {
   "cell_type": "markdown",
   "id": "36f9512d",
   "metadata": {},
   "source": []
  },
  {
   "cell_type": "code",
   "execution_count": null,
   "id": "9fa7a2bf",
   "metadata": {},
   "outputs": [],
   "source": []
  }
 ],
 "metadata": {
  "kernelspec": {
   "display_name": "Python 3",
   "language": "python",
   "name": "python3"
  },
  "language_info": {
   "codemirror_mode": {
    "name": "ipython",
    "version": 3
   },
   "file_extension": ".py",
   "mimetype": "text/x-python",
   "name": "python",
   "nbconvert_exporter": "python",
   "pygments_lexer": "ipython3",
   "version": "3.8.8"
  }
 },
 "nbformat": 4,
 "nbformat_minor": 5
}
