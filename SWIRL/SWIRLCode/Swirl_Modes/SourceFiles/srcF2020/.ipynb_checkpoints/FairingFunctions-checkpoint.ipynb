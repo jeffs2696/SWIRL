{
 "cells": [
  {
   "cell_type": "code",
   "execution_count": 62,
   "id": "35eaf5f8-7a1b-4685-9257-6a3b89ed1b1a",
   "metadata": {},
   "outputs": [],
   "source": [
    "%run set-up.ipynb"
   ]
  },
  {
   "cell_type": "markdown",
   "id": "1e471fc5-6781-48c8-8cc2-8d4ff5330a11",
   "metadata": {},
   "source": [
    "# Setting Up Boundary Condition Values Using a Fairing Function\n",
    "\n",
    "Given a specified analytical function , $ f(\\widetilde{r}) $, \n",
    "\\begin{align*}                                            \\widetilde{r} = \\frac{r - r_{min}}{r_{max} - r_{min}}                                                \n",
    "\\end{align*} \n",
    "\n",
    "Substituting $r_{min}$ $r_{max}$ for $r$ gives,                                                          \n",
    "                                                                                                         \n",
    "\\begin{align*}                                                                                           \n",
    "    \\widetilde{r}_{min} &= \\frac{r_{min} - r_{min}}{r_{max} - r_{min}} = 0\\\\                             \n",
    "    \\widetilde{r}_{max} &= \\frac{r_{max} - r_{min}}{r_{max} - r_{min}} = 1                               \n",
    "\\end{align*}                                                                                             \n",
    "                                                                                                         \n",
    "The goal is to set desired values at the boundaries of the specified analytical                          \n",
    "function. First we define the values at the boundaries, i.e.                                             \n",
    "\\begin{align*}                                                                                           \n",
    "    f(\\widetilde{r} &= \\widetilde{r}_{min}) = f_{min}     \\\\                                             \n",
    "    f(\\widetilde{r} &= \\widetilde{r}_{max}) = f_{max}                                                    \n",
    "\\end{align*}                                                                                             \n",
    "                                                                                                         \n",
    "Then, the change between our desired boundary condition value and the actual is,                         \n",
    "To do so, a desired change in the boundary condition must be defined.                                    \n",
    "                                                                                                         \n",
    "\\begin{align*}                                                                                           \n",
    "    \\Delta f_{min} =  (f_{min}) - (f_{min})_{desired}   \\\\                                               \n",
    "    \\Delta f_{max} =  (f_{max}) - (f_{max})_{desired}                                                    \n",
    "\\end{align*}                                                                                             \n",
    "To ensure that the desired changes are imposed \\textit{smoothly}. The smoothness                         \n",
    "of a function is measured by the number of continuous derivatives the desired function                   \n",
    "has over the domain of the function. At the very minimum, a smooth function will be continuous and       \n",
    "hence differentiable everywhere. When generating manufactured solutions, smoothness                      \n",
    "of the solution is often times assumed but is not guaranteed "
   ]
  },
  {
   "cell_type": "code",
   "execution_count": 63,
   "id": "0ea8469a-1361-4840-bf0e-69499fe15b30",
   "metadata": {},
   "outputs": [],
   "source": []
  },
  {
   "cell_type": "code",
   "execution_count": 63,
   "id": "dc022b8c-4928-4192-9e8f-90c36e085c72",
   "metadata": {},
   "outputs": [],
   "source": [
    "r, r_max, r_min = sp.symbols('r r_max r_min')\n",
    "A_min, A_max    = sp.symbols('A_min, A_max')"
   ]
  },
  {
   "cell_type": "code",
   "execution_count": 64,
   "id": "3a0c8722-fbab-420b-ba4a-0e58c7ac7b34",
   "metadata": {},
   "outputs": [],
   "source": [
    "f, f_imposed, f_min, f_max \\\n",
    "                = sp.symbols('f, f_imposed, f_min, f_max')\n",
    "\n",
    "del_f_min, f_min_desired, \\\n",
    "del_f_max, f_max_desired  \\\n",
    "                = sp.symbols('del_f_min, f_min_desired, del_f_max, f_max_desired')\n",
    "\n",
    "r_hat = (r - r_min)/(r_max - r_min)\n",
    "\n",
    "del_f_min = f_min - f_min_desired\n",
    "del_f_max = f_max - f_max_desired"
   ]
  },
  {
   "cell_type": "code",
   "execution_count": 65,
   "id": "d53c2779-b322-403a-a6fe-ba69af941a55",
   "metadata": {},
   "outputs": [],
   "source": [
    "r_hat_max = r_hat.subs('r','r_max')\n",
    "r_hat_min = r_hat.subs('r','r_min')"
   ]
  },
  {
   "cell_type": "code",
   "execution_count": 66,
   "id": "1dd67303-5e69-4933-8f5b-658f72ed81ac",
   "metadata": {},
   "outputs": [],
   "source": [
    "f_imposed = f + A_min*del_f_min - A_max*del_f_max"
   ]
  },
  {
   "cell_type": "code",
   "execution_count": 67,
   "id": "1cf0b2f8-895b-4490-9524-fc45b82dd371",
   "metadata": {},
   "outputs": [],
   "source": [
    "A_max         = 3*r_hat**2 - 2*r_hat**3 \n",
    "A_min         = 1 - A_max\n",
    "f_min         = sp.cos(r_hat_min)-1\n",
    "f_max         = sp.cos(r_hat_max)-1\n",
    "f             = sp.cos(r_hat)-1\n",
    "f_max_desired = 0\n",
    "f_min_desired = 0"
   ]
  },
  {
   "cell_type": "code",
   "execution_count": 68,
   "id": "8aef7057-5929-4c12-a177-3bfa65c1616b",
   "metadata": {},
   "outputs": [
    {
     "name": "stdout",
     "output_type": "stream",
     "text": [
      "0\n",
      "0\n"
     ]
    }
   ],
   "source": [
    "f_imposed = f_imposed.subs(\\\n",
    "               [(sp.Symbol('f')    ,f), \\\n",
    "                (sp.Symbol('f_min'),f_min),\\\n",
    "                (sp.Symbol('f_max'),f_max), \\\n",
    "                (sp.Symbol('f_min_desired'),f_min_desired), \\\n",
    "                (sp.Symbol('f_max_desired'),f_max_desired), \\\n",
    "                (sp.Symbol('A_min'),A_min), \\\n",
    "                (sp.Symbol('A_max'),A_max) ])\n",
    "f_imposed_min = f_imposed.subs(r,r_min)\n",
    "f_imposed_max = f_imposed.subs(r,r_max)\n",
    "pprint(f_imposed_min)\n",
    "pprint(f_imposed_max.round())"
   ]
  },
  {
   "cell_type": "code",
   "execution_count": null,
   "id": "c253c393-9efc-4354-9b76-89e2b934201b",
   "metadata": {},
   "outputs": [],
   "source": []
  },
  {
   "cell_type": "code",
   "execution_count": null,
   "id": "dbd30238-9f77-4402-bb89-02d25e51683e",
   "metadata": {},
   "outputs": [],
   "source": []
  }
 ],
 "metadata": {
  "kernelspec": {
   "display_name": "Python 3",
   "language": "python",
   "name": "python3"
  },
  "language_info": {
   "codemirror_mode": {
    "name": "ipython",
    "version": 3
   },
   "file_extension": ".py",
   "mimetype": "text/x-python",
   "name": "python",
   "nbconvert_exporter": "python",
   "pygments_lexer": "ipython3",
   "version": "3.8.8"
  },
  "toc-autonumbering": false,
  "toc-showmarkdowntxt": false
 },
 "nbformat": 4,
 "nbformat_minor": 5
}
