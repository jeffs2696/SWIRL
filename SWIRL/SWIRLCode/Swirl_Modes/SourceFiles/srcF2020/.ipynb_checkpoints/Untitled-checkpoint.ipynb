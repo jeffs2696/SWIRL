{
 "cells": [
  {
   "cell_type": "code",
   "execution_count": 1,
   "id": "35eaf5f8-7a1b-4685-9257-6a3b89ed1b1a",
   "metadata": {},
   "outputs": [],
   "source": [
    "%run set-up.ipynb\n",
    "from sympy import Function"
   ]
  },
  {
   "cell_type": "code",
   "execution_count": 2,
   "id": "a3e66bb3-2a94-4f6d-b0e9-a3decdbcb4c3",
   "metadata": {},
   "outputs": [],
   "source": [
    "r, r_max, r_min = sp.symbols('r r_max r_min')\n",
    "A_min, A_max    = sp.symbols('A_min, A_max')"
   ]
  },
  {
   "cell_type": "code",
   "execution_count": 3,
   "id": "3a0c8722-fbab-420b-ba4a-0e58c7ac7b34",
   "metadata": {},
   "outputs": [],
   "source": [
    "f, f_imposed, f_min, f_max \\\n",
    "                = sp.symbols('f, f_imposed, f_min, f_max')\n",
    "del_f_min, f_min_desired, \\\n",
    "del_f_max, f_max_desired  \\\n",
    "                = sp.symbols('del_f_min, f_min_desired, del_f_max, f_max_desired')\n",
    "r_hat = (r - r_min)/(r_max - r_min)\n",
    "\n",
    "del_f_min = f_min - f_min_desired\n",
    "del_f_max = f_max - f_max_desired"
   ]
  },
  {
   "cell_type": "code",
   "execution_count": 4,
   "id": "d53c2779-b322-403a-a6fe-ba69af941a55",
   "metadata": {},
   "outputs": [],
   "source": [
    "r_hat_max = r_hat.subs('r','r_max')\n",
    "r_hat_min = r_hat.subs('r','r_min')"
   ]
  },
  {
   "cell_type": "code",
   "execution_count": 5,
   "id": "1dd67303-5e69-4933-8f5b-658f72ed81ac",
   "metadata": {},
   "outputs": [],
   "source": [
    "f_imposed = f + A_min*del_f_min + A_max*del_f_max"
   ]
  },
  {
   "cell_type": "code",
   "execution_count": 6,
   "id": "1cf0b2f8-895b-4490-9524-fc45b82dd371",
   "metadata": {},
   "outputs": [],
   "source": [
    "A_max =3*r_hat**2 - 2*r_hat**3 \n",
    "A_min = 1 - A_max\n",
    "f_min = cos(r_hat_min)-1\n",
    "f_max = cos(r_hat_max)-1"
   ]
  },
  {
   "cell_type": "code",
   "execution_count": 11,
   "id": "8aef7057-5929-4c12-a177-3bfa65c1616b",
   "metadata": {},
   "outputs": [
    {
     "name": "stdout",
     "output_type": "stream",
     "text": [
      "-f_max_desired - 2 + 2⋅cos(1)\n"
     ]
    }
   ],
   "source": [
    "A_min = 1 - A_max\n",
    "f_imposed = f_imposed.subs([(f,cos(r_hat)-1), \\\n",
    "                (sp.Symbol('f_min'),f_min),\\\n",
    "                (sp.Symbol('f_max'),f_max), \\\n",
    "                (sp.Symbol('A_min'),A_min), \\\n",
    "                (sp.Symbol('A_max'),A_max) ])\n",
    "\n",
    "pprint(f_imposed.subs(r,r_max))"
   ]
  },
  {
   "cell_type": "code",
   "execution_count": null,
   "id": "c253c393-9efc-4354-9b76-89e2b934201b",
   "metadata": {},
   "outputs": [],
   "source": []
  },
  {
   "cell_type": "code",
   "execution_count": null,
   "id": "dbd30238-9f77-4402-bb89-02d25e51683e",
   "metadata": {},
   "outputs": [],
   "source": []
  }
 ],
 "metadata": {
  "kernelspec": {
   "display_name": "Python 3",
   "language": "python",
   "name": "python3"
  },
  "language_info": {
   "codemirror_mode": {
    "name": "ipython",
    "version": 3
   },
   "file_extension": ".py",
   "mimetype": "text/x-python",
   "name": "python",
   "nbconvert_exporter": "python",
   "pygments_lexer": "ipython3",
   "version": "3.8.8"
  }
 },
 "nbformat": 4,
 "nbformat_minor": 5
}
