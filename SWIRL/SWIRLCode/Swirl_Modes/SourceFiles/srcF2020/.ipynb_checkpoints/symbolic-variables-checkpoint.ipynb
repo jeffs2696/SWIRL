{
 "cells": [
  {
   "cell_type": "code",
   "execution_count": 1,
   "id": "3afc0d09-8a8d-4dd8-9fc5-0566d0b92f43",
   "metadata": {},
   "outputs": [
    {
     "ename": "NameError",
     "evalue": "name 'symbols' is not defined",
     "output_type": "error",
     "traceback": [
      "\u001b[0;31m---------------------------------------------------------------------------\u001b[0m",
      "\u001b[0;31mNameError\u001b[0m                                 Traceback (most recent call last)",
      "\u001b[0;32m<ipython-input-1-cae6bb1dff92>\u001b[0m in \u001b[0;36m<module>\u001b[0;34m\u001b[0m\n\u001b[1;32m      3\u001b[0m \u001b[0;34m\u001b[0m\u001b[0m\n\u001b[1;32m      4\u001b[0m \u001b[0;31m# radius, maximum radius, and ratio of specific heats\u001b[0m\u001b[0;34m\u001b[0m\u001b[0;34m\u001b[0m\u001b[0;34m\u001b[0m\u001b[0m\n\u001b[0;32m----> 5\u001b[0;31m \u001b[0mr\u001b[0m\u001b[0;34m,\u001b[0m \u001b[0mr_max\u001b[0m\u001b[0;34m,\u001b[0m \u001b[0mkappa\u001b[0m \u001b[0;34m=\u001b[0m \u001b[0msymbols\u001b[0m\u001b[0;34m(\u001b[0m\u001b[0;34m'r r_max kappa'\u001b[0m\u001b[0;34m)\u001b[0m\u001b[0;34m\u001b[0m\u001b[0;34m\u001b[0m\u001b[0m\n\u001b[0m\u001b[1;32m      6\u001b[0m \u001b[0;34m\u001b[0m\u001b[0m\n\u001b[1;32m      7\u001b[0m \u001b[0;31m# arbitrary constants\u001b[0m\u001b[0;34m\u001b[0m\u001b[0;34m\u001b[0m\u001b[0;34m\u001b[0m\u001b[0m\n",
      "\u001b[0;31mNameError\u001b[0m: name 'symbols' is not defined"
     ]
    }
   ],
   "source": [
    "# Defining symbolic variables needed for this code.\n",
    "# all units are dimensionless! \n",
    "\n",
    "# radius, maximum radius, and ratio of specific heats\n",
    "r, r_max, kappa = symbols('r r_max kappa')\n",
    "\n",
    "# arbitrary constants\n",
    "k = symbols('k', cls=IndexedBase)\n",
    "one, \\\n",
    "two, \\\n",
    "three\\\n",
    "  = symbols('one two three')\n",
    "C = symbols('C')\n",
    "x = symbols('x')\n",
    "\n",
    "# reduced frequency\n",
    "ak = symbols('ak')\n",
    "\n",
    "# imaginary #, Speed of sound, azimuthal mode number, axial wavenumber \n",
    "i, A, m, gamma   = symbols('i A m gamma')\n",
    "v_r, v_t, v_x, p = symbols('v_r v_t v_x p ')\n",
    "M_t, M_x         = symbols('M_t M_x')\n",
    "dp_dr, dv_r_dr   = symbols('dp_dr dv_r_dr')\n",
    "dM_x_dr, dM_t_dr = symbols('dM_x_dr dM_t_dr')\n",
    "\n",
    "#locations of inflection Points for tanh\n",
    "r2 , r3  = symbols('r2 r3')\n",
    "#unused?\n",
    "j        = symbols('j')"
   ]
  },
  {
   "cell_type": "code",
   "execution_count": null,
   "id": "90c22756-5ce8-4dd1-a899-38a9bddb5546",
   "metadata": {},
   "outputs": [],
   "source": []
  }
 ],
 "metadata": {
  "kernelspec": {
   "display_name": "Python 3",
   "language": "python",
   "name": "python3"
  },
  "language_info": {
   "codemirror_mode": {
    "name": "ipython",
    "version": 3
   },
   "file_extension": ".py",
   "mimetype": "text/x-python",
   "name": "python",
   "nbconvert_exporter": "python",
   "pygments_lexer": "ipython3",
   "version": "3.8.8"
  }
 },
 "nbformat": 4,
 "nbformat_minor": 5
}
