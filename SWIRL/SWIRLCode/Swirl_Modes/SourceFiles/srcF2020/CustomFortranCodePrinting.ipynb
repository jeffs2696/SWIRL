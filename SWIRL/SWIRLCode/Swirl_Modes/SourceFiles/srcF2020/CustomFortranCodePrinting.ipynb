{
 "cells": [
  {
   "cell_type": "code",
   "execution_count": null,
   "id": "625a1327-8e97-4790-93f1-1da7e54dad91",
   "metadata": {},
   "outputs": [],
   "source": []
  },
  {
   "cell_type": "code",
   "execution_count": null,
   "id": "2a7ccb4e-0a6e-43b3-880a-d9237b1697e5",
   "metadata": {},
   "outputs": [],
   "source": [
    "# Working with sympy's fortran printer\n",
    "from sympy.printing.fortran import FCodePrinter, Assignment\n",
    "from sympy.printing.codeprinter import CodePrinter"
   ]
  },
  {
   "cell_type": "markdown",
   "id": "c4827c72-dc00-4356-af71-2eb4c9511349",
   "metadata": {},
   "source": [
    "All printing classes have to be instantiated and then the `.doprint()` method can be used to print SymPy expressions. Let's try the source terms"
   ]
  },
  {
   "cell_type": "markdown",
   "id": "51c6c888-42da-4e71-94de-3c7b23f9a85c",
   "metadata": {},
   "source": [
    "Resolved Issues\n",
    "<ul>\n",
    "<li>The default printer settings are <code>{'standard': 2003, 'source_format': 'free'}</code> which gives unwanted @ signs for line delimeters. Changing the standard to 95 fixes this</li>\n",
    "</ul>\n",
    "Unresolved Issues\n",
    "<ul>\n",
    "    <li> numbers use <code>d0</code> to designate double by default. I'd like to use rDef </li>\n",
    "</ul>"
   ]
  },
  {
   "cell_type": "code",
   "execution_count": null,
   "id": "e3f0a2ef-7289-4328-a2c1-a4287abe0254",
   "metadata": {},
   "outputs": [],
   "source": [
    "printer_settings = {\\\n",
    "                    'standard': 95       , \\\n",
    "                    'source_format': 'free'}\n",
    "\n",
    "printer = FCodePrinter(printer_settings)"
   ]
  },
  {
   "cell_type": "code",
   "execution_count": null,
   "id": "118a8e36-9b45-4a6a-95fc-4988cbd71417",
   "metadata": {},
   "outputs": [],
   "source": [
    "# print(printer.doprint(S_A))"
   ]
  },
  {
   "cell_type": "markdown",
   "id": "8c9fcd60-d144-47a6-b56e-548705c0de2e",
   "metadata": {},
   "source": [
    "In this case, the Fortran code printer does not do what we desire. It does not support printing a SymPy Matrix (see the first line of the output from <code>print(printer.doprint(S_A))</code> ). It returns\n",
    "<code>\n",
    "    !Not supported in Fortran:\n",
    "    ! ImmutableDenseMatrix ...\n",
    "</code> "
   ]
  },
  {
   "cell_type": "markdown",
   "id": "90a08a02-8e1a-4e18-833a-002f02bf994a",
   "metadata": {},
   "source": [
    "## Changing the Behavior of FCodePrinter\n",
    "\n",
    "The SymPy code printers are relatively easy to extend. They are designed such that if you want to change how a particular a SymPy object prints, for example <code>Symbol</code>, then you only need to modify the <code>\\_print\\_Symbol</code> method of the printer. In general, the code printers have a method for every SymPy object and also many builtin types. Use tab comletion with <code>FCodePrinter.\\_print\\_</code> to see all the options"
   ]
  },
  {
   "cell_type": "code",
   "execution_count": null,
   "id": "dabb9443-50ef-42c5-85f3-833d66c567f3",
   "metadata": {},
   "outputs": [],
   "source": [
    "# FCodePrinter._print_Mul??"
   ]
  },
  {
   "cell_type": "code",
   "execution_count": null,
   "id": "bc4f6eb5-abcb-4278-8acc-3a7e32d68915",
   "metadata": {},
   "outputs": [],
   "source": [
    "#wow no support for this...\n",
    "# is the support\n",
    "#CodePrinter._print_Mul??"
   ]
  },
  {
   "cell_type": "code",
   "execution_count": null,
   "id": "b4ba2a4d-9fe5-4dbe-a057-116b663fd297",
   "metadata": {},
   "outputs": [],
   "source": [
    "#class MyCodePrinter(FCodePrinter):\n",
    "#    def _print_Mul(self,mul):\n",
    "#        if mul in states:\n",
    "#            idx = list(states).index(mul)\n",
    "#            return self._print('state_vals[{}]'.format(idx))\n",
    "#        else:\n",
    "#            return super()._print_Mul(mul)"
   ]
  },
  {
   "cell_type": "code",
   "execution_count": null,
   "id": "1945a101-71c4-48f0-9017-b03c1513a53f",
   "metadata": {},
   "outputs": [],
   "source": [
    "#my_printer = MyCodePrinter()\n",
    "assign = (Assignment(sp.MatrixSymbol('S_A',4,4),S_A))\n",
    "print(assign)\n"
   ]
  },
  {
   "cell_type": "code",
   "execution_count": null,
   "id": "2f9a7578-775b-4d02-9539-06511029c3f3",
   "metadata": {},
   "outputs": [],
   "source": [
    "from sympy.codegen.fnodes import Module"
   ]
  },
  {
   "cell_type": "code",
   "execution_count": null,
   "id": "c3de69c7-8cc4-4235-984d-633df9fa335c",
   "metadata": {},
   "outputs": [],
   "source": []
  }
 ],
 "metadata": {
  "kernelspec": {
   "display_name": "Python 3",
   "language": "python",
   "name": "python3"
  },
  "language_info": {
   "codemirror_mode": {
    "name": "ipython",
    "version": 3
   },
   "file_extension": ".py",
   "mimetype": "text/x-python",
   "name": "python",
   "nbconvert_exporter": "python",
   "pygments_lexer": "ipython3",
   "version": "3.8.8"
  }
 },
 "nbformat": 4,
 "nbformat_minor": 5
}
