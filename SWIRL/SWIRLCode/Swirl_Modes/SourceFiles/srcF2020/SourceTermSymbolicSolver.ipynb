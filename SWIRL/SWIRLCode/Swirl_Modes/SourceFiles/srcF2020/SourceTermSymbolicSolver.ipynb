{
 "cells": [
  {
   "cell_type": "markdown",
   "id": "d36074f7",
   "metadata": {},
   "source": [
    "# Applying the Method Of Manufactured Solutions to SWIRL"
   ]
  },
  {
   "cell_type": "markdown",
   "id": "da7ce38c-af5c-4786-8b94-a94da6c2dc5c",
   "metadata": {},
   "source": [
    "## Introduction"
   ]
  },
  {
   "cell_type": "markdown",
   "id": "922ca11e-6c15-4193-a22c-fffc7f0039b7",
   "metadata": {},
   "source": [
    "The method of manufactured solutions (MMS) is a general procedure for constructing an analytical solution and determining the accuracy via convergence rate. As a result, MMS serves as a means of code verification. In this work, SWIRL, a code used to calculate the radial modes within an infinitely long duct, is validated using MMS. SWIRL has two components that require numerical techniques and approximation. First, SWIRL accepts a given mean flow and uses numerical integration to obtain the speed of sound.  Secondly, SWIRL constructs a linear matrix equation using the Linearized Euler Equations (LEE) as a function of radius. This work aims to use the Method of Manufactured solutions to reassure that these two steps lead to accurate results."
   ]
  },
  {
   "cell_type": "code",
   "execution_count": 1,
   "id": "4cc47d3b",
   "metadata": {
    "tags": []
   },
   "outputs": [],
   "source": [
    "# Set Up Libraries\n",
    "%run set-up.ipynb\n",
    "%run symbolic-variables.ipynb\n",
    "%run mms-mean-flow.ipynb\n",
    "# import functions\n",
    "%run SourceSubstitutionFunction.ipynb"
   ]
  },
  {
   "cell_type": "markdown",
   "id": "7a983c1f-c8f0-46ef-979e-5c9766149fed",
   "metadata": {
    "tags": []
   },
   "source": [
    "### Defining Linearized Euler Equation (LEE) Source Terms"
   ]
  },
  {
   "cell_type": "markdown",
   "id": "2905c098-0534-4b58-ac76-fa868cb046c6",
   "metadata": {
    "tags": []
   },
   "source": [
    "Initially the source terms were defined without mention of the indices of the matrices they make up. In other words, there was no fore sight on the fact that these source terms are sums \n",
    "of the elements within A,B, and X. To investigate the source terms in greater detail, the FORTRAN code that calls the source terms will output the terms within the source term and then sum them, instead of just their sum."
   ]
  },
  {
   "cell_type": "markdown",
   "id": "a7ff6c69-0b2d-4305-8f5b-73b9c63ecc75",
   "metadata": {
    "tags": []
   },
   "source": [
    "#### Eigenvalue Decomposition"
   ]
  },
  {
   "cell_type": "markdown",
   "id": "27d56c62-9f2b-4443-b19b-3641cbd8872b",
   "metadata": {
    "tags": []
   },
   "source": [
    "\n",
    "$$ [A]{x} = \\lambda [B] {x} $$\n",
    "\n",
    "which can be rearranged as,\n",
    "\n",
    "$$ [A]{x} - \\lambda [B] {x} = 0$$\n",
    "\n",
    "Here, $x$ is an eigenvector composed of the perturbation variables, $v_r,v_{\\theta},v_x,p$ and $\\lambda$ is the associated eigenvalue, (Note: $\\lambda = -i \\bar{\\gamma}$)\n",
    "\n",
    "Writing this out we obtain ....\n",
    "\n",
    "Linear System of Equations:\n",
    "\\begin{equation}\n",
    "-\n",
    "i \\left(\n",
    "\\frac{k}{A} - \\frac{m}{r} M_{\\theta}\n",
    "\\right)\n",
    "v_r \n",
    "-\n",
    "\\frac{2}{r} M_{\\theta} v_{\\theta} \n",
    "+\n",
    "\\frac{dp}{dr} \n",
    "+\n",
    "\\frac{(\\kappa - 1)}{r} M_{\\theta}^2 p\n",
    "-\n",
    "\\lambda M_x v_r =S_1\n",
    "\\end{equation}\n",
    "\n",
    "Using matrix notation,\n",
    "\n",
    "\\begin{equation}\n",
    "A_{11}\n",
    "x_1 \n",
    "-\n",
    "A_{12} x_2 \n",
    "+\n",
    "A_{14} x_4\n",
    "-\n",
    "\\lambda B_{11} x_1 = S_1\n",
    "\\end{equation}\n",
    "\n",
    "But $A_{14}$ and $A_{41}$ in Kousen's paper only has the derivative operator. Since I am currntly writing the matrix out term by term and not doing the matrix math to obtain the symbolic expressions, I will define $A_{14}$ with $dp/dr$ and $A_{41}$ with $dv_r/dr$\n",
    "Similarly,\n",
    "\\begin{align}\n",
    "A_{21} x_1 &-\n",
    "A_{22} x_2 +\n",
    "A_{24} x_4 &-\n",
    "\\lambda B_{22} x_2 &= S_2 \\\\\n",
    "A_{31} x_1 &-\n",
    "A_{33} x_3 &-\n",
    "\\lambda (B_{33} x_3 + B_{34} x_4) &= S_3\\\\\n",
    "A_{41} x_1 &+\n",
    "A_{42} x_2 +\n",
    "A_{44} x_4 &- \n",
    "\\lambda (B_{33} x_3 + B_{44} x_4) &= S_4\n",
    "\\end{align}\n",
    "Now we can begin looking at the source terms, term by term. They each should also converge at a known rate"
   ]
  },
  {
   "cell_type": "code",
   "execution_count": 2,
   "id": "9e011436",
   "metadata": {
    "tags": []
   },
   "outputs": [],
   "source": [
    "%run SourceTermSystemOfEquations.ipynb"
   ]
  },
  {
   "cell_type": "markdown",
   "id": "b9c5d928-0345-4aec-bc62-851c6c0786ed",
   "metadata": {},
   "source": [
    "Now lets get these source terms by using the matrix form of the equations and see if they're\n",
    "equal"
   ]
  },
  {
   "cell_type": "code",
   "execution_count": 3,
   "id": "07531b2d",
   "metadata": {
    "tags": []
   },
   "outputs": [
    {
     "name": "stdout",
     "output_type": "stream",
     "text": [
      "True\n",
      "True\n",
      "True\n",
      "True\n"
     ]
    }
   ],
   "source": [
    "%run SourceTermMatrixEquation.ipynb\n",
    "# Checking if the matrix expressions equal the linear system of equations\n",
    "print(S[0].equals(SS[0]))\n",
    "print(S[1].equals(SS[1]))\n",
    "print(S[2].equals(SS[2]))\n",
    "print(S[3].equals(SS[3]))"
   ]
  },
  {
   "cell_type": "markdown",
   "id": "6c9f8b25-c4c0-4486-b639-c7325413dcf8",
   "metadata": {},
   "source": [
    "## Generating a block diagonal matrix "
   ]
  },
  {
   "cell_type": "code",
   "execution_count": 4,
   "id": "198b3520",
   "metadata": {
    "tags": []
   },
   "outputs": [],
   "source": [
    "#now that we set the matricies up lets get our individual terms \n",
    "A_times_x        = sp.Matrix(sp.zeros(len(S),len(S)))\n",
    "lambda_B_times_x = sp.Matrix(sp.zeros(len(S),len(S)))\n",
    "\n",
    "for j in range(len(S)):\n",
    "    for i in range(len(S)):\n",
    "        A_times_x[i,j]        = [AA[i,j]*XX[j]]\n",
    "        lambda_B_times_x[i,j] = Lambda*BB[i,j]*XX[j]"
   ]
  },
  {
   "cell_type": "code",
   "execution_count": 5,
   "id": "0f78a427",
   "metadata": {
    "tags": []
   },
   "outputs": [
    {
     "name": "stdout",
     "output_type": "stream",
     "text": [
      "True\n",
      "True\n",
      "True\n",
      "True\n"
     ]
    }
   ],
   "source": [
    "for i in range(len(S)):\n",
    "    match =(S[i].equals( \\\n",
    "                  A_times_x[i,0] + \\\n",
    "                  A_times_x[i,1] + \\\n",
    "                  A_times_x[i,2] + \\\n",
    "                  A_times_x[i,3] -\\\n",
    "                 (lambda_B_times_x[i,0] + \\\n",
    "                  lambda_B_times_x[i,1] + \\\n",
    "                  lambda_B_times_x[i,2] + \\\n",
    "                  lambda_B_times_x[i,3])))\n",
    "    print(match)\n",
    "# notes on differences between system of equations and Ax-lambda Bx    \n",
    "# multiplying (1/p) and not (one/p) by dp_dr made  S_1 and SS[1] the same\n",
    "# multiplied i gamma p term by \"one\" in S_3\n",
    "# multiplied by 1/v_r by d_v_dr and i v_x gamma terM by one"
   ]
  },
  {
   "cell_type": "code",
   "execution_count": 6,
   "id": "23c45dfe",
   "metadata": {
    "tags": []
   },
   "outputs": [],
   "source": [
    "for i in range(len(S)):\n",
    "    S[i] = SourceSubstitution(S[i], \\\n",
    "                       A_analytic         , \\\n",
    "                       M_t_analytic   , \\\n",
    "                       M_x_analytical     , \\\n",
    "                       v_r_analytical     , \\\n",
    "                       v_t_analytical     , \\\n",
    "                       v_x_analytical     , \\\n",
    "                       p_analytical       , \\\n",
    "                       dp_dr_analytical   , \\\n",
    "                       dv_r_dr_analytical , \\\n",
    "                       dM_x_dr_analytical , \\\n",
    "                       dM_t_dr_analytical , \\\n",
    "                       )\n",
    "\n",
    "for i in range(len(A_times_x[:,0])):\n",
    "    for j in range(len(A_times_x[0,:])):\n",
    "        A_times_x[i,j] = SourceSubstitution(\\\n",
    "                       A_times_x[i,j], \\\n",
    "                       A_analytic         , \\\n",
    "                       M_t_analytic   , \\\n",
    "                       M_x_analytical     , \\\n",
    "                       v_r_analytical     , \\\n",
    "                       v_t_analytical     , \\\n",
    "                       v_x_analytical     , \\\n",
    "                       p_analytical       , \\\n",
    "                       dp_dr_analytical   , \\\n",
    "                       dv_r_dr_analytical , \\\n",
    "                       dM_x_dr_analytical , \\\n",
    "                       dM_t_dr_analytical , \\\n",
    "                                      ) \n",
    "        lambda_B_times_x[i,j] = SourceSubstitution(\\\n",
    "                       lambda_B_times_x[i,j], \\\n",
    "                       A_analytic         , \\\n",
    "                       M_t_analytic   , \\\n",
    "                       M_x_analytical     , \\\n",
    "                       v_r_analytical     , \\\n",
    "                       v_t_analytical     , \\\n",
    "                       v_x_analytical     , \\\n",
    "                       p_analytical       , \\\n",
    "                       dp_dr_analytical   , \\\n",
    "                       dv_r_dr_analytical , \\\n",
    "                       dM_x_dr_analytical , \\\n",
    "                       dM_t_dr_analytical , \\\n",
    "                                         )"
   ]
  },
  {
   "cell_type": "code",
   "execution_count": 7,
   "id": "98228e7f-d5f9-40f1-bbff-ca7a9d6d5f6b",
   "metadata": {
    "tags": []
   },
   "outputs": [],
   "source": [
    "%run create-fortran-file-sound-speed.ipynb"
   ]
  },
  {
   "cell_type": "code",
   "execution_count": 8,
   "id": "776ce4e8-cfa4-496c-a22c-2c3f1e38be1d",
   "metadata": {
    "tags": []
   },
   "outputs": [],
   "source": [
    "%run create-fortran-file-perturbation-variables.ipynb"
   ]
  },
  {
   "cell_type": "code",
   "execution_count": 9,
   "id": "768b6222-f7ec-49bc-8610-6099e529f543",
   "metadata": {
    "tags": []
   },
   "outputs": [],
   "source": [
    "S_1 = S[0]\n",
    "S_2 = S[1]\n",
    "S_3 = S[2]\n",
    "S_4 = S[3]\n",
    "%run create-fortran-file-LEE-source-terms.ipynb\n",
    "%run create-fortran-file-LEE-source-terms-components.ipynb"
   ]
  },
  {
   "cell_type": "code",
   "execution_count": null,
   "id": "ef5c7864-f302-49e7-aa45-5359135b703a",
   "metadata": {},
   "outputs": [],
   "source": []
  }
 ],
 "metadata": {
  "kernelspec": {
   "display_name": "Python 3",
   "language": "python",
   "name": "python3"
  },
  "language_info": {
   "codemirror_mode": {
    "name": "ipython",
    "version": 3
   },
   "file_extension": ".py",
   "mimetype": "text/x-python",
   "name": "python",
   "nbconvert_exporter": "python",
   "pygments_lexer": "ipython3",
   "version": "3.8.8"
  },
  "toc-autonumbering": true,
  "toc-showmarkdowntxt": false
 },
 "nbformat": 4,
 "nbformat_minor": 5
}
