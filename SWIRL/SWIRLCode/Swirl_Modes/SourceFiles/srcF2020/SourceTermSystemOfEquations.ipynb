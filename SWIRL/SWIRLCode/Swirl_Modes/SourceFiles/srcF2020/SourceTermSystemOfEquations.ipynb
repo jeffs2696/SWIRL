{
 "cells": [
  {
   "cell_type": "code",
   "execution_count": null,
   "id": "cf1acaee-a948-47fc-9b25-90009bde3105",
   "metadata": {},
   "outputs": [],
   "source": [
    "S = list(range(4)) \n",
    "S[0] = \\\n",
    "-i*(ak/A - (m/r)*M_t - gamma*M_x)*v_r  -\\\n",
    "\\\n",
    "(two/r)*M_t*v_t + dp_dr + ((kappa - one)/r)*(M_t**two)*p\n",
    "\n",
    "S[1] = \\\n",
    "-i*(ak/A - (m/r)*M_t - gamma*M_x)*v_t + \\\n",
    "\\\n",
    "(M_t/r + dM_t_dr + ((kappa - one)/(two*r))*M_t**three)*v_r + i*m*p/r\n",
    "\n",
    "S[2] = \\\n",
    "-i*(ak/A - (m/r)*M_t - gamma*M_x)*v_x + \\\n",
    "\\\n",
    "(dM_x_dr + ((kappa - one)/(two*r))*M_x*M_t**two)*v_r + i*one*gamma*p\n",
    " \n",
    "S[3] = \\\n",
    "-i*(ak/A - (m/r)*M_t - gamma*M_x)*p   \\\n",
    "\\\n",
    "+ dv_r_dr + (((kappa + one)/(two*r))*M_t**two + one/r)*v_r + i*m*v_t/r + i*one*gamma*v_x\n"
   ]
  }
 ],
 "metadata": {
  "kernelspec": {
   "display_name": "Python 3",
   "language": "python",
   "name": "python3"
  },
  "language_info": {
   "codemirror_mode": {
    "name": "ipython",
    "version": 3
   },
   "file_extension": ".py",
   "mimetype": "text/x-python",
   "name": "python",
   "nbconvert_exporter": "python",
   "pygments_lexer": "ipython3",
   "version": "3.8.8"
  }
 },
 "nbformat": 4,
 "nbformat_minor": 5
}
