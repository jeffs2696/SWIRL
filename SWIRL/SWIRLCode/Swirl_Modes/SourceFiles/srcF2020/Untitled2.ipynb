{
 "cells": [
  {
   "cell_type": "code",
   "execution_count": 1,
   "id": "51bbcb5e-8c16-45cf-8cb0-e2604d500d1c",
   "metadata": {},
   "outputs": [],
   "source": [
    "%run 1-Set-Up.ipynb"
   ]
  },
  {
   "cell_type": "code",
   "execution_count": 4,
   "id": "8b0a639c-db2d-43c2-98d0-5042e234cb5c",
   "metadata": {},
   "outputs": [
    {
     "data": {
      "image/png": "[encoded data removed]",
      "text/latex": [
       "$\\displaystyle \\left[\\begin{matrix}1\\\\1\\end{matrix}\\right]$"
      ],
      "text/plain": [
       "⎡1⎤\n",
       "⎢ ⎥\n",
       "⎣1⎦"
      ]
     },
     "execution_count": 4,
     "metadata": {},
     "output_type": "execute_result"
    }
   ],
   "source": [
    "k, j = symbols('k j')\n",
    "np = 3\n",
    "for \n",
    "Matrix((1,1))"
   ]
  },
  {
   "cell_type": "code",
   "execution_count": null,
   "id": "61dbdd33-9e7c-4f27-8c4c-f695b254b51d",
   "metadata": {},
   "outputs": [],
   "source": []
  }
 ],
 "metadata": {
  "kernelspec": {
   "display_name": "Python 3",
   "language": "python",
   "name": "python3"
  },
  "language_info": {
   "codemirror_mode": {
    "name": "ipython",
    "version": 3
   },
   "file_extension": ".py",
   "mimetype": "text/x-python",
   "name": "python",
   "nbconvert_exporter": "python",
   "pygments_lexer": "ipython3",
   "version": "3.8.8"
  }
 },
 "nbformat": 4,
 "nbformat_minor": 5
}
