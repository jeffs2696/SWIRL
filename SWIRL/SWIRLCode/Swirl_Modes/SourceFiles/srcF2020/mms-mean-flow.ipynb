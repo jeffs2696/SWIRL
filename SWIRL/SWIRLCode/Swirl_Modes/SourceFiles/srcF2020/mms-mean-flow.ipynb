{
 "cells": [
  {
   "cell_type": "code",
   "execution_count": null,
   "id": "0610d35f-525c-42e0-8d87-fc36628d7858",
   "metadata": {},
   "outputs": [],
   "source": [
    "RightKink = \\\n",
    "k[1]*sp.tanh(k[2]*(r - r_max)) + \\\n",
    "k[1]*sp.tanh(k[2]*(r - r2)) + \\\n",
    "k[1]*sp.tanh(k[2]*(r - r3))\n",
    "\n",
    "LeftKink = \\\n",
    "k[1]*sp.tanh(k[2]*(r_max - r_max)) + \\\n",
    "k[1]*sp.tanh(k[2]*(r2    - r_max)) + \\\n",
    "k[1]*sp.tanh(k[2]*(r3    - r_max))\n",
    "\n",
    "S_vertical = one\n",
    "A_analytic        =  S_vertical + LeftKink + RightKink \n",
    "dA_analytic_dr    = diff(A_analytic,r)\n",
    "dA_analytic_sq_dr = diff(A_analytic**two,r)\n",
    "M_t_analytic      = sp.sqrt( \\\n",
    "                       r/((kappa-one)*A_analytic**two) * \\\n",
    "                       (dA_analytic_sq_dr))\n",
    "\n",
    "M_x_analytical = sp.sin(k[3]*(r - r_max))\n",
    "v_t_analytical = sp.sin(k[5]*(r - r_max))\n",
    "v_x_analytical = sp.sin(k[6]*(r - r_max))\n",
    "# these need to be zero at the wall!\n",
    "v_r_analytical = sp.cos(k[4]*(r - r_max)) - 1\n",
    "p_analytical   = sp.cos(k[7]*(r - r_max)) - 1\n",
    "\n",
    "dp_dr_analytical   = p_analytical.diff(r)\n",
    "dv_r_dr_analytical = v_r_analytical.diff(r) \n",
    "dM_x_dr_analytical = M_x_analytical.diff(r)\n",
    "dM_t_dr_analytical = M_t_analytic.diff(r)"
   ]
  }
 ],
 "metadata": {
  "kernelspec": {
   "display_name": "Python 3",
   "language": "python",
   "name": "python3"
  },
  "language_info": {
   "codemirror_mode": {
    "name": "ipython",
    "version": 3
   },
   "file_extension": ".py",
   "mimetype": "text/x-python",
   "name": "python",
   "nbconvert_exporter": "python",
   "pygments_lexer": "ipython3",
   "version": "3.8.8"
  }
 },
 "nbformat": 4,
 "nbformat_minor": 5
}
