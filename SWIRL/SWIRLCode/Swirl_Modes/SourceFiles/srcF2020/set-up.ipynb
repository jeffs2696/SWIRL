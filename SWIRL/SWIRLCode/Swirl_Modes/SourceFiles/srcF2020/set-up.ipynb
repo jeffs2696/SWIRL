{
 "cells": [
  {
   "cell_type": "code",
   "execution_count": null,
   "id": "84574fad-9c63-45dd-8896-88e555864c03",
   "metadata": {},
   "outputs": [],
   "source": []
  },
  {
   "cell_type": "code",
   "execution_count": null,
   "id": "e2278a5e",
   "metadata": {},
   "outputs": [],
   "source": [
    "# Importing libraries\n",
    "from sympy import *\n",
    "from sympy.plotting import plot\n",
    "from sympy.utilities.codegen import codegen\n",
    "from sympy.utilities.autowrap import autowrap\n",
    "from sympy.interactive import printing\n",
    "from numpy import linspace\n",
    "printing.init_printing(use_latex = True) \n",
    "# general libraries\n",
    "import sympy as sp\n",
    "import numpy as np\n",
    "import math\n",
    "import re\n",
    "import numpy as np\n",
    "import matplotlib.pyplot as plt\n",
    "# custom libraries \n"
   ]
  }
 ],
 "metadata": {
  "kernelspec": {
   "display_name": "Python 3",
   "language": "python",
   "name": "python3"
  },
  "language_info": {
   "codemirror_mode": {
    "name": "ipython",
    "version": 3
   },
   "file_extension": ".py",
   "mimetype": "text/x-python",
   "name": "python",
   "nbconvert_exporter": "python",
   "pygments_lexer": "ipython3",
   "version": "3.8.8"
  }
 },
 "nbformat": 4,
 "nbformat_minor": 5
}
