{
 "cells": [
  {
   "cell_type": "markdown",
   "id": "d36074f7",
   "metadata": {},
   "source": [
    "# Applying the Method Of Manufactured Solutions to SWIRL "
   ]
  },
  {
   "cell_type": "markdown",
   "id": "da7ce38c-af5c-4786-8b94-a94da6c2dc5c",
   "metadata": {
    "tags": []
   },
   "source": [
    "## Introduction"
   ]
  },
  {
   "cell_type": "markdown",
   "id": "922ca11e-6c15-4193-a22c-fffc7f0039b7",
   "metadata": {
    "tags": []
   },
   "source": [
    "The method of manufactured solutions (MMS) is a general procedure for constructing an analytical solution and determining the accuracy via convergence rate. As a result, MMS serves as a means of code verification. In this work, SWIRL, a code used to calculate the radial modes within an infinitely long duct, is validated using MMS. SWIRL has two components that require numerical techniques and approximation. First, SWIRL accepts a given mean flow and uses numerical integration to obtain the speed of sound.  Secondly, SWIRL constructs a linear matrix equation using the Linearized Euler Equations (LEE) as a function of radius. This work aims to use the Method of Manufactured solutions to reassure that these two steps lead to accurate results."
   ]
  },
  {
   "cell_type": "code",
   "execution_count": 1,
   "id": "42d554ff-cace-4ef0-906b-02cb77cc7388",
   "metadata": {
    "scrolled": true,
    "slideshow": {
     "slide_type": "slide"
    },
    "tags": []
   },
   "outputs": [],
   "source": [
    "# Set Up Libraries\n",
    "%run 01-set-up.ipynb"
   ]
  },
  {
   "cell_type": "code",
   "execution_count": 2,
   "id": "9414ada4-fd54-4e00-b108-504bad440173",
   "metadata": {
    "slideshow": {
     "slide_type": "slide"
    },
    "tags": []
   },
   "outputs": [],
   "source": [
    "# Defining the necessary symbolic variables\n",
    "%run 02-symbolic-variables.ipynb"
   ]
  },
  {
   "cell_type": "markdown",
   "id": "59e87cf3-c026-4a03-8f5b-35b9828834b7",
   "metadata": {
    "tags": []
   },
   "source": [
    "# Mean Flow Manufactured Solutions\n",
    "For SWIRL, the absolute bare minimum requirement is to define the correspond-\n",
    "ing flow components for the domain of interest. SWIRL assumes no flow in the\n",
    "radial direction, leaving only two other components, axial and tangential for a\n",
    "3D cylindrical domain. Since SWIRL is also non dimensionalized, the mean flow\n",
    "components are defined using the Mach number. SWIRL uses the tangential\n",
    "mach number to obtain the speed of sound using numerical integration. The\n",
    "speed of sound is then used to find the rest of the primative variables for the\n",
    "given flow.\n",
    "The goal is to manufacture functions that will test the numerical integration\n",
    "used to obtain the speed of sound. This requires a manufactured function for\n",
    "either the tangential Mach number or the speed of sound.\n",
    "## Checking if guidelines for creating manufactured solutions are followed\n",
    "\n",
    "1. smooth, i.e. continuous\n",
    "2. general enough to exercise each term in the governing equations\n",
    "3. Enough derivatives to appropriately test scheme\n",
    "4. bounded by a small constant\n",
    "5. Make the same assumptions as code (non-dimensional variables, so they\n",
    "    should not exceed one or be negative)\n",
    "6. Defined on a connected subset oF 2d/3d space\n",
    "7. function needs to make sense to the derivatives in the pde\n"
   ]
  },
  {
   "cell_type": "markdown",
   "id": "abb0bc2f-27be-4604-b442-eb1b7d9c536c",
   "metadata": {
    "tags": []
   },
   "source": [
    "### Theory\n",
    "#### Aerodynamic Model and the Mean Flow Assumptions\n",
    "\n",
    "To relate the speed of sound to a given flow, the radial momentum equation\n",
    "is used.  If the flow contains a swirling component,then the primitive variables \n",
    "are nonuniform through the flow, and mean flow assumptions are not valid. \n",
    "\\begin{align*}\n",
    "    \\frac{\\partial v_r}{\\partial t} +\n",
    "    v_r \\frac{\\partial v_r}{\\partial r} + \n",
    "    \\frac{v_{\\theta}}{r} \n",
    "    \\frac{\\partial v_{\\theta}}{\\partial \\theta} -\n",
    "    \\frac{v_{\\theta}^2}{r} +\n",
    "    v_x \\frac{\\partial v_r}{\\partial x} =-\n",
    "    \\frac{1}{\\rho}\\frac{\\partial P}{\\partial r}\n",
    "\\end{align*}\n",
    "\n",
    " To account to for this, the radial momentum is simplified by assuming the \n",
    " flow is steady, the flow has no radial component. In addition, the viscous\n",
    " and body forces are neglected.  Then the radial pressure derivative term is\n",
    " set equal to the dynamic pressure term. Seperation of variables is applied.  \n",
    "\n",
    " \\begin{align*}\n",
    "     \\frac{v_{\\theta}^2}{r} = \\frac{1}{\\rho}\\frac{\\partial P}{\\partial r} \\\\\n",
    " P = \\int_{r}^{r_{max}} \\frac{\\rho V_{\\theta}^2}{  r}\n",
    " \\end{align*}\n",
    "\n",
    "To show the work, we will start with the dimensional form of the equation and\n",
    "differentiate both sides.  Applying separation of variables,\n",
    "\n",
    "\n",
    "$$     \\int_{r}^{r_{max}}\n",
    "     \\frac{{\\rho} v_{\\theta}^2}{r} \\partial r \n",
    "     =-\\int_{P(r)}^{P(r_{max})}\\partial p.\n",
    "$$\n",
    "\n",
    "CFD codes are often nondimensional to avoid issues \n",
    "Since $\\tilde{r} = r/r_{max}$,\n",
    "$$r = \\tilde{r}r_{max}.$$\n",
    "Taking total derivatives (i.e. applying chain rule),\n",
    "$$dr = d(\\tilde{r}r_{max}) = d(\\tilde{r})r_{max}, $$\n",
    "Substituting these back in and evaluating the right hand side,\n",
    "$$\n",
    "    \\int_{\\tilde{r}}^{1} \\frac{\\bar{\\rho} v_{\\theta}^2}{\\tilde{r}}\\partial \\tilde{r} \n",
    "    =P(1)-P(\\tilde{r})\n",
    "$$\n",
    "\n",
    "For reference the minimum value of $\\tilde{r}$ is,\n",
    "\n",
    "$$\\sigma = \\frac{r_{max}}{r_{min}}$$\n",
    "\n",
    "For the radial derivative, the definition of the speed of sound is utilized,\n",
    "$$\\frac{\\partial A^2}{\\partial r } =\n",
    "\\frac{\\partial}{\\partial r} \\left( \\frac{\\gamma P}{\\rho} \\right).$$\n",
    "\n",
    "Using the quotient rule, the definition of the speed of sound is extracted,\n",
    "\n",
    "\\begin{align*}\n",
    "&= \\frac{\\partial P}{\\partial r} \\frac{\\gamma \\bar{\\rho}}{\\bar{\\rho}^2} -\n",
    "\\left(\n",
    "    \\frac{\\gamma P}{\\bar{\\rho}^2} \n",
    "\\right) \n",
    "\\frac{\\partial \\bar{\\rho}}{\\partial r}\\\\\n",
    "&=  \\frac{\\partial P}{\\partial r} \\frac{\\gamma }{\\bar{\\rho}} -\n",
    "\\left( \\frac{A^2}{\\bar{\\rho}} \\right) \n",
    "\\frac{\\partial \\bar{\\rho} }{\\partial r}\n",
    "\\end{align*}\n",
    "\n",
    "Using isentropic condition $ \\partial P/A^2 = \\partial \\rho$, \n",
    "\n",
    "\\begin{align*}\n",
    "&= \\frac{\\partial P}{\\partial r} \\frac{\\gamma }{\\bar{\\rho}} -\n",
    "\\left( \\frac{1}{\\bar{\\rho}} \\right) \\frac{\\partial  P }{\\partial r}\\\\\n",
    "\\frac{\\partial A^2}{\\partial r} \n",
    "&= \\frac{\\partial P}{\\partial r} \\frac{\\gamma - 1}{\\bar{\\rho}}  \n",
    "\\end{align*}\n",
    "\n",
    "\\begin{align*}\n",
    "    \\frac{\\bar{\\rho}}{\\gamma -1}\\frac{\\partial A^2}{\\partial r} &= \\frac{\\partial P}{\\partial r} \n",
    "\\end{align*}\n",
    "\n",
    "Going back to the radial momentum equation, and rearranging the terms will simplify \n",
    "the expression. The following terms are defined to start the\n",
    "nondimensionalization.  \n",
    "\n",
    "\\begin{align*}\n",
    "    M_{\\theta} &= \\frac{V_{\\theta}}{A} \\\\ \n",
    "    \\widetilde{r} &= \\frac{r}{r_{max}}  \\\\\n",
    "    \\widetilde{A} &= \\frac{A}{A_{r,max}}  \\\\\n",
    "    A &= \\widetilde{A}{A_{r,max}} \\\\\n",
    "    r &= \\widetilde{r}{r_{max}}\\\\\n",
    "    \\frac{\\partial}{\\partial r} &=\n",
    "    \\frac{\\partial \\widetilde{r}}{\\partial r} \\frac{\\partial}{\\partial \\widetilde{r}}\\\\\n",
    "                                &= \\frac{1}{r_{max}}\\frac{\\partial}{\\partial \\widetilde{r}}\n",
    "\\end{align*}\n",
    "Dividing by $A$,\n",
    "\\begin{align*}\n",
    "    \\frac{M_{\\theta}^2}{r}\\left(\\gamma - 1\\right) \n",
    " &= \\frac{\\partial A^2}{\\partial r} \\frac{1}{A^2}\n",
    "\\end{align*}\n",
    "\n",
    "Now there is two options, either find the derivative of  $\\bar{A}$ or the integral of\n",
    "$M_{\\theta}$ with respect to r.\n",
    "\\begin{align*}\n",
    "\\text{Integrating both sides } \\int_{r}^{r_{max}}\\frac{M_{\\theta}}{r}\\left(\\gamma - 1\\right){\\partial r}  &=\\int_{A^2(r)}^{A^2(r_{max})}\\frac{1}{A^2}  {\\partial A^2}\\\\\n",
    "\\int_{r}^{r_{max}}\\frac{M^2_{\\theta}}{r}\\left(\\gamma - 1\\right){\\partial r}  &=ln(A^2(r_{max})) - ln(A^2(r)) \\\\\n",
    "\\int_{r}^{r_{max}}\\frac{M^2_{\\theta}}{r}\\left(\\gamma - 1\\right){\\partial r}  &=ln\\left(\\frac{A^2(r_{max})}{A^2(r)}\\right) \n",
    "\\end{align*}\n",
    "\n",
    "Defining non dimensional speed of sound $\\tilde{A} = \\frac{A(r)}{A(r_{max})}$\n",
    "\\begin{align*}\n",
    "\\int_{r}^{r_{max}}\\frac{M_{\\theta}}{r}\\left(\\gamma - 1\\right){\\partial r}  &=ln\\left(\\frac{1}{\\tilde{A}^2}\\right) \\\\\n",
    "&= -2ln(\\tilde{A})\\\\\n",
    "\\tilde{A}(r) &= exp\\left[-\\int_{r}^{r_{max}}\\frac{M_{\\theta}}{r}\\frac{\\left(\\gamma - 1\\right)}{2}{\\partial r}\\right] \\\\ \\text{replacing r with }\\tilde{r} \\rightarrow \\tilde{A}(r) &= exp\\left[-\\int_{r}^{r_{max}}\\frac{M_{\\theta}}{r}\\frac{\\left(\\gamma - 1\\right)}{2}{\\partial r}\\right]\\\\\n",
    "\\tilde{A}(\\tilde{r}) &= exp\\left[\\left(\\frac{1 - \\gamma}{2}\\right)\\int_{\\tilde{r}}^{1}\\frac{M_{\\theta}}{\\tilde{r}}{\\partial \\tilde{r}}\\right]\t\n",
    "\\end{align*}\n",
    "\n",
    "Or we can differentiate\n",
    "Solving for $M_{\\theta}$ ,\n",
    "\\begin{align*}\n",
    "M_{\\theta}^2 \n",
    "&= \\frac{\\partial A^2}{\\partial r} \\frac{r}{A^2 \\left(\\gamma - 1\\right)}\n",
    "\\end{align*}\n",
    "Nondimensionalizing and substituting, \n",
    "\n",
    "\\begin{align} \n",
    "    M_{\\theta}^2\n",
    "    \\frac{\\left( \\gamma - 1 \\right)}{\\widetilde{r} r_{max}} &=\n",
    "    \\frac{1}{(\\widetilde{A}A_{r,max})^2}\\frac{A_{r,max}^2}{r_{max}}\n",
    "    \\frac{\\partial \\widetilde{A}^2}{\\partial \\widetilde{r}} \\nonumber \\\\\n",
    "    M_{\\theta}^2     \\frac{\\left( \\gamma - 1 \\right)}{\\widetilde{r} } &=\n",
    "    \\frac{1}{\\widetilde{A}^2}\n",
    "    \\frac{\\partial \\widetilde{A}^2}{\\partial \\widetilde{r}} \\nonumber \\\\\n",
    "    M_{\\theta} &= \\sqrt{\\frac{\\widetilde{r}}{(\\gamma-1) \\widetilde{A}^2}\n",
    "        \\frac{\\partial\\widetilde{A}^2}{\\partial \\widetilde{r} }\n",
    "    } \\label{eq:Mthetabackcalculated}\n",
    "\\end{align}\n",
    "\n",
    "\n",
    " With these guidelines, a function is specified for the speed of sound to conduct\n",
    " a method of manufactured solutions on SWIRL's speed of sound numerical \n",
    " integration. This is checked by observing the tangential mach number \n",
    " produced from the speed of sound and comparing that to the tangential mach number\n",
    " that has been analytically defined."
   ]
  },
  {
   "cell_type": "markdown",
   "id": "4a0daa29-ab35-4b60-abc2-6f9f98f55707",
   "metadata": {
    "tags": []
   },
   "source": [
    "## Tanh Summation Formulation\n",
    "The manufactured solutions for the mean flow are determined using a hyperbolic tangent summation method. This method allows the user to create an arbitrary number of hyperbolic tangents equally spaced apart. \n",
    "\n",
    "here are a few constraints and conditions that must be followed in order for the analytical \n",
    "function to work with SWIRL, \n",
    "\n",
    "The mean flow and speed of sound must be real and positive. This will occur is a speed of sound is chosen such that the tangential mach number is imaginary. The derivative of the speed of sound must be positive. Any bounding constants used with the mean flow should not allow the total Mach number to exceed one. The speed of sound should be one at the outer radius of the cylinder\n",
    "\n",
    "Given these constraints, $tanh(r)$ is chosen as a function since it can be\n",
    "modified to meet the conditions above. Literature (The tanh method: A tool for \n",
    "solving certain classes of nonlinear evolution and wave equations) \n",
    "is a paper than demonstrates the strength of using tanh functions.\n",
    "One additonal benefit of tanh(r) is that it is bounded between one and negative one, i.e.\n",
    "\n",
    "As r $\\rightarrow$ $\\infty$ tanh(r) $\\rightarrow$ 1\n",
    "\n",
    "As -r $\\rightarrow$ $-\\infty$ tanh(r) $\\rightarrow$ -1\n",
    "\n",
    "\n",
    "To test the numerical integration method,  $M_{\\theta}$ is defined as a result \n",
    "of differentiating the speed of sound, $A$. This is done opposed to integrating\n",
    "$M_{\\theta}$ analytically. However, an analytical function can be defined for\n",
    "$M_{\\theta}$, which can then be integrated to find what $\\widetilde{A}$ should be. \n",
    "Instead, the procedure of choice is to back calculate what the appropriate \n",
    "$M_{\\theta}$ is for a given expression for $\\widetilde{A}$.  Since it is easier \n",
    "to take derivatives , we will solve for $M_{\\theta}$ using Equation \\ref{eq:Mthetabackcalculated} ,\n",
    "\n",
    "The goal is generate an MS with a number of stairs that is bounded between\n",
    "zero and one. Here's what my focus group ideas are,\n",
    "\n",
    "\\begin{align*}\n",
    "    1 = R + L \n",
    "\\end{align*}\n",
    "where, 1 is a constraint, and R and L are the two waves when summed need to cancel \n",
    "if it were the exact same amplitude \\& opposite sign \n",
    "\n",
    "so ,\n",
    "\n",
    "\\begin{align*}\n",
    "    R + L = \\tanh(x) + -\\tanh(x) = 0\n",
    "\\end{align*}\n",
    "or in our case,\n",
    "\n",
    "\\begin{align*}\n",
    "    R + L = \\tanh(x) + -\\tanh(x) = 1\n",
    "\\end{align*}\n",
    "\n",
    "We can tweak this by adding knobs by adding knobs A and B. If we dont want \n",
    "the total to not exceed one then, $A_j + A_{j+1} \\cdots A_{last} = 1$. $B_1$ changes\n",
    "the steepnes of the kink that we want. In order to generalize this,\n",
    "\n",
    "\n",
    "\\begin{align*}\n",
    "    \\bar{A} = \\sum_{j=1}^n R_{ij} + \\sum_{j=1}^n L_{ij} \n",
    "\\end{align*}\n",
    "where,\n",
    "\\begin{align*}\n",
    "    R_{ij} = A_j \\tanh(B_j (x_i - x_j)) \\\\ \n",
    "    L_{ij} = A_j \\tanh(B_j (x_j - x_n))  \n",
    "\\end{align*}\n",
    "\n",
    "Letting $n = 3$...\n",
    "\n",
    "\\begin{align*}\n",
    "    \\bar{A} &= S_{vert} + \\sum_{j=1}^3 R_{ij} + \\sum_{j=1}^3 L_{ij} \\\\\n",
    "    \\bar{A} &=\n",
    "     A_1   \\tanh(B_1   (x_i - x_1))  + \n",
    "     A_{2} \\tanh(B_{2} (x_i - x_{2}))  + \n",
    "     A_{3} \\tanh(B_{3} (x_i - x_3)) +  \\\\\n",
    "     A_1   \\tanh(B_1   (x_1 - x_n)) &+ \n",
    "     A_{2} \\tanh(B_{2} (x_2 - x_{n}))  +\n",
    "     A_{3} \\tanh(B_{3} (x_3 - x_n))  \n",
    "\\end{align*}\n",
    "and,\n",
    "\\begin{align*}\n",
    "   A_1 = A_2 = A_3 = k_1 \\\\ \n",
    "   B_1 = B_2 = B_3 = k_2  \n",
    "\\end{align*}\n",
    "\n",
    "\n",
    "\n",
    "\n",
    "For the mean flow, the function used as an\n",
    "\n",
    "The general mathematical formulation is as follows,\n",
    "\n",
    "placeholder\n",
    "\n",
    "then for some functions we need to impose boundary conditions. We will demonstrate how the careless implementation of a boundary condition can lead to close approximations on the interior.\n",
    "\n",
    "fairing function place holder "
   ]
  },
  {
   "cell_type": "code",
   "execution_count": 3,
   "id": "ff6b0b14-5792-491e-98a2-c02cefc94556",
   "metadata": {
    "slideshow": {
     "slide_type": "slide"
    },
    "tags": []
   },
   "outputs": [
    {
     "name": "stdout",
     "output_type": "stream",
     "text": [
      "0.25*tanh(12.5*r - 12.5) + 0.25*tanh(12.5*r - 2.5) + 0.750000001030577\n",
      "3.125*tanh(12.5*r - 12.5)**2 + 3.125*tanh(12.5*r - 2.5)**2 - 6.25 - 1.0*(r*(-0.0200398095526603*tanh(10*r - 10)**2 - 0.0200398095526603*tanh(10*r - 7.5)**2 - 0.0200398095526603*tanh(10*r - 5.0)**2 + 0.0601194286579808)/(0.00100199047763301*tanh(10*r - 10) + 0.00100199047763301*tanh(10*r - 7.5) + 0.00100199047763301*tanh(10*r - 5.0) + 1))**1.0*(0.25*tanh(12.5*r - 12.5) + 0.25*tanh(12.5*r - 2.5) + 0.750000001030577)/r\n",
      "[del_dp_minBC, -3.12509985599234]\n",
      "[del_dp_maxBC, -3.1455355019627]\n",
      "[dp_dr(r=sigma), -3.12509985599234]\n",
      "[dp_dr(r=1), -3.1455355019627]\n"
     ]
    }
   ],
   "source": [
    "# Generating manufactured solutions\n",
    "\n",
    "%run 03-mms-mean-flow.ipynb"
   ]
  },
  {
   "cell_type": "code",
   "execution_count": 4,
   "id": "46caf956-5e07-4b82-b329-78b4332bc08c",
   "metadata": {
    "tags": []
   },
   "outputs": [],
   "source": [
    "# import functions to substitute the manufactured solutions into the LEE\n",
    "%run 04-source-substitution-function.ipynb"
   ]
  },
  {
   "cell_type": "markdown",
   "id": "7a983c1f-c8f0-46ef-979e-5c9766149fed",
   "metadata": {
    "tags": []
   },
   "source": [
    "### Defining Linearized Euler Equation (LEE) Source Terms"
   ]
  },
  {
   "cell_type": "markdown",
   "id": "2905c098-0534-4b58-ac76-fa868cb046c6",
   "metadata": {
    "tags": []
   },
   "source": [
    "Initially the source terms were defined without mention of the indices of the matrices they make up. In other words, there was no fore sight on the fact that these source terms are sums \n",
    "of the elements within A,B, and X. To investigate the source terms in greater detail, the FORTRAN code that calls the source terms will output the terms within the source term and then sum them, instead of just their sum."
   ]
  },
  {
   "cell_type": "markdown",
   "id": "a7ff6c69-0b2d-4305-8f5b-73b9c63ecc75",
   "metadata": {
    "tags": []
   },
   "source": [
    "### Eigenvalue Decomposition"
   ]
  },
  {
   "cell_type": "markdown",
   "id": "27d56c62-9f2b-4443-b19b-3641cbd8872b",
   "metadata": {
    "tags": []
   },
   "source": [
    "\n",
    "$$ [A]{x} = \\lambda [B] {x} $$\n",
    "\n",
    "which can be rearranged as,\n",
    "\n",
    "$$ [A]{x} - \\lambda [B] {x} = 0$$\n",
    "\n",
    "Here, $x$ is an eigenvector composed of the perturbation variables, $v_r,v_{\\theta},v_x,p$ and $\\lambda$ is the associated eigenvalue, (Note: $\\lambda = -i \\bar{\\gamma}$)\n",
    "\n",
    "Writing this out we obtain ....\n",
    "\n",
    "Linear System of Equations:\n",
    "\\begin{equation}\n",
    "-\n",
    "i \\left(\n",
    "\\frac{k}{A} - \\frac{m}{r} M_{\\theta}\n",
    "\\right)\n",
    "v_r \n",
    "-\n",
    "\\frac{2}{r} M_{\\theta} v_{\\theta} \n",
    "+\n",
    "\\frac{dp}{dr} \n",
    "+\n",
    "\\frac{(\\kappa - 1)}{r} M_{\\theta}^2 p\n",
    "-\n",
    "\\lambda M_x v_r =S_1\n",
    "\\end{equation}\n",
    "\n",
    "Using matrix notation,\n",
    "\n",
    "\\begin{equation}\n",
    "A_{11}\n",
    "x_1 \n",
    "-\n",
    "A_{12} x_2 \n",
    "+\n",
    "A_{14} x_4\n",
    "-\n",
    "\\lambda B_{11} x_1 = S_1\n",
    "\\end{equation}\n",
    "\n",
    "But $A_{14}$ and $A_{41}$ in Kousen's paper only has the derivative operator. Since I am currntly writing the matrix out term by term and not doing the matrix math to obtain the symbolic expressions, I will define $A_{14}$ with $dp/dr$ and $A_{41}$ with $dv_r/dr$\n",
    "Similarly,\n",
    "\\begin{align}\n",
    "A_{21} x_1 &-\n",
    "A_{22} x_2 +\n",
    "A_{24} x_4 &-\n",
    "\\lambda B_{22} x_2 &= S_2 \\\\\n",
    "A_{31} x_1 &-\n",
    "A_{33} x_3 &-\n",
    "\\lambda (B_{33} x_3 + B_{34} x_4) &= S_3\\\\\n",
    "A_{41} x_1 &+\n",
    "A_{42} x_2 +\n",
    "A_{44} x_4 &- \n",
    "\\lambda (B_{33} x_3 + B_{44} x_4) &= S_4\n",
    "\\end{align}\n",
    "Now we can begin looking at the source terms, term by term. They each should also converge at a known rate"
   ]
  },
  {
   "cell_type": "code",
   "execution_count": 5,
   "id": "9e011436",
   "metadata": {
    "tags": []
   },
   "outputs": [
    {
     "name": "stdout",
     "output_type": "stream",
     "text": [
      "⎡                two                                                          \n",
      "⎢  Mₜ⋅two⋅vₜ   Mₜ   ⋅p⋅(1.4 - one)                ⎛  Mₜ⋅m        1⎞  i⋅m⋅p    \n",
      "⎢- ───────── + ─────────────────── + dp_dr - i⋅vᵣ⋅⎜- ──── - Mₓ + ─⎟, ───── - i\n",
      "⎣      r                r                         ⎝   r          A⎠    r      \n",
      "\n",
      "                           ⎛       three                      ⎞               \n",
      "    ⎛  Mₜ⋅m        1⎞      ⎜Mₜ   Mₜ     ⋅(1.4 - one)          ⎟               \n",
      "⋅vₜ⋅⎜- ──── - Mₓ + ─⎟ + vᵣ⋅⎜── + ─────────────────── + dM_t_dr⎟, i⋅one⋅p - i⋅v\n",
      "    ⎝   r          A⎠      ⎝r           r⋅two                 ⎠               \n",
      "\n",
      "                         ⎛  two                         ⎞                     \n",
      "  ⎛  Mₜ⋅m        1⎞      ⎜Mₜ   ⋅Mₓ⋅(1.4 - one)          ⎟            i⋅m⋅vₜ   \n",
      "ₓ⋅⎜- ──── - Mₓ + ─⎟ + vᵣ⋅⎜──────────────────── + dM_x_dr⎟, dv_r_dr + ────── + \n",
      "  ⎝   r          A⎠      ⎝       r⋅two                  ⎠              r      \n",
      "\n",
      "                                      ⎛  two                  ⎞⎤\n",
      "               ⎛  Mₜ⋅m        1⎞      ⎜Mₜ   ⋅(one + 1.4)   one⎟⎥\n",
      "i⋅one⋅vₓ - i⋅p⋅⎜- ──── - Mₓ + ─⎟ + vᵣ⋅⎜───────────────── + ───⎟⎥\n",
      "               ⎝   r          A⎠      ⎝      r⋅two          r ⎠⎦\n"
     ]
    }
   ],
   "source": [
    "%run 05-source-term-system-of-equations.ipynb"
   ]
  },
  {
   "cell_type": "markdown",
   "id": "b9c5d928-0345-4aec-bc62-851c6c0786ed",
   "metadata": {
    "tags": []
   },
   "source": [
    "Now lets get these source terms by using the matrix form of the equations and see if they're\n",
    "equal"
   ]
  },
  {
   "cell_type": "code",
   "execution_count": 6,
   "id": "07a2f335-0685-4557-b417-762a408360ea",
   "metadata": {
    "tags": []
   },
   "outputs": [],
   "source": [
    "%run 06-source-term-matrix-equation.ipynb"
   ]
  },
  {
   "cell_type": "code",
   "execution_count": 7,
   "id": "bbf46542-9e2f-42db-af70-693742b26c8a",
   "metadata": {
    "tags": []
   },
   "outputs": [
    {
     "name": "stdout",
     "output_type": "stream",
     "text": [
      "True\n",
      "True\n",
      "True\n",
      "True\n"
     ]
    }
   ],
   "source": [
    "# Checking if the matrix expressions equal the linear system of equations\n",
    "print(S[0].equals(SS[0]))\n",
    "print(S[1].equals(SS[1]))\n",
    "print(S[2].equals(SS[2]))\n",
    "print(S[3].equals(SS[3]))"
   ]
  },
  {
   "cell_type": "code",
   "execution_count": 8,
   "id": "5fdec0e2-d8d9-49cf-9e02-83a97ff0f53a",
   "metadata": {
    "tags": []
   },
   "outputs": [
    {
     "name": "stdout",
     "output_type": "stream",
     "text": [
      "True\n",
      "True\n",
      "True\n",
      "True\n"
     ]
    }
   ],
   "source": [
    "%run 07-source-term-comparison.ipynb"
   ]
  },
  {
   "cell_type": "code",
   "execution_count": 9,
   "id": "be153202-7042-4f9b-9be4-d4d0555e835b",
   "metadata": {
    "tags": []
   },
   "outputs": [],
   "source": [
    "for i in range(len(S)):\n",
    "    S[i] = SourceSubstitution(S[i], \\\n",
    "                       A_analytic         , \\\n",
    "                       M_t_analytic   , \\\n",
    "                       M_x_analytic     , \\\n",
    "                       v_r_analytic     , \\\n",
    "                       v_t_analytic     , \\\n",
    "                       v_x_analytic     , \\\n",
    "                       p_analytic       , \\\n",
    "                       dp_dr_analytic   , \\\n",
    "                       dv_r_dr_analytic , \\\n",
    "                       dM_x_dr_analytic , \\\n",
    "                       dM_t_dr_analytic , \\\n",
    "                       )\n",
    "\n",
    "for i in range(len(A_times_x[:,0])):\n",
    "    for j in range(len(A_times_x[0,:])):\n",
    "        A_times_x[i,j] = SourceSubstitution(\\\n",
    "                       A_times_x[i,j], \\\n",
    "                       A_analytic         , \\\n",
    "                       M_t_analytic   , \\\n",
    "                       M_x_analytic     , \\\n",
    "                       v_r_analytic     , \\\n",
    "                       v_t_analytic     , \\\n",
    "                       v_x_analytic     , \\\n",
    "                       p_analytic       , \\\n",
    "                       dp_dr_analytic   , \\\n",
    "                       dv_r_dr_analytic , \\\n",
    "                       dM_x_dr_analytic , \\\n",
    "                       dM_t_dr_analytic , \\\n",
    "                                      ) \n",
    "        lambda_B_times_x[i,j] = SourceSubstitution(\\\n",
    "                       lambda_B_times_x[i,j], \\\n",
    "                       A_analytic         , \\\n",
    "                       M_t_analytic   , \\\n",
    "                       M_x_analytic     , \\\n",
    "                       v_r_analytic     , \\\n",
    "                       v_t_analytic     , \\\n",
    "                       v_x_analytic     , \\\n",
    "                       p_analytic       , \\\n",
    "                       dp_dr_analytic   , \\\n",
    "                       dv_r_dr_analytic , \\\n",
    "                       dM_x_dr_analytic , \\\n",
    "                       dM_t_dr_analytic , \\\n",
    "                                         )\n"
   ]
  },
  {
   "cell_type": "code",
   "execution_count": 10,
   "id": "98228e7f-d5f9-40f1-bbff-ca7a9d6d5f6b",
   "metadata": {
    "tags": []
   },
   "outputs": [],
   "source": [
    "%run create-fortran-scripts/create-fortran-file-sound-speed.ipynb"
   ]
  },
  {
   "cell_type": "code",
   "execution_count": 11,
   "id": "776ce4e8-cfa4-496c-a22c-2c3f1e38be1d",
   "metadata": {
    "tags": []
   },
   "outputs": [],
   "source": [
    "%run create-fortran-scripts/create-fortran-file-perturbation-variables.ipynb"
   ]
  },
  {
   "cell_type": "code",
   "execution_count": 12,
   "id": "768b6222-f7ec-49bc-8610-6099e529f543",
   "metadata": {
    "tags": []
   },
   "outputs": [],
   "source": [
    "S_1 = S[0]\n",
    "S_2 = S[1]\n",
    "S_3 = S[2]\n",
    "S_4 = S[3]\n",
    "%run create-fortran-scripts/create-fortran-file-LEE-source-terms.ipynb"
   ]
  },
  {
   "cell_type": "code",
   "execution_count": 13,
   "id": "294b626d-aecb-4890-a50a-7e2ed11d316c",
   "metadata": {},
   "outputs": [],
   "source": [
    "%run create-fortran-scripts/create-fortran-file-LEE-source-terms-components.ipynb"
   ]
  },
  {
   "cell_type": "code",
   "execution_count": null,
   "id": "d7fbc70a-679d-4a11-97ff-b7f8ffb5c43f",
   "metadata": {},
   "outputs": [],
   "source": []
  }
 ],
 "metadata": {
  "kernelspec": {
   "display_name": "Python 3",
   "language": "python",
   "name": "python3"
  },
  "language_info": {
   "codemirror_mode": {
    "name": "ipython",
    "version": 3
   },
   "file_extension": ".py",
   "mimetype": "text/x-python",
   "name": "python",
   "nbconvert_exporter": "python",
   "pygments_lexer": "ipython3",
   "version": "3.8.8"
  },
  "toc-autonumbering": false,
  "toc-showcode": false,
  "toc-showmarkdowntxt": false,
  "toc-showtags": false
 },
 "nbformat": 4,
 "nbformat_minor": 5
}
