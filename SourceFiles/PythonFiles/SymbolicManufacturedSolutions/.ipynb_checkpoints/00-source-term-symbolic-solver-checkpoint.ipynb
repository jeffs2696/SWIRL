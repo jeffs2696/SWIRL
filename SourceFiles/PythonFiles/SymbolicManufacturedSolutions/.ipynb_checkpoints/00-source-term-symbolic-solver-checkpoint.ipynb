{
 "cells": [
  {
   "cell_type": "markdown",
   "id": "d36074f7",
   "metadata": {},
   "source": [
    "# Applying the Method Of Manufactured Solutions to SWIRL "
   ]
  },
  {
   "cell_type": "markdown",
   "id": "da7ce38c-af5c-4786-8b94-a94da6c2dc5c",
   "metadata": {
    "tags": []
   },
   "source": [
    "## Introduction"
   ]
  },
  {
   "cell_type": "markdown",
   "id": "922ca11e-6c15-4193-a22c-fffc7f0039b7",
   "metadata": {
    "tags": []
   },
   "source": [
    "The method of manufactured solutions (MMS) is a general procedure for constructing an analytical solution and determining the accuracy via convergence rate. As a result, MMS serves as a means of code verification. In this work, SWIRL, a code used to calculate the radial modes within an infinitely long duct, is validated using MMS. SWIRL has two components that require numerical techniques and approximation. First, SWIRL accepts a given mean flow and uses numerical integration to obtain the speed of sound.  Secondly, SWIRL constructs a linear matrix equation using the Linearized Euler Equations (LEE) as a function of radius. This work aims to use the Method of Manufactured solutions to reassure that these two steps lead to accurate results."
   ]
  },
  {
   "cell_type": "code",
   "execution_count": 1,
   "id": "42d554ff-cace-4ef0-906b-02cb77cc7388",
   "metadata": {
    "tags": []
   },
   "outputs": [],
   "source": [
    "# Set Up Libraries\n",
    "%run 01-set-up.ipynb"
   ]
  },
  {
   "cell_type": "code",
   "execution_count": 2,
   "id": "9414ada4-fd54-4e00-b108-504bad440173",
   "metadata": {
    "tags": []
   },
   "outputs": [],
   "source": [
    "# Defining the necessary symbolic variables\n",
    "%run 02-symbolic-variables.ipynb"
   ]
  },
  {
   "cell_type": "code",
   "execution_count": 3,
   "id": "7b6e125d-83a9-430c-b305-66f93d931e51",
   "metadata": {
    "tags": []
   },
   "outputs": [
    {
     "data": {
      "image/png": "[encoded data removed]",
      "text/latex": [
       "$\\displaystyle 0.1 \\tanh{\\left(0.1 r - 0.1 \\right)} + 1$"
      ],
      "text/plain": [
       "0.1⋅tanh(0.1⋅r - 0.1) + 1"
      ]
     },
     "metadata": {},
     "output_type": "display_data"
    },
    {
     "data": {
      "image/png": "[encoded data removed]",
      "text/plain": [
       "<Figure size 432x288 with 1 Axes>"
      ]
     },
     "metadata": {
      "needs_background": "light"
     },
     "output_type": "display_data"
    }
   ],
   "source": [
    "# Generating manufactured solutions\n",
    "%run 03-mms-mean-flow.ipynb"
   ]
  },
  {
   "cell_type": "code",
   "execution_count": 4,
   "id": "46caf956-5e07-4b82-b329-78b4332bc08c",
   "metadata": {
    "tags": []
   },
   "outputs": [],
   "source": [
    "# import functions to substitute the manufactured solutions into the LEE\n",
    "%run 04-source-substitution-function.ipynb"
   ]
  },
  {
   "cell_type": "markdown",
   "id": "7a983c1f-c8f0-46ef-979e-5c9766149fed",
   "metadata": {
    "tags": []
   },
   "source": [
    "### Defining Linearized Euler Equation (LEE) Source Terms"
   ]
  },
  {
   "cell_type": "markdown",
   "id": "2905c098-0534-4b58-ac76-fa868cb046c6",
   "metadata": {
    "tags": []
   },
   "source": [
    "Initially the source terms were defined without mention of the indices of the matrices they make up. In other words, there was no fore sight on the fact that these source terms are sums \n",
    "of the elements within A,B, and X. To investigate the source terms in greater detail, the FORTRAN code that calls the source terms will output the terms within the source term and then sum them, instead of just their sum."
   ]
  },
  {
   "cell_type": "markdown",
   "id": "a7ff6c69-0b2d-4305-8f5b-73b9c63ecc75",
   "metadata": {
    "tags": []
   },
   "source": [
    "### Eigenvalue Decomposition"
   ]
  },
  {
   "cell_type": "markdown",
   "id": "27d56c62-9f2b-4443-b19b-3641cbd8872b",
   "metadata": {
    "tags": []
   },
   "source": [
    "\n",
    "$$ [A]{x} = \\lambda [B] {x} $$\n",
    "\n",
    "which can be rearranged as,\n",
    "\n",
    "$$ [A]{x} - \\lambda [B] {x} = 0$$\n",
    "\n",
    "Here, $x$ is an eigenvector composed of the perturbation variables, $v_r,v_{\\theta},v_x,p$ and $\\lambda$ is the associated eigenvalue, (Note: $\\lambda = -i \\bar{\\gamma}$)\n",
    "\n",
    "Writing this out we obtain ....\n",
    "\n",
    "Linear System of Equations:\n",
    "\\begin{equation}\n",
    "-\n",
    "i \\left(\n",
    "\\frac{k}{A} - \\frac{m}{r} M_{\\theta}\n",
    "\\right)\n",
    "v_r \n",
    "-\n",
    "\\frac{2}{r} M_{\\theta} v_{\\theta} \n",
    "+\n",
    "\\frac{dp}{dr} \n",
    "+\n",
    "\\frac{(\\kappa - 1)}{r} M_{\\theta}^2 p\n",
    "-\n",
    "\\lambda M_x v_r =S_1\n",
    "\\end{equation}\n",
    "\n",
    "Using matrix notation,\n",
    "\n",
    "\\begin{equation}\n",
    "A_{11}\n",
    "x_1 \n",
    "-\n",
    "A_{12} x_2 \n",
    "+\n",
    "A_{14} x_4\n",
    "-\n",
    "\\lambda B_{11} x_1 = S_1\n",
    "\\end{equation}\n",
    "\n",
    "But $A_{14}$ and $A_{41}$ in Kousen's paper only has the derivative operator. Since I am currntly writing the matrix out term by term and not doing the matrix math to obtain the symbolic expressions, I will define $A_{14}$ with $dp/dr$ and $A_{41}$ with $dv_r/dr$\n",
    "Similarly,\n",
    "\\begin{align}\n",
    "A_{21} x_1 &-\n",
    "A_{22} x_2 +\n",
    "A_{24} x_4 &-\n",
    "\\lambda B_{22} x_2 &= S_2 \\\\\n",
    "A_{31} x_1 &-\n",
    "A_{33} x_3 &-\n",
    "\\lambda (B_{33} x_3 + B_{34} x_4) &= S_3\\\\\n",
    "A_{41} x_1 &+\n",
    "A_{42} x_2 +\n",
    "A_{44} x_4 &- \n",
    "\\lambda (B_{33} x_3 + B_{44} x_4) &= S_4\n",
    "\\end{align}\n",
    "Now we can begin looking at the source terms, term by term. They each should also converge at a known rate"
   ]
  },
  {
   "cell_type": "code",
   "execution_count": 5,
   "id": "9e011436",
   "metadata": {
    "tags": []
   },
   "outputs": [],
   "source": [
    "%run 05-source-term-system-of-equations.ipynb"
   ]
  },
  {
   "cell_type": "markdown",
   "id": "b9c5d928-0345-4aec-bc62-851c6c0786ed",
   "metadata": {
    "tags": []
   },
   "source": [
    "Now lets get these source terms by using the matrix form of the equations and see if they're\n",
    "equal"
   ]
  },
  {
   "cell_type": "code",
   "execution_count": 6,
   "id": "07a2f335-0685-4557-b417-762a408360ea",
   "metadata": {
    "tags": []
   },
   "outputs": [],
   "source": [
    "%run 06-source-term-matrix-equation.ipynb"
   ]
  },
  {
   "cell_type": "code",
   "execution_count": 7,
   "id": "bbf46542-9e2f-42db-af70-693742b26c8a",
   "metadata": {
    "tags": []
   },
   "outputs": [
    {
     "name": "stdout",
     "output_type": "stream",
     "text": [
      "True\n",
      "True\n",
      "True\n",
      "True\n"
     ]
    }
   ],
   "source": [
    "# Checking if the matrix expressions equal the linear system of equations\n",
    "print(S[0].equals(SS[0]))\n",
    "print(S[1].equals(SS[1]))\n",
    "print(S[2].equals(SS[2]))\n",
    "print(S[3].equals(SS[3]))"
   ]
  },
  {
   "cell_type": "code",
   "execution_count": 8,
   "id": "5fdec0e2-d8d9-49cf-9e02-83a97ff0f53a",
   "metadata": {
    "tags": []
   },
   "outputs": [
    {
     "name": "stdout",
     "output_type": "stream",
     "text": [
      "True\n",
      "True\n",
      "True\n",
      "True\n"
     ]
    }
   ],
   "source": [
    "%run 07-source-term-comparison.ipynb"
   ]
  },
  {
   "cell_type": "code",
   "execution_count": 9,
   "id": "be153202-7042-4f9b-9be4-d4d0555e835b",
   "metadata": {
    "tags": []
   },
   "outputs": [],
   "source": [
    "for i in range(len(S)):\n",
    "    S[i] = SourceSubstitution(S[i], \\\n",
    "                       A_analytic         , \\\n",
    "                       M_t_analytic   , \\\n",
    "                       M_x_analytical     , \\\n",
    "                       v_r_analytical     , \\\n",
    "                       v_t_analytical     , \\\n",
    "                       v_x_analytical     , \\\n",
    "                       p_analytical       , \\\n",
    "                       dp_dr_analytical   , \\\n",
    "                       dv_r_dr_analytical , \\\n",
    "                       dM_x_dr_analytical , \\\n",
    "                       dM_t_dr_analytical , \\\n",
    "                       )\n",
    "\n",
    "for i in range(len(A_times_x[:,0])):\n",
    "    for j in range(len(A_times_x[0,:])):\n",
    "        A_times_x[i,j] = SourceSubstitution(\\\n",
    "                       A_times_x[i,j], \\\n",
    "                       A_analytic         , \\\n",
    "                       M_t_analytic   , \\\n",
    "                       M_x_analytical     , \\\n",
    "                       v_r_analytical     , \\\n",
    "                       v_t_analytical     , \\\n",
    "                       v_x_analytical     , \\\n",
    "                       p_analytical       , \\\n",
    "                       dp_dr_analytical   , \\\n",
    "                       dv_r_dr_analytical , \\\n",
    "                       dM_x_dr_analytical , \\\n",
    "                       dM_t_dr_analytical , \\\n",
    "                                      ) \n",
    "        lambda_B_times_x[i,j] = SourceSubstitution(\\\n",
    "                       lambda_B_times_x[i,j], \\\n",
    "                       A_analytic         , \\\n",
    "                       M_t_analytic   , \\\n",
    "                       M_x_analytical     , \\\n",
    "                       v_r_analytical     , \\\n",
    "                       v_t_analytical     , \\\n",
    "                       v_x_analytical     , \\\n",
    "                       p_analytical       , \\\n",
    "                       dp_dr_analytical   , \\\n",
    "                       dv_r_dr_analytical , \\\n",
    "                       dM_x_dr_analytical , \\\n",
    "                       dM_t_dr_analytical , \\\n",
    "                                         )\n"
   ]
  },
  {
   "cell_type": "code",
   "execution_count": 10,
   "id": "98228e7f-d5f9-40f1-bbff-ca7a9d6d5f6b",
   "metadata": {
    "tags": []
   },
   "outputs": [],
   "source": [
    "%run create-fortran-scripts/create-fortran-file-sound-speed.ipynb"
   ]
  },
  {
   "cell_type": "code",
   "execution_count": 11,
   "id": "776ce4e8-cfa4-496c-a22c-2c3f1e38be1d",
   "metadata": {
    "tags": []
   },
   "outputs": [],
   "source": [
    "%run create-fortran-scripts/create-fortran-file-perturbation-variables.ipynb"
   ]
  },
  {
   "cell_type": "code",
   "execution_count": 12,
   "id": "768b6222-f7ec-49bc-8610-6099e529f543",
   "metadata": {
    "tags": []
   },
   "outputs": [],
   "source": [
    "S_1 = S[0]\n",
    "S_2 = S[1]\n",
    "S_3 = S[2]\n",
    "S_4 = S[3]\n",
    "%run create-fortran-scripts/create-fortran-file-LEE-source-terms.ipynb"
   ]
  },
  {
   "cell_type": "code",
   "execution_count": 13,
   "id": "294b626d-aecb-4890-a50a-7e2ed11d316c",
   "metadata": {},
   "outputs": [],
   "source": [
    "%run create-fortran-scripts/create-fortran-file-LEE-source-terms-components.ipynb"
   ]
  }
 ],
 "metadata": {
  "kernelspec": {
   "display_name": "Python 3",
   "language": "python",
   "name": "python3"
  },
  "language_info": {
   "codemirror_mode": {
    "name": "ipython",
    "version": 3
   },
   "file_extension": ".py",
   "mimetype": "text/x-python",
   "name": "python",
   "nbconvert_exporter": "python",
   "pygments_lexer": "ipython3",
   "version": "3.8.8"
  },
  "toc-autonumbering": false,
  "toc-showcode": false,
  "toc-showmarkdowntxt": false,
  "toc-showtags": false
 },
 "nbformat": 4,
 "nbformat_minor": 5
}
