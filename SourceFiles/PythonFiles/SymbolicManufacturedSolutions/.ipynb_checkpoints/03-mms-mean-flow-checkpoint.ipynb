{
 "cells": [
  {
   "cell_type": "code",
   "execution_count": null,
   "id": "7eda70dd-9ab5-48d6-baf2-9630a4212d8b",
   "metadata": {},
   "outputs": [],
   "source": []
  },
  {
   "cell_type": "code",
   "execution_count": 2,
   "id": "1b136693-be69-487d-ac97-f79cd94c599d",
   "metadata": {
    "tags": []
   },
   "outputs": [],
   "source": [
    "def TanhMethodMMS(n,B):\n",
    "    # inputs: \n",
    "    #   n - number of tanh functions\n",
    "    #   B - the slope around the inflection point\n",
    "    \n",
    "    # outputs:     \n",
    "    # initialize lists for the tanh function\n",
    "    RightKink  = []\n",
    "    LeftKink   = []\n",
    "    \n",
    "    # amplitude for each wave\n",
    "    A          = []\n",
    "    \n",
    "    # maximum allowed amplitude \n",
    "    max_amplitude = 0.75\n",
    "   \n",
    "    # vertical shift along the y axis\n",
    "    # one is chosed to keep the inflection points above \n",
    "    # zero\n",
    "    S_vertical = 1\n",
    "    \n",
    "    # rj is the list of inflection point locations\n",
    "    rj = list(linspace(1,0,n))\n",
    "    r_min = 0\n",
    "    r_max = 1\n",
    "    \n",
    "    # rescaling the radius (redundant but needed for BC Fairing Function)\n",
    "    r_hat = (r - r_min)/(r_max - r_min)\n",
    "    \n",
    "    # messages for error and warning checking \n",
    "    warning_mssg = {1:'Warning: Total Amplitude exceeds maximum ', \\\n",
    "                    2:'Warning: Function is negative'}\n",
    "    \n",
    "    # getting amplitude for each kink\n",
    "    for i in range(len(rj)):\n",
    "        # \n",
    "        A.append(max_amplitude/(len(rj)+1))\n",
    "        if sum(A) > max_amplitude:\n",
    "            sys.exit(str(warning_mssg[1]))\n",
    "    \n",
    "    # defining kinks and antikinks\n",
    "    for j in range(len(rj)):\n",
    "        RightKink.append( A[j]*sp.tanh(B*( r_hat    - rj[j] )) )\n",
    "        LeftKink.append(  A[j]*sp.tanh(B*( rj[j]- rj[0] )) )   \n",
    "    \n",
    "    f = sum(LeftKink) + sum(RightKink) + S_vertical\n",
    "    return f"
   ]
  },
  {
   "cell_type": "code",
   "execution_count": 1,
   "id": "06a77bce-eaa6-4656-b708-3016d67497e5",
   "metadata": {},
   "outputs": [],
   "source": [
    "#RightKink = \\\n",
    "#k[1]*sp.tanh(k[2]*(r - r_max)) + \\\n",
    "#k[1]*sp.tanh(k[2]*(r - r2)) + \\\n",
    "#k[1]*sp.tanh(k[2]*(r - r3))\n",
    "#\n",
    "#LeftKink = \\\n",
    "#k[1]*sp.tanh(k[2]*(r_max - r_max)) + \\\n",
    "#k[1]*sp.tanh(k[2]*(r2    - r_max)) + \\\n",
    "#k[1]*sp.tanh(k[2]*(r3    - r_max))\n",
    "#\n",
    "#S_vertical        = one"
   ]
  },
  {
   "cell_type": "code",
   "execution_count": 1,
   "id": "0464cabb-f693-4f07-81df-61671303a7eb",
   "metadata": {},
   "outputs": [],
   "source": [
    "f = TanhMethodMMS(8,100)\n",
    "A_analytic        = f#S_vertical + LeftKink + RightKink \n",
    "\n",
    "dA_analytic_dr    = diff(A_analytic,r)\n",
    "dA_analytic_sq_dr = diff(A_analytic**two,r)\n",
    "M_t_analytic      = sp.sqrt( \\\n",
    "                       r/((kappa-one)*A_analytic**two) * \\\n",
    "                       (dA_analytic_sq_dr))\n",
    "\n",
    "\n",
    "M_x_analytical = sp.sin(k[3]*(r - r_max))"
   ]
  },
  {
   "cell_type": "markdown",
   "id": "222c4fd8-98f8-4781-902e-0341028fb121",
   "metadata": {},
   "source": []
  },
  {
   "cell_type": "code",
   "execution_count": 1,
   "id": "169f4552-916a-4b61-a7a4-d180985cf8aa",
   "metadata": {},
   "outputs": [
    {
     "ename": "NameError",
     "evalue": "name 'k' is not defined",
     "output_type": "error",
     "traceback": [
      "\u001b[0;31m---------------------------------------------------------------------------\u001b[0m",
      "\u001b[0;31mNameError\u001b[0m                                 Traceback (most recent call last)",
      "\u001b[0;32m<ipython-input-1-e415f0217634>\u001b[0m in \u001b[0;36m<module>\u001b[0;34m\u001b[0m\n\u001b[1;32m      1\u001b[0m \u001b[0mRightKink\u001b[0m \u001b[0;34m=\u001b[0m\u001b[0;31m \u001b[0m\u001b[0;31m\\\u001b[0m\u001b[0;34m\u001b[0m\u001b[0;34m\u001b[0m\u001b[0m\n\u001b[0;32m----> 2\u001b[0;31m \u001b[0mk\u001b[0m\u001b[0;34m[\u001b[0m\u001b[0;36m1\u001b[0m\u001b[0;34m]\u001b[0m\u001b[0;34m*\u001b[0m\u001b[0msp\u001b[0m\u001b[0;34m.\u001b[0m\u001b[0mtanh\u001b[0m\u001b[0;34m(\u001b[0m\u001b[0mk\u001b[0m\u001b[0;34m[\u001b[0m\u001b[0;36m2\u001b[0m\u001b[0;34m]\u001b[0m\u001b[0;34m*\u001b[0m\u001b[0;34m(\u001b[0m\u001b[0mr\u001b[0m \u001b[0;34m-\u001b[0m \u001b[0mr_max\u001b[0m\u001b[0;34m)\u001b[0m\u001b[0;34m)\u001b[0m \u001b[0;34m+\u001b[0m\u001b[0;31m \u001b[0m\u001b[0;31m\\\u001b[0m\u001b[0;34m\u001b[0m\u001b[0;34m\u001b[0m\u001b[0m\n\u001b[0m\u001b[1;32m      3\u001b[0m \u001b[0mk\u001b[0m\u001b[0;34m[\u001b[0m\u001b[0;36m1\u001b[0m\u001b[0;34m]\u001b[0m\u001b[0;34m*\u001b[0m\u001b[0msp\u001b[0m\u001b[0;34m.\u001b[0m\u001b[0mtanh\u001b[0m\u001b[0;34m(\u001b[0m\u001b[0mk\u001b[0m\u001b[0;34m[\u001b[0m\u001b[0;36m2\u001b[0m\u001b[0;34m]\u001b[0m\u001b[0;34m*\u001b[0m\u001b[0;34m(\u001b[0m\u001b[0mr\u001b[0m \u001b[0;34m-\u001b[0m \u001b[0mr2\u001b[0m\u001b[0;34m)\u001b[0m\u001b[0;34m)\u001b[0m \u001b[0;34m+\u001b[0m\u001b[0;31m \u001b[0m\u001b[0;31m\\\u001b[0m\u001b[0;34m\u001b[0m\u001b[0;34m\u001b[0m\u001b[0m\n\u001b[1;32m      4\u001b[0m \u001b[0mk\u001b[0m\u001b[0;34m[\u001b[0m\u001b[0;36m1\u001b[0m\u001b[0;34m]\u001b[0m\u001b[0;34m*\u001b[0m\u001b[0msp\u001b[0m\u001b[0;34m.\u001b[0m\u001b[0mtanh\u001b[0m\u001b[0;34m(\u001b[0m\u001b[0mk\u001b[0m\u001b[0;34m[\u001b[0m\u001b[0;36m2\u001b[0m\u001b[0;34m]\u001b[0m\u001b[0;34m*\u001b[0m\u001b[0;34m(\u001b[0m\u001b[0mr\u001b[0m \u001b[0;34m-\u001b[0m \u001b[0mr3\u001b[0m\u001b[0;34m)\u001b[0m\u001b[0;34m)\u001b[0m\u001b[0;34m\u001b[0m\u001b[0;34m\u001b[0m\u001b[0m\n\u001b[1;32m      5\u001b[0m \u001b[0;34m\u001b[0m\u001b[0m\n",
      "\u001b[0;31mNameError\u001b[0m: name 'k' is not defined"
     ]
    }
   ],
   "source": [
    "v_t_analytical = sp.sin(k[5]*(r - r_max))\n",
    "v_x_analytical = sp.sin(k[6]*(r - r_max))\n",
    "\n",
    "\n",
    "# v_r and dp_dr need to be zero at the wall!\n",
    "v_r_analytical = sp.cos(k[4]*(r - r_max)) - 1\n",
    "p_analytical   = sp.cos(k[7]*(r - r_max)) - 1\n",
    "\n",
    "dp_dr_analytical   = p_analytical.diff(r)\n",
    "dv_r_dr_analytical = v_r_analytical.diff(r) \n",
    "dM_x_dr_analytical = M_x_analytical.diff(r)\n",
    "dM_t_dr_analytical = M_t_analytic.diff(r)"
   ]
  },
  {
   "cell_type": "code",
   "execution_count": null,
   "id": "c23be4a6-1a54-4f7c-bc31-07bb0cd11817",
   "metadata": {},
   "outputs": [],
   "source": []
  },
  {
   "cell_type": "code",
   "execution_count": 2,
   "id": "b1a00e71-4b80-4728-8076-9d110d7dcf01",
   "metadata": {},
   "outputs": [],
   "source": [
    "#A_max = 3*r**2 - 2*r**3\n",
    "#A_min = 1 - A_max\n",
    "#\n",
    "#\n",
    "#f = v_r_analytical\n",
    "#f_max = sp.cos(k[4]*(r_max-r_max)) - 1\n",
    "#f_min = sp.cos(k[4]*(0.2-r_max)) - 1\n",
    "#f_min_desired = 0\n",
    "#f_max_desired = 0\n",
    "#\n",
    "#del_f_min = f_min - f_min_desired\n",
    "#del_f_max = f_max - f_max_desired \n",
    "#f_imposed = f + A_min*del_f_min - A_max*del_f_max\n",
    "#v_r_analytical = f_imposed"
   ]
  },
  {
   "cell_type": "code",
   "execution_count": null,
   "id": "f187e35b-1b0d-4619-81f1-b51646adecf8",
   "metadata": {},
   "outputs": [],
   "source": []
  }
 ],
 "metadata": {
  "kernelspec": {
   "display_name": "Python 3",
   "language": "python",
   "name": "python3"
  },
  "language_info": {
   "codemirror_mode": {
    "name": "ipython",
    "version": 3
   },
   "file_extension": ".py",
   "mimetype": "text/x-python",
   "name": "python",
   "nbconvert_exporter": "python",
   "pygments_lexer": "ipython3",
   "version": "3.8.8"
  }
 },
 "nbformat": 4,
 "nbformat_minor": 5
}
