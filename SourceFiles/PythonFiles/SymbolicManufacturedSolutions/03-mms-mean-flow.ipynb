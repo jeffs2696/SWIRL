{
 "cells": [
  {
   "cell_type": "code",
   "execution_count": null,
   "id": "1b136693-be69-487d-ac97-f79cd94c599d",
   "metadata": {
    "tags": []
   },
   "outputs": [],
   "source": [
    "def TanhMethod(n,B):\n",
    "    # inputs: \n",
    "    #   n - number of tanh functions\n",
    "    #   B - the slope around the inflection point\n",
    "    \n",
    "    # outputs:     \n",
    "    # initialize lists for the tanh function\n",
    "    RightKink  = []\n",
    "    LeftKink   = []\n",
    "    \n",
    "    # amplitude for each wave\n",
    "    A          = []\n",
    "    \n",
    "    # maximum allowed amplitude \n",
    "    max_amplitude = 0.125\n",
    "   \n",
    "    # vertical shift along the y axis\n",
    "    # one is chosed to keep the inflection points above \n",
    "    # zero\n",
    "    S_vertical = 1\n",
    "    \n",
    "    # rj is the list of inflection point locations\n",
    "    rj = list(linspace(1,0,n))\n",
    "    r_min = 0.2\n",
    "    r_max = 1\n",
    "    \n",
    "    # rescaling the radius (redundant but needed for BC Fairing Function)\n",
    "    r_hat = (r - r_min)/(r_max - r_min)\n",
    "    \n",
    "    # messages for error and warning checking \n",
    "    warning_mssg = {1:'Warning: Total Amplitude exceeds maximum ', \\\n",
    "                    2:'Warning: Function is negative'}\n",
    "    \n",
    "    # getting amplitude for each kink\n",
    "    for i in range(len(rj)):\n",
    "        # \n",
    "        A.append(max_amplitude/(len(rj)+1))\n",
    "        if sum(A) > max_amplitude:\n",
    "            sys.exit(str(warning_mssg[1]))\n",
    "    \n",
    "    # defining kinks and antikinks\n",
    "    for j in range(len(rj)):\n",
    "        RightKink.append( A[j]*sp.tanh(B*( r_hat    - rj[j] )) )\n",
    "        LeftKink.append(  A[j]*sp.tanh(B*( rj[j]- rj[0] )) )   \n",
    "    \n",
    "    f = sum(LeftKink) + sum(RightKink) + S_vertical\n",
    "    return f"
   ]
  },
  {
   "cell_type": "code",
   "execution_count": null,
   "id": "06a77bce-eaa6-4656-b708-3016d67497e5",
   "metadata": {
    "tags": []
   },
   "outputs": [],
   "source": [
    "RightKink = \\\n",
    "0.1*sp.tanh(0.1*(r - 1)) \n",
    "#+ \\\n",
    "#k[1]*sp.tanh(k[2]*(r - r2)) + \\\n",
    "#k[1]*sp.tanh(k[2]*(r - r3))\n",
    "\n",
    "LeftKink = \\\n",
    "0.1*sp.tanh(0.1*(1 - 1)) \n",
    "#+ \\\n",
    "#k[1]*sp.tanh(k[2]*(r2    - r_max)) + \\\n",
    "#k[1]*sp.tanh(k[2]*(r3    - r_max))\n",
    "\n",
    "S_vertical        = 1"
   ]
  },
  {
   "cell_type": "code",
   "execution_count": null,
   "id": "0203ef15-3895-413d-bcc8-8c357f2fd122",
   "metadata": {},
   "outputs": [],
   "source": [
    "f = TanhMethod(3,100)\n",
    "r_min = 0.2\n",
    "r_max = 1\n",
    "r_hat = (r - r_min)/(r_max - r_min)\n",
    "f_min = f.subs(r,r_min)\n",
    "f_max = f.subs(r,r_max)\n",
    "f_min_desired = 0.00000\n",
    "f_max_desired = 0.00000\n",
    "A_max         = 3*r_hat**2 - 2*r_hat**3\n",
    "A_min         =  1 - A_max \n",
    "\n",
    " \n",
    "del_f_min = abs(f_min - f_min_desired)\n",
    "del_f_max = abs(f_max - f_max_desired)\n",
    "\n",
    "f_imposed = (f + A_min*del_f_min - A_max*del_f_max)"
   ]
  },
  {
   "cell_type": "code",
   "execution_count": null,
   "id": "f17d7aed-a47b-4980-b91d-9ea1b3e2baa0",
   "metadata": {},
   "outputs": [],
   "source": [
    "\n"
   ]
  },
  {
   "cell_type": "code",
   "execution_count": null,
   "id": "c3a1202a-44a3-47db-8bdf-0f2b6f5e28fd",
   "metadata": {},
   "outputs": [],
   "source": [
    "A_analytic        = S_vertical + LeftKink + RightKink \n",
    "\n",
    "dA_analytic_dr    = diff(A_analytic,r)\n",
    "dA_analytic_sq_dr = diff(A_analytic**two,r)\n",
    "M_t_analytic      = (  r/((kappa-one)*A_analytic**two) * \\\n",
    "                       (dA_analytic_sq_dr))**0.5\n",
    "\n",
    "\n",
    "M_x_analytical = r - 1#sp.sin((r - r_max))"
   ]
  },
  {
   "cell_type": "code",
   "execution_count": null,
   "id": "4d44433b-6fa9-46c5-9bfa-40b4548f858d",
   "metadata": {},
   "outputs": [],
   "source": [
    "#A_analytic =A_analytic.subs({r_max:1.0})\n",
    "#,k[2]:0.2,k[1]:0.3}) \n",
    "display(A_analytic)\n",
    "lam_x = lambdify(r,A_analytic , modules=['numpy'])\n",
    "\n",
    "x_vals = linspace(r_min, r_max, 100)\n",
    "y_vals = lam_x(x_vals)\n",
    "debug = 0\n",
    "if debug == 1:\n",
    "    for i in range(len(y_vals)):\n",
    "        if y_vals[i] < 0:\n",
    "            sys.exit(str(warning_mssg[2]))\n",
    "        \n",
    "mpl.plot(x_vals, y_vals)\n",
    "mpl.xlabel('radius')\n",
    "mpl.show()"
   ]
  },
  {
   "cell_type": "code",
   "execution_count": null,
   "id": "169f4552-916a-4b61-a7a4-d180985cf8aa",
   "metadata": {},
   "outputs": [],
   "source": [
    "v_t_analytical = sp.sin(k[5]*(r - r_max))\n",
    "v_x_analytical = sp.sin(k[6]*(r - r_max))\n",
    "\n",
    "\n",
    "# v_r and dp_dr need to be zero at the wall!\n",
    "v_r_analytical = f_imposed#sp.cos(k[4]*(r - r_max)) - 1\n",
    "p_analytical   = f_imposed#sp.cos(k[7]*(r - r_max)) - 1\n",
    "\n",
    "dp_dr_analytical   = p_analytical.diff(r)\n",
    "dv_r_dr_analytical = v_r_analytical.diff(r) \n",
    "dM_x_dr_analytical = M_x_analytical.diff(r)\n",
    "dM_t_dr_analytical = M_t_analytic.diff(r)"
   ]
  },
  {
   "cell_type": "code",
   "execution_count": null,
   "id": "c23be4a6-1a54-4f7c-bc31-07bb0cd11817",
   "metadata": {},
   "outputs": [],
   "source": []
  },
  {
   "cell_type": "code",
   "execution_count": null,
   "id": "b1a00e71-4b80-4728-8076-9d110d7dcf01",
   "metadata": {},
   "outputs": [],
   "source": [
    "#A_max = 3*r**2 - 2*r**3\n",
    "#A_min = 1 - A_max\n",
    "#\n",
    "#\n",
    "#f = v_r_analytical\n",
    "#f_max = sp.cos(k[4]*(r_max-r_max)) - 1\n",
    "#f_min = sp.cos(k[4]*(0.2-r_max)) - 1\n",
    "#f_min_desired = 0\n",
    "#f_max_desired = 0\n",
    "#\n",
    "#del_f_min = f_min - f_min_desired\n",
    "#del_f_max = f_max - f_max_desired \n",
    "#f_imposed = f + A_min*del_f_min - A_max*del_f_max\n",
    "#v_r_analytical = f_imposed"
   ]
  },
  {
   "cell_type": "code",
   "execution_count": null,
   "id": "f187e35b-1b0d-4619-81f1-b51646adecf8",
   "metadata": {},
   "outputs": [],
   "source": []
  }
 ],
 "metadata": {
  "kernelspec": {
   "display_name": "Python 3",
   "language": "python",
   "name": "python3"
  },
  "language_info": {
   "codemirror_mode": {
    "name": "ipython",
    "version": 3
   },
   "file_extension": ".py",
   "mimetype": "text/x-python",
   "name": "python",
   "nbconvert_exporter": "python",
   "pygments_lexer": "ipython3",
   "version": "3.8.8"
  }
 },
 "nbformat": 4,
 "nbformat_minor": 5
}
