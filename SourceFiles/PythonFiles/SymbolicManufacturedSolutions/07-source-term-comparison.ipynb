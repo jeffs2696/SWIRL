{
 "cells": [
  {
   "cell_type": "code",
   "execution_count": 6,
   "id": "77df5f31-3c7a-4977-b69b-91f7c19dcf4b",
   "metadata": {
    "tags": []
   },
   "outputs": [],
   "source": [
    "#now that we set the matricies up lets get our individual terms \n",
    "A_times_x        = sp.Matrix(sp.zeros(len(S),len(S)))\n",
    "lambda_B_times_x = sp.Matrix(sp.zeros(len(S),len(S)))\n",
    "\n",
    "for j in range(len(S)):\n",
    "    for i in range(len(S)):\n",
    "        A_times_x[i,j]        = [AA[i,j]*XX[j]]\n",
    "        lambda_B_times_x[i,j] = Lambda*BB[i,j]*XX[j]\n",
    "\n",
    "for i in range(len(S)):\n",
    "    match =(S[i].equals( \\\n",
    "                  A_times_x[i,0] + \\\n",
    "                  A_times_x[i,1] + \\\n",
    "                  A_times_x[i,2] + \\\n",
    "                  A_times_x[i,3] -\\\n",
    "                 (lambda_B_times_x[i,0] + \\\n",
    "                  lambda_B_times_x[i,1] + \\\n",
    "                  lambda_B_times_x[i,2] + \\\n",
    "                  lambda_B_times_x[i,3])))\n",
    "    print(match)\n",
    "# notes on differences between system of equations and Ax-lambda Bx    \n",
    "# multiplying (1/p) and not (one/p) by dp_dr made  S_1 and SS[1] the same\n",
    "# multiplied i gamma p term by \"one\" in S_3\n",
    "# multiplied by 1/v_r by d_v_dr and i v_x gamma terM by one\n"
   ]
  }
 ],
 "metadata": {
  "kernelspec": {
   "display_name": "Python 3",
   "language": "python",
   "name": "python3"
  },
  "language_info": {
   "codemirror_mode": {
    "name": "ipython",
    "version": 3
   },
   "file_extension": ".py",
   "mimetype": "text/x-python",
   "name": "python",
   "nbconvert_exporter": "python",
   "pygments_lexer": "ipython3",
   "version": "3.8.8"
  }
 },
 "nbformat": 4,
 "nbformat_minor": 5
}
