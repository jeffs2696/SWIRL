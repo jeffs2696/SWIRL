{
 "cells": [
  {
   "cell_type": "code",
   "execution_count": 2,
   "id": "3ef5526a-22fa-401e-a5dd-0bbebb31d48b",
   "metadata": {},
   "outputs": [],
   "source": [
    "class Polygon:\n",
    "    def __init__(self,sides,name):\n",
    "        self.sides = sides\n",
    "        self.name = name\n",
    "        self.interior_angles = (self.sides-2)\n",
    "        \n",
    "    def draw(self):\n",
    "        for i in range(self.sides):\n",
    "            turtle.forward(100)\n",
    "            turtle.right(90)\n",
    "        turtle.done()\n",
    "        \n",
    "square_sides = 4 \n",
    "square = Polygon(sides = 4, \\\n",
    "                 name = \"square\")"
   ]
  },
  {
   "cell_type": "code",
   "execution_count": null,
   "id": "3e033342-e121-432b-8e68-d3b1ab85828e",
   "metadata": {},
   "outputs": [],
   "source": []
  }
 ],
 "metadata": {
  "kernelspec": {
   "display_name": "Python 3",
   "language": "python",
   "name": "python3"
  },
  "language_info": {
   "codemirror_mode": {
    "name": "ipython",
    "version": 3
   },
   "file_extension": ".py",
   "mimetype": "text/x-python",
   "name": "python",
   "nbconvert_exporter": "python",
   "pygments_lexer": "ipython3",
   "version": "3.8.8"
  }
 },
 "nbformat": 4,
 "nbformat_minor": 5
}
