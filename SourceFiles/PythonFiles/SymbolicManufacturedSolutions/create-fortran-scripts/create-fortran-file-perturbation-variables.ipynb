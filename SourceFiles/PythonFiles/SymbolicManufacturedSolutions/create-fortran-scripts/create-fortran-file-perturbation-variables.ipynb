{
 "cells": [
  {
   "cell_type": "code",
   "execution_count": null,
   "id": "63eb00b6",
   "metadata": {},
   "outputs": [],
   "source": [
    "fv_r  = fcode(v_r_analytic,source_format='free',standard=95)\n",
    "fv_th = fcode(v_t_analytic,source_format='free',standard=95)\n",
    "fv_x  = fcode(v_x_analytic,source_format='free',standard=95)\n",
    "fp    = fcode(p_analytic,source_format='free',standard=95)  \n",
    "\n",
    "fv_r  = \"vR(i) =\" + re.sub(r\"r \",\"r(i) \",fv_r) + \"\\n\"\n",
    "fv_th = \"vTh(i)=\" + re.sub(r\"r \",\"r(i) \",fv_th)+ \"\\n\"\n",
    "fv_x  = \"vX(i) =\" + re.sub(r\"r \",\"r(i) \",fv_x) + \"\\n\"\n",
    "fp    = \"Pr(i) =\" + re.sub(r\"r \",\"r(i) \",fp)   + \"\\n\"\n",
    "\n"
   ]
  },
  {
   "cell_type": "code",
   "execution_count": null,
   "id": "b3740cd2",
   "metadata": {},
   "outputs": [],
   "source": [
    "S_list = []\n",
    "S_list.append(fv_r)\n",
    "S_list.append(fv_th)\n",
    "S_list.append(fv_x)\n",
    "S_list.append(fp)\n",
    "S_list = ''.join(S_list)\n",
    "\n",
    "\n",
    "f_code_header3 = ''' \n",
    "\n",
    " \n",
    "    SUBROUTINE CalcPerturbationVariables(& \n",
    "    k    , &\n",
    "    r    , &\n",
    "    vR   , &\n",
    "    vTh  , &\n",
    "    vX   , &\n",
    "    Pr)\n",
    "    \n",
    "\n",
    "    REAL(KIND=rDef)  ,DIMENSION(:), INTENT(IN)    :: r\n",
    "    REAL(KIND=rDef)  ,DIMENSION(:), INTENT(INOUT) :: vR, vTh, vX, Pr\n",
    "    COMPLEX(KIND=rDef), DIMENSION(:), INTENT(IN) :: k\n",
    "    \n",
    "    ! Local variables\n",
    "    INTEGER :: numberOfGridPoints, i\n",
    "    \n",
    "    numberOfGridPoints = SIZE(vR)\n",
    "      DO i = 1, numberOfGridPoints\n",
    "'''\n",
    "\n",
    "f_code_footer3 = '''\n",
    "      END DO\n",
    "    END SUBROUTINE CalcPerturbationVariables\n",
    "'''\n",
    "\n",
    "with open('../../CalcPerturbationVariablesMMS.f90','w') as f:\n",
    "    f.write(f_code_header3)\n",
    "    f.write(S_list)\n",
    "    f.write(f_code_footer3)"
   ]
  },
  {
   "cell_type": "code",
   "execution_count": null,
   "id": "6cbc1409",
   "metadata": {},
   "outputs": [],
   "source": []
  }
 ],
 "metadata": {
  "kernelspec": {
   "display_name": "Python 3",
   "language": "python",
   "name": "python3"
  },
  "language_info": {
   "codemirror_mode": {
    "name": "ipython",
    "version": 3
   },
   "file_extension": ".py",
   "mimetype": "text/x-python",
   "name": "python",
   "nbconvert_exporter": "python",
   "pygments_lexer": "ipython3",
   "version": "3.8.8"
  }
 },
 "nbformat": 4,
 "nbformat_minor": 5
}
