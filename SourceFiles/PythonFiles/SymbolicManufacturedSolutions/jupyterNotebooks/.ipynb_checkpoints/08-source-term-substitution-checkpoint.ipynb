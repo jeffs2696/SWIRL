{
 "cells": [
  {
   "cell_type": "code",
   "execution_count": null,
   "id": "6567e8ad-c4ae-429c-997e-2650064952dd",
   "metadata": {},
   "outputs": [],
   "source": [
    "\n",
    "# Checking if the matrix expressions equal the linear system of equations\n",
    "print(S[0].equals(SS[0]))\n",
    "print(S[1].equals(SS[1]))\n",
    "print(S[2].equals(SS[2]))\n",
    "print(S[3].equals(SS[3]))\n",
    "\n",
    "for i in range(len(S)):\n",
    "    S[i] = SourceSubstitution(S[i], \\\n",
    "                       A_analytic         , \\\n",
    "                       M_t_analytic   , \\\n",
    "                       M_x_analytic     , \\\n",
    "                       v_r_analytic     , \\\n",
    "                       v_t_analytic     , \\\n",
    "                       v_x_analytic     , \\\n",
    "                       p_analytic       , \\\n",
    "                       dp_dr_analytic   , \\\n",
    "                       dv_r_dr_analytic , \\\n",
    "                       dM_x_dr_analytic , \\\n",
    "                       dM_t_dr_analytic , \\\n",
    "                       )\n",
    "\n",
    "for i in range(len(A_times_x[:,0])):\n",
    "    for j in range(len(A_times_x[0,:])):\n",
    "        A_times_x[i,j] = SourceSubstitution(\\\n",
    "                       A_times_x[i,j], \\\n",
    "                       A_analytic         , \\\n",
    "                       M_t_analytic   , \\\n",
    "                       M_x_analytic     , \\\n",
    "                       v_r_analytic     , \\\n",
    "                       v_t_analytic     , \\\n",
    "                       v_x_analytic     , \\\n",
    "                       p_analytic       , \\\n",
    "                       dp_dr_analytic   , \\\n",
    "                       dv_r_dr_analytic , \\\n",
    "                       dM_x_dr_analytic , \\\n",
    "                       dM_t_dr_analytic , \\\n",
    "                                      ) \n",
    "        lambda_B_times_x[i,j] = SourceSubstitution(\\\n",
    "                       lambda_B_times_x[i,j], \\\n",
    "                       A_analytic         , \\\n",
    "                       M_t_analytic   , \\\n",
    "                       M_x_analytic     , \\\n",
    "                       v_r_analytic     , \\\n",
    "                       v_t_analytic     , \\\n",
    "                       v_x_analytic     , \\\n",
    "                       p_analytic       , \\\n",
    "                       dp_dr_analytic   , \\\n",
    "                       dv_r_dr_analytic , \\\n",
    "                       dM_x_dr_analytic , \\\n",
    "                       dM_t_dr_analytic , \\\n",
    "                                         )\n"
   ]
  }
 ],
 "metadata": {
  "kernelspec": {
   "display_name": "Python 3",
   "language": "python",
   "name": "python3"
  },
  "language_info": {
   "codemirror_mode": {
    "name": "ipython",
    "version": 3
   },
   "file_extension": ".py",
   "mimetype": "text/x-python",
   "name": "python",
   "nbconvert_exporter": "python",
   "pygments_lexer": "ipython3",
   "version": "3.8.8"
  }
 },
 "nbformat": 4,
 "nbformat_minor": 5
}
