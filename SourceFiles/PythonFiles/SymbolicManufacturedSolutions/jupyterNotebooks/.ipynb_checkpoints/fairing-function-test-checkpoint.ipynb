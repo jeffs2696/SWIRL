{
 "cells": [
  {
   "cell_type": "markdown",
   "id": "c873d3cd-ac96-4f62-b0eb-0806cea0f41a",
   "metadata": {},
   "source": [
    "# Method Of Manufactured Solutions with Fairing Functions"
   ]
  },
  {
   "cell_type": "code",
   "execution_count": 1,
   "id": "35eaf5f8-7a1b-4685-9257-6a3b89ed1b1a",
   "metadata": {
    "tags": []
   },
   "outputs": [],
   "source": [
    "import sympy as sp \n",
    "import numpy as np\n",
    "from IPython.display import Markdown, display\n",
    "from sympy import pprint \n",
    "from sympy.interactive import printing\n",
    "import helpers as fcn\n",
    "printing.init_printing(use_latex = True) "
   ]
  },
  {
   "cell_type": "code",
   "execution_count": 3,
   "id": "3f38846b-8596-4188-baf8-8f3d07688fda",
   "metadata": {
    "tags": []
   },
   "outputs": [],
   "source": [
    "# symbolic variable declaration\n",
    "r                          , \\\n",
    "r_min                          , \\\n",
    "r_max                          , \\\n",
    "sigma                      = \\\n",
    "sp.symbols('r , r_min,r_max,sigma')\n",
    "\n",
    "A_min,                       \\\n",
    "A_max                      = \\\n",
    "sp.symbols('A_min, A_max')\n",
    "\n",
    "f_MS = sp.Function('f_MS')(r)\n",
    "\n",
    "f_BCsImposed,            \\\n",
    "f_minBC,                 \\\n",
    "f_maxBC,                 \\\n",
    "f_minMS,                 \\\n",
    "f_maxMS                  = \\\n",
    "sp.symbols('f_BCsImposed, f_minBC, f_maxBC,f_minMS, f_maxMS ')"
   ]
  },
  {
   "cell_type": "markdown",
   "id": "bcfd92db-4f07-457f-99fd-12bd5e9e80f2",
   "metadata": {
    "tags": []
   },
   "source": [
    "# 1 Setting Boundary Condition Values Using a Fairing Function"
   ]
  },
  {
   "cell_type": "markdown",
   "id": "56dfedb1-40f8-4c9b-abfc-389cf97acd55",
   "metadata": {
    "tags": []
   },
   "source": [
    "Defining the nondimensional radius in the same way that SWIRL does:\n",
    "\n",
    "\\begin{align*}\n",
    "    \\widetilde{r} = \\frac{r}{r_T}\n",
    "\\end{align*}\n",
    "where $r_T$ is the outer radius of the annulus.\n",
    "\n",
    "The hub-to-tip ratio is defined as:\n",
    "\n",
    "\\begin{align*}\n",
    "    \\sigma = \\frac{r_H}{r_T}\n",
    "     &= \\widetilde{r}_H\n",
    "\\end{align*}\n",
    "where $\\widetilde{r}_H$ is the inner radius of the annular duct. The hub-to-tip\n",
    "ratio can also be zero indicating the duct is hollow.\n",
    "\n",
    "A useful and similar parameter is introduced, $\\beta$, where $ 0 \\leq \\beta \\leq 1$\n",
    "\n",
    "\n",
    "\\begin{align*}\n",
    "    \\beta &=\n",
    "    \\frac{r - r_H}{r_T - r_H}\n",
    "\\end{align*}\n",
    "Dividing By $r_T$\n",
    "\\begin{align*}\n",
    "    \\beta &= \n",
    "    \\frac{\n",
    "        \\frac{r}{r_T} - \\frac{r_H}{r_T}\n",
    "}{\n",
    "        \\frac{r_T}{r_T} - \\frac{r_H}{r_T}\n",
    "       } \\\\ \n",
    "\\beta\n",
    "&= \\frac{\n",
    "    \\widetilde{r} - \\sigma \n",
    "}{\n",
    "1 - \\sigma\n",
    "}\n",
    "\\end{align*}\n",
    "\n",
    "Using sympy, the symbolic library available to python, we can check this,"
   ]
  },
  {
   "cell_type": "code",
   "execution_count": 4,
   "id": "be045645-b8a0-44f4-ab7f-4bbe63f5204a",
   "metadata": {
    "tags": []
   },
   "outputs": [
    {
     "name": "stdout",
     "output_type": "stream",
     "text": [
      "⎡       r - rₘᵢₙ ⎤\n",
      "⎢β =, ───────────⎥\n",
      "⎣     rₘₐₓ - rₘᵢₙ⎦\n"
     ]
    }
   ],
   "source": [
    "beta = (r - r_min)/(r_max - r_min) \n",
    "beta_str = '\\u03B2 ='\n",
    "pprint([beta_str,beta])"
   ]
  },
  {
   "cell_type": "markdown",
   "id": "1008878f-8013-4aff-a02d-3796b4e64f28",
   "metadata": {},
   "source": [
    "Sanity Check 1:\n",
    "\n",
    "Is $\\beta = 0$ when $r = \\sigma$ ?\n",
    "Is $\\beta = 1$ when $r = 1$?"
   ]
  },
  {
   "cell_type": "code",
   "execution_count": 5,
   "id": "d53c2779-b322-403a-a6fe-ba69af941a55",
   "metadata": {
    "tags": []
   },
   "outputs": [
    {
     "name": "stdout",
     "output_type": "stream",
     "text": [
      "β(r = sigma) = 0\n",
      "β(r = 1    ) = 1\n"
     ]
    }
   ],
   "source": [
    "beta_max = beta.subs('r','r_max')\n",
    "beta_min = beta.subs('r','r_min')\n",
    "\n",
    "pprint('\\u03B2(r = sigma) = ' + str(beta_min))\n",
    "pprint('\\u03B2(r = 1    ) = ' + str(beta_max))"
   ]
  },
  {
   "cell_type": "markdown",
   "id": "ef18bb64-2470-494f-b568-99c2dab6fe35",
   "metadata": {
    "tags": []
   },
   "source": [
    "Suppose a manufactured solution (MS) was decided. the goal is to change the\n",
    "boundary conditions of the manufactured solution in such  way that allows us \n",
    "to adequately check the boundary conditions imposed on SWIRL. Defining the \n",
    "manufactured solution, $f_{MS}(\\widetilde{r})$,   where\n",
    "$\\sigma \\leq \\widetilde{r} \\leq 1$ and there are desired values of $f$ at the \n",
    "boundaries desired values are going to be denoted as $f_{minBC}$ and $f_{maxBC}$.\n",
    "The desired changes in $f$ are defined as:\n",
    "\n",
    "\\begin{align*}\n",
    "    \\Delta f_{minBC} = f_{minBC} - f_{MS}(\\widetilde{r} = \\sigma)\\\\\n",
    "    \\Delta f_{maxBC} = f_{maxBC} - f_{MS}(\\widetilde{r} = 1) \n",
    "\\end{align*}\n",
    "We'd like to impose these changes smoothly on the manufactured solution function.\n",
    "To do this,the fairing functions, $A_{min}(\\widetilde{r})$ and $A_{max}(\\widetilde{r})$\n",
    "where:\n",
    "\\begin{align*}\n",
    "    f_{BCsImposed}(\\widetilde{r}) = f_{MS}(\\widetilde{r}) +\n",
    "    A_{min}(\\widetilde{r}) \\Delta f_{minBC}  +  \n",
    "    A_{max}(\\widetilde{r}) \\Delta f_{maxBC}  \n",
    "\\end{align*}\n",
    "Then, in order to set the condition at the appropriate boundary, the following \n",
    "conditions are set,"
   ]
  },
  {
   "cell_type": "markdown",
   "id": "18a02132-fee9-4fcc-a4fb-48197f626472",
   "metadata": {
    "tags": []
   },
   "source": [
    "\\begin{align*}\n",
    "    A_{min}(\\widetilde{r} = \\sigma) &= 1\\\\\n",
    "    A_{min}(\\widetilde{r} = 1) &= 0 \\\\\n",
    "    A_{max}(\\widetilde{r} = 1) &= 1 \\\\\n",
    "    A_{max}(\\widetilde{r} = \\sigma) &= 0 \n",
    "\\end{align*}\n",
    "If $A_{min}(\\widetilde{r})$ is defined as a function of $A_{max}(\\widetilde{r})$\n",
    "then only $A_{max}(\\widetilde{r})$ needs to be defined, therefore \n",
    "\\begin{align*}\n",
    "    A_{min}(\\widetilde{r}) = 1 - A_{max}(\\widetilde{r}) \n",
    "\\end{align*}\n",
    "\n",
    "It is also desirable to set the derivatives for the fairing function at the \n",
    "boundaries incase there are boundary conditions imposed on the derivatives of \n",
    "the fairing function.\n",
    "\n",
    "\\begin{align*}\n",
    "    \\frac{\\partial A_{max}}{\\partial \\widetilde{r}}|_{\\widetilde{r}= \\sigma} &= 0\\\\\n",
    "    \\frac{\\partial A_{max}}{\\partial \\widetilde{r}}|_{\\widetilde{r}= 1} &= 0    \n",
    "\\end{align*}\n",
    "\n",
    "\\begin{align*}\n",
    "    \\frac{\\partial A_{min}}{\\partial \\widetilde{r}}|_{\\widetilde{r}= \\sigma} &= 0\\\\\n",
    "    \\frac{\\partial A_{min}}{\\partial \\widetilde{r}}|_{\\widetilde{r}= 1} &= 0    \n",
    "\\end{align*}\n"
   ]
  },
  {
   "cell_type": "markdown",
   "id": "99293434-576c-4ee4-811a-39fef11e49c4",
   "metadata": {
    "tags": []
   },
   "source": [
    "## 1.1 Minimum and Maximum Boundary Fairing Function\n",
    "\n",
    "Looking at $A_{min}$ first, the polynomial is:\n",
    "\n",
    "\\begin{align*}\n",
    "    A_{min} \\left( \\beta \\right) &= \n",
    "    a + b \\beta + c \\beta^2 + d \\beta^3                   \\\\\n",
    "    A_{min} \\left( \\widetilde{r} \\right) &= \n",
    "    a + b \\left( \\frac{\\widetilde{r} - \\sigma}{1 - \\sigma} \\right)+\n",
    "    c\\left( \\frac{\\widetilde{r} - \\sigma}{1 - \\sigma} \\right)  ^2+\n",
    "    d\\left( \\frac{\\widetilde{r} - \\sigma}{1 - \\sigma} \\right)^3                    \\\\\n",
    "\\end{align*}\n",
    "Taking the derivative,\n",
    "\\begin{align*}\n",
    "    A'_{min} \\left( \\widetilde{r} \\right) &= \n",
    "    b \\left( \\frac{1}{1 - \\sigma} \\right)+\n",
    "    2 c\\left( \\frac{1}{1 - \\sigma} \\right)\\left( \\frac{\\widetilde{r} - \\sigma}{1 - \\sigma} \\right)  +\n",
    "    3 d\\left( \\frac{1}{1-\\sigma} \\right)\\left( \\frac{\\widetilde{r} - \\sigma}{1 - \\sigma} \\right)^2\\\\\n",
    "    A'_{min} \\left( \\beta \\right) &= \n",
    "    \\left( \\frac{1}{1 - \\sigma} \\right)\n",
    "    \\left[\n",
    "    b +\n",
    "    2 c \\beta + \n",
    "    3 d \\beta^2\n",
    "    \\right]\n",
    "\\end{align*}\n",
    "\n",
    "Using the possible values of $\\widetilde{r}$,\n",
    "\n",
    "\\begin{align*}\n",
    "    A_{min}(\\sigma) &= a &= 1 \\\\\n",
    "    A_{min}(1) &= a + b + c + d  &= 0 \\\\\n",
    "    A'_{min}(\\sigma) &=  b    &= 0 \\\\\n",
    "    A'_{min}(1) &=  b + 2 c + 3 d    &= 0 \\\\\n",
    "\\end{align*}\n",
    "\n",
    "\n",
    "which has the solution,\n",
    "\n",
    "\\begin{align*}\n",
    "    a &= 1 \\\\\n",
    "    b &= 0 \\\\\n",
    "    c &= -3 \\\\\n",
    "    d &= 2 \n",
    "\\end{align*}\n",
    "\n",
    "giving the polynomial as: \n",
    "\n",
    "\\begin{align*}\n",
    "    A_{min} (\\widetilde{r}) = 1 - 3 \\left(  \\frac{\\widetilde{r} - \\sigma }{ 1 - \\sigma}\\right)^2 +\n",
    "    2 \\left( \\frac{\\widetilde{r} - \\sigma}{1 - \\sigma} \\right)^3 \n",
    "\\end{align*}\n",
    "\n",
    "Following the same procedure for $A_{max}= 1-A_{min}$"
   ]
  },
  {
   "cell_type": "code",
   "execution_count": 6,
   "id": "012276c4-3b53-49b1-bb32-523528feb8da",
   "metadata": {
    "tags": []
   },
   "outputs": [
    {
     "name": "stdout",
     "output_type": "stream",
     "text": [
      "⎡                        3                2 ⎤\n",
      "⎢            2⋅(r - rₘᵢₙ)     3⋅(r - rₘᵢₙ)  ⎥\n",
      "⎢A_max = , - ────────────── + ──────────────⎥\n",
      "⎢                         3                2⎥\n",
      "⎣            (rₘₐₓ - rₘᵢₙ)    (rₘₐₓ - rₘᵢₙ) ⎦\n",
      "⎡                      3                2     ⎤\n",
      "⎢          2⋅(r - rₘᵢₙ)     3⋅(r - rₘᵢₙ)      ⎥\n",
      "⎢A_min = , ────────────── - ────────────── + 1⎥\n",
      "⎢                       3                2    ⎥\n",
      "⎣          (rₘₐₓ - rₘᵢₙ)    (rₘₐₓ - rₘᵢₙ)     ⎦\n"
     ]
    }
   ],
   "source": [
    "A_max =3*beta**2 - 2*beta**3 \n",
    "\n",
    "A_min = 1 - A_max\n",
    "dA_max_dr = sp.diff(A_max,'r')\n",
    "dA_min_dr = sp.diff(A_min,'r')\n",
    "\n",
    "pprint(['A_max = ', A_max])\n",
    "pprint(['A_min = ', A_min])"
   ]
  },
  {
   "cell_type": "markdown",
   "id": "582be9a9-122a-45be-bb2c-c739eed0a873",
   "metadata": {},
   "source": [
    "## 1.1.1 Sanity Checks for Fairing Function - Python Script"
   ]
  },
  {
   "cell_type": "code",
   "execution_count": 7,
   "id": "290d391f-a601-4e42-8462-216c6cad536a",
   "metadata": {
    "tags": []
   },
   "outputs": [
    {
     "data": {
      "text/plain": [
       "['dA_max_dr(r = sigma) = 0']"
      ]
     },
     "metadata": {},
     "output_type": "display_data"
    },
    {
     "data": {
      "text/plain": [
       "['dA_max_dr(r = 1)     = 0']"
      ]
     },
     "metadata": {},
     "output_type": "display_data"
    },
    {
     "data": {
      "text/plain": [
       "['dA_min_dr(r = sigma) = 0']"
      ]
     },
     "metadata": {},
     "output_type": "display_data"
    },
    {
     "data": {
      "text/plain": [
       "['dA_min_dr(r = 1)     = 0']"
      ]
     },
     "metadata": {},
     "output_type": "display_data"
    }
   ],
   "source": [
    "# Sanity check for the for the fairing functions\n",
    "display(['dA_max_dr(r = sigma) = '+ str(sp.simplify(dA_max_dr.subs('r',r_min)))])\n",
    "display(['dA_max_dr(r = 1)     = '+ str(sp.simplify(dA_max_dr.subs('r',r_max    )))])\n",
    "display(['dA_min_dr(r = sigma) = '+ str(sp.simplify(dA_min_dr.subs('r',r_min)))])\n",
    "display(['dA_min_dr(r = 1)     = '+ str(sp.simplify(dA_min_dr.subs('r',r_max    )))])"
   ]
  },
  {
   "cell_type": "markdown",
   "id": "a457e05a-514c-4cf3-8e28-2e39579e8a8a",
   "metadata": {},
   "source": [
    "## 1.2 Corrected Function"
   ]
  },
  {
   "cell_type": "markdown",
   "id": "8400fbd2-c94e-4cc6-a838-cdb10e1bcb35",
   "metadata": {
    "tags": []
   },
   "source": [
    "Given a specified analytical function, $f_{MS}(\\widetilde{r})$,   where \n",
    "$\\sigma \\leq \\widetilde{r} \\leq 1$ and there are desired values of $f$ at the \n",
    "boundaries (why). The desired values are going to be denoted as \n",
    "$f_{minBC}$ and $f_{maxBC}$\n",
    "The desired changes in $f$ are defined as:\n",
    "\n",
    "\\begin{align*}\n",
    "    \\Delta f_{minBC} = f_{minBC} - f_{MS}(\\widetilde{r} = \\sigma)\\\\\n",
    "    \\Delta f_{maxBC} = f_{maxBC} - f_{MS}(\\widetilde{r} = 1) \n",
    "\\end{align*}\n",
    "We'd like to impose these changes smoothly on the manufactured solution function.\n",
    "To do this,the fairing functions, $A_{min}(\\widetilde{r})$ and $A_{max}(\\widetilde{r})$\n",
    "where:\n",
    "\\begin{align*}\n",
    "    f_{BCsImposed}(\\widetilde{r}) = f_{MS}(\\widetilde{r}) +\n",
    "    A_{min}(\\widetilde{r}) \\Delta f_{minBC}  +  \n",
    "    A_{max}(\\widetilde{r}) \\Delta f_{maxBC}  \n",
    "\\end{align*}\n",
    "The function FairingFunction1 generates this function"
   ]
  },
  {
   "cell_type": "markdown",
   "id": "dae62811-8af2-4315-acf4-1820615dca56",
   "metadata": {},
   "source": [
    "## 1.3 Generating a Modified Manufactured Solution "
   ]
  },
  {
   "cell_type": "code",
   "execution_count": 8,
   "id": "1cba4d8b-c9a4-4a9e-a001-ef581a676533",
   "metadata": {
    "tags": []
   },
   "outputs": [
    {
     "name": "stdout",
     "output_type": "stream",
     "text": [
      "⎡                                      ⎛              3                2 ⎞    \n",
      "⎢                                      ⎜  2⋅(r - rₘᵢₙ)     3⋅(r - rₘᵢₙ)  ⎟    \n",
      "⎢f_BCsImposed = , (-f_maxBC + f_maxMS)⋅⎜- ────────────── + ──────────────⎟ + (\n",
      "⎢                                      ⎜               3                2⎟    \n",
      "⎣                                      ⎝  (rₘₐₓ - rₘᵢₙ)    (rₘₐₓ - rₘᵢₙ) ⎠    \n",
      "\n",
      "                    ⎛            3                2     ⎞          ⎤\n",
      "                    ⎜2⋅(r - rₘᵢₙ)     3⋅(r - rₘᵢₙ)      ⎟          ⎥\n",
      "-f_minBC + f_minMS)⋅⎜────────────── - ────────────── + 1⎟ + f_MS(r)⎥\n",
      "                    ⎜             3                2    ⎟          ⎥\n",
      "                    ⎝(rₘₐₓ - rₘᵢₙ)    (rₘₐₓ - rₘᵢₙ)     ⎠          ⎦\n",
      "⎡                                          ⎛              2                  ⎞\n",
      "⎢                                          ⎜  6⋅(r - rₘᵢₙ)      6⋅r - 6⋅rₘᵢₙ ⎟\n",
      "⎢df_BCsImposed_dr = , (-f_maxBC + f_maxMS)⋅⎜- ────────────── + ──────────────⎟\n",
      "⎢                                          ⎜               3                2⎟\n",
      "⎣                                          ⎝  (rₘₐₓ - rₘᵢₙ)    (rₘₐₓ - rₘᵢₙ) ⎠\n",
      "\n",
      "                        ⎛                             2 ⎞              ⎤\n",
      "                        ⎜-6⋅r + 6⋅rₘᵢₙ    6⋅(r - rₘᵢₙ)  ⎟   d          ⎥\n",
      " + (-f_minBC + f_minMS)⋅⎜────────────── + ──────────────⎟ + ──(f_MS(r))⎥\n",
      "                        ⎜             2                3⎟   dr         ⎥\n",
      "                        ⎝(rₘₐₓ - rₘᵢₙ)    (rₘₐₓ - rₘᵢₙ) ⎠              ⎦\n"
     ]
    }
   ],
   "source": [
    "f_BCsImposed = fcn.ModifiedManufacturedSolution(f_MS,f_minBC,f_maxBC,f_minMS,f_maxMS,A_min,A_max)\n",
    "\n",
    "pprint(['f_BCsImposed = ',  f_BCsImposed])\n",
    "df_BCsImposed_dr = sp.diff(f_BCsImposed,'r')\n",
    "pprint(['df_BCsImposed_dr = ',  df_BCsImposed_dr])"
   ]
  },
  {
   "cell_type": "markdown",
   "id": "c3c66ec5-8dbc-471a-b940-6fdcbdb63d50",
   "metadata": {},
   "source": [
    "## 2 Sanity Checks"
   ]
  },
  {
   "cell_type": "markdown",
   "id": "45df1142-b52d-4492-b56a-8dd4bf482a9d",
   "metadata": {},
   "source": [
    "## 2.1 Symbolic Sanity Checks\n",
    "We want to ensure that $f_{BCsImposed}$ has the desired boundary conditions, \n",
    "$f_{minBC/maxBC}$ instead of the original boundary values that come along\n",
    "for the ride in the manufactured solutions, $f_{MS}(\\widetilde{r}=\\sigma /1)$. \n",
    "In another iteration of this method, we will be changing the derivative values,\n",
    "so let's check the values of $\\frac{\\partial f_{BCsImposed}}{\\partial \\widetilde{r}}$ \n",
    "to make sure those aren't effected unintentionally.\n",
    "\n",
    "\\subsubsection*{Symbolic Sanity Check 1}\n",
    "The modified manufactured solution, $f_{BCsImposed}$ with the fairing functions\n",
    "$A_{min}$ and $A_{max}$ substituted in is,\n",
    "\\begin{align*}\n",
    "    f_{BCsImposed}(\\widetilde{r}) =\n",
    "    \\left(\n",
    "        3 \\left(  \\frac{\\widetilde{r} - \\sigma }{ 1 - \\sigma}\\right)^2- \n",
    "        2 \\left( \\frac{\\widetilde{r} - \\sigma}{1 - \\sigma} \\right)^3 \n",
    "    \\right)\n",
    "    \\left[ \\Delta f_{maxBC} \\right] .\n",
    "\\end{align*} \n",
    "Further simplification yields,\n",
    "\\begin{align*}\n",
    "    f_{BCsImposed}(\\widetilde{r} = \\sigma) \n",
    "    &=\n",
    "    \\left(\n",
    "        f_{MS}(\\widetilde{r} = \\sigma) +\n",
    "        \\Delta f_{minBC} +\n",
    "        \\left( 3\\left(  \\frac{\\sigma - \\sigma}{1 - \\sigma} \\right)^2- \n",
    "          2\\left(  \\frac{\\sigma - \\sigma}{1 - \\sigma} \\right)^3- \n",
    "        \\right)\n",
    "        \\left[ \\Delta f_{maxBC} - \\Delta f_{minBC}  \\right] \n",
    "    \\right)\\\\\n",
    "    &=  f_{MS}(\\widetilde{r} = \\sigma) + \\Delta f_{minBC}\\\\\n",
    "    &=  f_{MS}(\\widetilde{r} = \\sigma) + (f_{minBC} - f_{MS}(\\widetilde{r} = \\sigma)) \\\\\n",
    "    &=  f_{minBC}\n",
    "\\end{align*} \n",
    "\n",
    "\n",
    "\\begin{align*}\n",
    "    f_{BCsImposed}(\\widetilde{r} = 1 ) \n",
    "    &=\n",
    "    \\left(\n",
    "        f_{MS}(\\widetilde{r} = 1) +\n",
    "        \\Delta f_{minBC} +\n",
    "        \\left( 3\\left(  \\frac{1 - \\sigma}{1 - \\sigma} \\right)^2- \n",
    "          2\\left(  \\frac{1 - \\sigma}{1 - \\sigma} \\right)^3- \n",
    "        \\right)\n",
    "        \\left[ \\Delta f_{maxBC} - \\Delta f_{minBC}  \\right] \n",
    "    \\right)\\\\\n",
    "    &=  f_{MS}(\\widetilde{r} = 1) + \\Delta f_{maxBC}\\\\\n",
    "    &=  f_{MS}(\\widetilde{r} = 1) + (f_{maxBC} - f_{MS}(\\widetilde{r} = 1)) \\\\\n",
    "    &=  f_{maxBC}\n",
    "\\end{align*} \n",
    "\n",
    "\n",
    "\\begin{align*}\n",
    "    \\frac{\\partial}{\\partial \\widetilde{r}}\\left(  f_{BCsImposed}(\\widetilde{r}) =\n",
    "    \\left(\n",
    "        3 \\left(  \\frac{\\widetilde{r} - \\sigma }{ 1 - \\sigma}\\right)^2- \n",
    "        2 \\left( \\frac{\\widetilde{r} - \\sigma}{1 - \\sigma} \\right)^3 \n",
    "    \\right)\n",
    "    \\left[ \\Delta f_{maxBC} \\right]\\right) \\\\\n",
    "    \\frac{\\partial f_{MS}}{\\partial \\widetilde{r}} + \n",
    "    \\left( \\frac{6}{1-\\sigma} \\right)\n",
    "    \\left( \n",
    "        \\left( \\frac{\\widetilde{r} - \\sigma}{1 - \\sigma} \\right) -\n",
    "    \\left( \\frac{r - \\sigma}{1 - \\sigma} \\right)^2 \\right)\n",
    "    \\left( \\Delta f_{maxBC} - \\Delta f_{minBC} \\right)\n",
    "\\end{align*} \n",
    "\n",
    "\n",
    "At $\\widetilde{r} = \\sigma$, the derivative is: \n",
    "\n",
    "\\begin{align*}\n",
    "    \\frac{\\partial f_{MS}}{\\partial \\widetilde{r}}|_{\\sigma} \\\\\n",
    "    \\frac{\\partial f_{MS}}{\\partial \\widetilde{r}}|_{1} \n",
    "\\end{align*}\n",
    "\n"
   ]
  },
  {
   "cell_type": "markdown",
   "id": "dddf6712-8afd-4d10-b9bd-8253696fac0b",
   "metadata": {},
   "source": [
    "In summary the four sanity checks should give\n",
    "\n",
    "\n",
    "$$f_{BCsImposed}(\\widetilde{r} = \\sigma) = f_{minBC}$$\n",
    "$$f_{BCsImposed}(\\widetilde{r} = 1) = f_{maxBC}$$\n",
    "$$f'_{BCsImposed}(\\widetilde{r} = \\sigma) =\\frac{\\partial f_{MS}}{\\partial \\widetilde{r}}|_{\\sigma}  $$\n",
    "$$f'_{BCsImposed}(\\widetilde{r} = 1) = \\frac{\\partial f_{MS}}{\\partial \\widetilde{r}}|_{1}  $$"
   ]
  },
  {
   "cell_type": "code",
   "execution_count": 9,
   "id": "f09811ed-8c93-4d5a-bf9a-5a0007edf7f9",
   "metadata": {},
   "outputs": [
    {
     "name": "stdout",
     "output_type": "stream",
     "text": [
      "                     ⎛              3                2 ⎞                      \n",
      "                     ⎜  2⋅(r - rₘᵢₙ)     3⋅(r - rₘᵢₙ)  ⎟                      \n",
      "(-f_maxBC + f_maxMS)⋅⎜- ────────────── + ──────────────⎟ + (-f_minBC + f_minMS\n",
      "                     ⎜               3                2⎟                      \n",
      "                     ⎝  (rₘₐₓ - rₘᵢₙ)    (rₘₐₓ - rₘᵢₙ) ⎠                      \n",
      "\n",
      "  ⎛            3                2     ⎞          \n",
      "  ⎜2⋅(r - rₘᵢₙ)     3⋅(r - rₘᵢₙ)      ⎟          \n",
      ")⋅⎜────────────── - ────────────── + 1⎟ + f_MS(r)\n",
      "  ⎜             3                2    ⎟          \n",
      "  ⎝(rₘₐₓ - rₘᵢₙ)    (rₘₐₓ - rₘᵢₙ)     ⎠          \n",
      "[f_BCsImposed(r = sigma)     = , 2⋅f_MS - f_minBC]\n",
      "[f_BCsImposed(r = 1)         = , 2⋅f_MS - f_maxBC]\n",
      "⎡                                  d              ⎤\n",
      "⎢df_BCsImposed_dr(r = sigma) = , ─────(f_MS(rₘᵢₙ))⎥\n",
      "⎣                                drₘᵢₙ            ⎦\n",
      "⎡                                  d              ⎤\n",
      "⎢df_BCsImposed_dr(r = 1)     = , ─────(f_MS(rₘₐₓ))⎥\n",
      "⎣                                drₘₐₓ            ⎦\n"
     ]
    }
   ],
   "source": [
    "# Symbolic Sanity Check\n",
    "pprint(f_BCsImposed)\n",
    "#changing the sp.Function('f_MS') to a Symbol\n",
    "for f in sp.preorder_traversal(f_BCsImposed):\n",
    "  if f.args == (r,):\n",
    "    f_BCsImposed = f_BCsImposed.subs(f, sp.Symbol(str(f.func)))\n",
    "    \n",
    "pprint(['f_BCsImposed(r = sigma)     = ',f_BCsImposed.subs({'f_minMS':'f_MS','r':'r_min'})])\n",
    "pprint(['f_BCsImposed(r = 1)         = ',f_BCsImposed.subs({'f_maxMS':'f_MS','r':'r_max'})])\n",
    "pprint(['df_BCsImposed_dr(r = sigma) = ',sp.simplify(df_BCsImposed_dr.subs({'r':'r_min'}))])\n",
    "pprint(['df_BCsImposed_dr(r = 1)     = ',sp.simplify(df_BCsImposed_dr.subs({'r':'r_max'}))])"
   ]
  },
  {
   "cell_type": "markdown",
   "id": "7de17338-101d-475b-a173-886237a2bf31",
   "metadata": {},
   "source": [
    "## 2.2 Example function sanity check, f_MS = exp(beta)"
   ]
  },
  {
   "cell_type": "code",
   "execution_count": 10,
   "id": "bf2daf4f-ace6-4c1f-a52b-b687aac5d4db",
   "metadata": {},
   "outputs": [
    {
     "data": {
      "image/png": "[encoded data removed]",
      "text/latex": [
       "$\\displaystyle e^{\\frac{r - r_{min}}{r_{max} - r_{min}}}$"
      ],
      "text/plain": [
       "   r - rₘᵢₙ \n",
       " ───────────\n",
       " rₘₐₓ - rₘᵢₙ\n",
       "ℯ           "
      ]
     },
     "metadata": {},
     "output_type": "display_data"
    },
    {
     "name": "stdout",
     "output_type": "stream",
     "text": [
      "[the desired boundary conditions are: ]\n",
      "[f_minBC =, 0.25]\n",
      "[f_maxBC =, 0.25]\n",
      "[the current boundary conditions are: ]\n",
      "[f_minMS =, 1]\n",
      "[f_maxMS =, 3]\n"
     ]
    }
   ],
   "source": [
    "# defining a test function to imposed BCs on\n",
    "# the function has to be a function of beta! \n",
    "\n",
    "f_MS    = sp.exp(beta)\n",
    "f_minMS = sp.exp(beta_min)\n",
    "f_maxMS = sp.exp(beta_max)\n",
    "# the desired boundary conditions\n",
    "f_maxBC = 0.25\n",
    "f_minBC = 0.25\n",
    "\n",
    "display(f_MS)\n",
    "pprint(['the desired boundary conditions are: '])\n",
    "pprint(['f_minBC =',f_minBC])\n",
    "pprint(['f_maxBC =',f_maxBC])\n",
    "\n",
    "pprint(['the current boundary conditions are: '])\n",
    "\n",
    "pprint(['f_minMS =' ,f_minMS])\n",
    "pprint(['f_maxMS =' ,f_maxMS.round()])"
   ]
  },
  {
   "cell_type": "code",
   "execution_count": 11,
   "id": "399736c5-6f71-464a-8986-de380fc22722",
   "metadata": {},
   "outputs": [
    {
     "name": "stdout",
     "output_type": "stream",
     "text": [
      "                                                                              \n",
      "                                                                              \n",
      "              3                  2                                      2     \n",
      "1.5⋅(r - rₘᵢₙ)  - 2.25⋅(r - rₘᵢₙ) ⋅(rₘₐₓ - rₘᵢₙ) + (0.25 - ℯ)⋅(r - rₘᵢₙ) ⋅(2⋅r\n",
      "──────────────────────────────────────────────────────────────────────────────\n",
      "                                                                         3    \n",
      "                                                            (rₘₐₓ - rₘᵢₙ)     \n",
      "\n",
      "                                   ⎛   r - rₘᵢₙ        ⎞\n",
      "                                   ⎜ ───────────       ⎟\n",
      "                                 3 ⎜ rₘₐₓ - rₘᵢₙ       ⎟\n",
      " - 3⋅rₘₐₓ + rₘᵢₙ) + (rₘₐₓ - rₘᵢₙ) ⋅⎝ℯ            + 0.75⎠\n",
      "────────────────────────────────────────────────────────\n",
      "                                                        \n",
      "                                                        \n"
     ]
    }
   ],
   "source": [
    "f_BCsImposed     = fcn.ModifiedManufacturedSolution( f_MS   , \\\n",
    "                                                 f_minBC, \\\n",
    "                                                 f_maxBC, \\\n",
    "                                                 f_minMS, \\\n",
    "                                                 f_maxMS, \\\n",
    "                                                 A_min  , \\\n",
    "                                                 A_max)\n",
    "df_BCsImposed_dr = sp.diff(f_BCsImposed,'r')\n",
    "pprint(sp.simplify(f_BCsImposed))"
   ]
  },
  {
   "cell_type": "markdown",
   "id": "dabe6c97-7689-4516-a579-74b90dc2f745",
   "metadata": {},
   "source": []
  },
  {
   "cell_type": "code",
   "execution_count": 12,
   "id": "72fd5592-b9ea-4add-b641-9e08bca722a4",
   "metadata": {},
   "outputs": [
    {
     "name": "stdout",
     "output_type": "stream",
     "text": [
      "[f_BCsImposed (r = sigma) =, 1.75]\n",
      "[f_BCsImposed (r = 1)     =, -0.25 + 2⋅ℯ]\n",
      "⎡                                                                             \n",
      "⎢                                                                             \n",
      "⎢                                         ⎛                              2⎞   \n",
      "⎢                                         ⎜-6⋅rₘᵢₙ + 6⋅σ    6⋅(-rₘᵢₙ + σ) ⎟   \n",
      "⎢df_BCsImposed (r = sigma) =, (-0.25 + ℯ)⋅⎜────────────── - ──────────────⎟ + \n",
      "⎢                                         ⎜             2                3⎟   \n",
      "⎣                                         ⎝(rₘₐₓ - rₘᵢₙ)    (rₘₐₓ - rₘᵢₙ) ⎠   \n",
      "\n",
      "  -rₘᵢₙ + σ                                       ⎤\n",
      " ───────────                                      ⎥\n",
      " rₘₐₓ - rₘᵢₙ                                     2⎥\n",
      "ℯ              4.5⋅rₘᵢₙ - 4.5⋅σ   4.5⋅(-rₘᵢₙ + σ) ⎥\n",
      "──────────── + ──────────────── + ────────────────⎥\n",
      "rₘₐₓ - rₘᵢₙ                  2                  3 ⎥\n",
      "                (rₘₐₓ - rₘᵢₙ)      (rₘₐₓ - rₘᵢₙ)  ⎦\n",
      "⎡                                                                             \n",
      "⎢                                                                             \n",
      "⎢                                                                           2 \n",
      "⎢                         6⋅(0.25 - ℯ)⋅(rₘₐₓ - 1)⋅(rₘᵢₙ - 1) + (rₘₐₓ - rₘᵢₙ) ⋅\n",
      "⎢df_BCsImposed (r = 1) =, ────────────────────────────────────────────────────\n",
      "⎢                                                                             \n",
      "⎣                                                                           (r\n",
      "\n",
      "   1 - rₘᵢₙ                                                  ⎤\n",
      " ───────────                                                 ⎥\n",
      " rₘₐₓ - rₘᵢₙ                                                2⎥\n",
      "ℯ            + 4.5⋅(rₘₐₓ - rₘᵢₙ)⋅(rₘᵢₙ - 1) + 4.5⋅(rₘᵢₙ - 1) ⎥\n",
      "─────────────────────────────────────────────────────────────⎥\n",
      "           3                                                 ⎥\n",
      "ₘₐₓ - rₘᵢₙ)                                                  ⎦\n"
     ]
    }
   ],
   "source": [
    "f_BCsImposed_min = f_BCsImposed.subs(r,r_min)\n",
    "f_BCsImposed_max = f_BCsImposed.subs(r,r_max)\n",
    "\n",
    "pprint(['f_BCsImposed (r = sigma) =',  f_BCsImposed_min])\n",
    "pprint(['f_BCsImposed (r = 1)     =',  f_BCsImposed_max])\n",
    "\n",
    "df_BCsImposed_min = df_BCsImposed_dr.subs(r,sigma)\n",
    "df_BCsImposed_max = df_BCsImposed_dr.subs(r,1)\n",
    "pprint(['df_BCsImposed (r = sigma) =',df_BCsImposed_min ])\n",
    "pprint(['df_BCsImposed (r = 1) =', sp.simplify( df_BCsImposed_max)])"
   ]
  },
  {
   "cell_type": "markdown",
   "id": "d3eaefd5-4fc9-4b29-bbd8-b8e80c537935",
   "metadata": {},
   "source": [
    "This concludes setting the boundary condition values using a fairing function.  Coming up next\n",
    "is setting the boundary condition derivative values."
   ]
  },
  {
   "cell_type": "code",
   "execution_count": null,
   "id": "f5641efc-2d37-4b34-bc77-ce32efb090d5",
   "metadata": {},
   "outputs": [],
   "source": []
  },
  {
   "cell_type": "code",
   "execution_count": null,
   "id": "5e2cc6a2-af6d-4518-b727-0fc0fa8aed64",
   "metadata": {},
   "outputs": [],
   "source": []
  }
 ],
 "metadata": {
  "kernelspec": {
   "display_name": "Python 3",
   "language": "python",
   "name": "python3"
  },
  "language_info": {
   "codemirror_mode": {
    "name": "ipython",
    "version": 3
   },
   "file_extension": ".py",
   "mimetype": "text/x-python",
   "name": "python",
   "nbconvert_exporter": "python",
   "pygments_lexer": "ipython3",
   "version": "3.8.8"
  }
 },
 "nbformat": 4,
 "nbformat_minor": 5
}
