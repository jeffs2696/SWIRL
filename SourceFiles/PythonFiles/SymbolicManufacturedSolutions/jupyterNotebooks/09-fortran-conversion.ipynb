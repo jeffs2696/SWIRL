{
 "cells": [
  {
   "cell_type": "code",
   "execution_count": null,
   "id": "5a33fda3-617f-4946-a9ab-99522a4bf783",
   "metadata": {},
   "outputs": [],
   "source": [
    "%run create-fortran-scripts/create-fortran-file-sound-speed.ipynb\n",
    "\n",
    "%run create-fortran-scripts/create-fortran-file-perturbation-variables.ipynb\n",
    "\n",
    "S_1 = S[0]\n",
    "S_2 = S[1]\n",
    "S_3 = S[2]\n",
    "S_4 = S[3]\n",
    "%run create-fortran-scripts/create-fortran-file-LEE-source-terms.ipynb\n",
    "\n",
    "%run create-fortran-scripts/create-fortran-file-LEE-source-terms-components.ipynb\n",
    "\n"
   ]
  }
 ],
 "metadata": {
  "kernelspec": {
   "display_name": "Python 3",
   "language": "python",
   "name": "python3"
  },
  "language_info": {
   "codemirror_mode": {
    "name": "ipython",
    "version": 3
   },
   "file_extension": ".py",
   "mimetype": "text/x-python",
   "name": "python",
   "nbconvert_exporter": "python",
   "pygments_lexer": "ipython3",
   "version": "3.8.8"
  }
 },
 "nbformat": 4,
 "nbformat_minor": 5
}
