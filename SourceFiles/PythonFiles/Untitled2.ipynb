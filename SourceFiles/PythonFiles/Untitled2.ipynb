{
 "cells": [
  {
   "cell_type": "code",
   "execution_count": 1,
   "id": "ca768eed-7a87-4c72-afa3-01425b3016ac",
   "metadata": {},
   "outputs": [],
   "source": [
    "from sympy import symbols\n",
    "from numpy import linspace\n",
    "from sympy import lambdify, Function\n",
    "import matplotlib.pyplot as mpl\n",
    "import sympy as sp\n",
    "import sys"
   ]
  },
  {
   "cell_type": "code",
   "execution_count": 6,
   "id": "ec8a3fdc-4006-4d20-9de4-9767661b9692",
   "metadata": {},
   "outputs": [],
   "source": [
    "n = 4 # number of kinks\n",
    "B          = 15 \n"
   ]
  },
  {
   "cell_type": "code",
   "execution_count": 6,
   "id": "f742565a-2d2d-4840-af99-1b503a6898a3",
   "metadata": {},
   "outputs": [],
   "source": [
    "def TanhMethodMMS(n,B):\n",
    "    RightKink  = []\n",
    "    LeftKink   = []\n",
    "    A          = []\n",
    "    max_amplitude = 0.75\n",
    "    S_vertical = 1\n",
    "    \n",
    "    rj = list(linspace(1,0,n))\n",
    "    \n",
    "    warning_mssg = {1:'Warning: Total Amplitude exceeds maximum ', \\\n",
    "                    2:'Warning: Function is negative'}\n",
    "    \n",
    "    # getting amplitude for each kink\n",
    "    for i in range(len(rj)):\n",
    "        A.append(max_amplitude/(len(rj)+1))\n",
    "        if sum(A) > max_amplitude:\n",
    "            sys.exit(str(warning_mssg[1]))\n",
    "    \n",
    "    # defining kinks and antikinks\n",
    "    for j in range(len(rj)):\n",
    "        R.append( A[j]*sp.tanh(B*( r    - rj[j] )) )\n",
    "        L.append( A[j]*sp.tanh(B*( rj[j]- rj[0] )) )   \n",
    "    \n",
    "    y = sum(L) + sum(R) + S_vertical\n",
    "    return y"
   ]
  },
  {
   "cell_type": "code",
   "execution_count": 8,
   "id": "1f9e7c58-199c-46da-a228-7eae0afe71ad",
   "metadata": {},
   "outputs": [
    {
     "data": {
      "image/png": "[encoded data removed]",
      "text/plain": [
       "<Figure size 432x288 with 1 Axes>"
      ]
     },
     "metadata": {
      "needs_background": "light"
     },
     "output_type": "display_data"
    }
   ],
   "source": [
    "lam_x = lambdify(r,y , modules=['numpy'])\n",
    "r_min = 0\n",
    "r_max = 1\n",
    "\n",
    "x_vals = linspace(r_min, r_max, 100)\n",
    "y_vals = lam_x(x_vals)\n",
    "debug = 0\n",
    "if debug == 1:\n",
    "    for i in range(len(y_vals)):\n",
    "        if y_vals[i] < 0:\n",
    "            sys.exit(str(warning_mssg[2]))\n",
    "        \n",
    "mpl.plot(x_vals, y_vals)\n",
    "mpl.show()"
   ]
  },
  {
   "cell_type": "code",
   "execution_count": null,
   "id": "e219e04e-c0cc-48e5-8d99-f34f03f6e50d",
   "metadata": {},
   "outputs": [],
   "source": []
  },
  {
   "cell_type": "code",
   "execution_count": null,
   "id": "bc3bca9b-514b-4f68-8727-caa77847b170",
   "metadata": {},
   "outputs": [],
   "source": []
  },
  {
   "cell_type": "code",
   "execution_count": null,
   "id": "1ba0e8c9-d26e-4a40-908a-1ce91a360471",
   "metadata": {},
   "outputs": [],
   "source": []
  },
  {
   "cell_type": "code",
   "execution_count": 47,
   "id": "66580ae9-1dd3-4cfe-9804-21ccf181a3e7",
   "metadata": {},
   "outputs": [],
   "source": []
  }
 ],
 "metadata": {
  "kernelspec": {
   "display_name": "Python 3",
   "language": "python",
   "name": "python3"
  },
  "language_info": {
   "codemirror_mode": {
    "name": "ipython",
    "version": 3
   },
   "file_extension": ".py",
   "mimetype": "text/x-python",
   "name": "python",
   "nbconvert_exporter": "python",
   "pygments_lexer": "ipython3",
   "version": "3.8.8"
  }
 },
 "nbformat": 4,
 "nbformat_minor": 5
}
