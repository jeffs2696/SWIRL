{
 "cells": [
  {
   "cell_type": "code",
   "execution_count": 1,
   "id": "ca768eed-7a87-4c72-afa3-01425b3016ac",
   "metadata": {},
   "outputs": [],
   "source": [
    "from sympy import symbols\n",
    "from numpy import linspace\n",
    "from sympy import lambdify, Function\n",
    "from sympy.interactive import printing\n",
    "printing.init_printing(use_latex = True)\n",
    "import matplotlib.pyplot as mpl\n",
    "import sympy as sp\n",
    "import sys"
   ]
  },
  {
   "cell_type": "code",
   "execution_count": 2,
   "id": "18312f5c-0ab4-4a62-a1a5-1edeac5162b9",
   "metadata": {
    "tags": []
   },
   "outputs": [],
   "source": [
    "def TanhMethodMMS(n,B):\n",
    "    # inputs: \n",
    "    #   n - number of tanh functions\n",
    "    #   B - the slope around the inflection point\n",
    "    \n",
    "    # outputs:     \n",
    "    # initialize lists for the tanh function\n",
    "    RightKink  = []\n",
    "    LeftKink   = []\n",
    "    \n",
    "    # amplitude for each wave\n",
    "    A          = []\n",
    "    \n",
    "    # maximum allowed amplitude \n",
    "    max_amplitude = 0.75\n",
    "   \n",
    "    # vertical shift along the y axis\n",
    "    # one is chosed to keep the inflection points above \n",
    "    # zero\n",
    "    S_vertical = 1\n",
    "    \n",
    "    # rj is the list of inflection point locations\n",
    "    rj = list(linspace(1,0,n))\n",
    "    r_min = 0\n",
    "    r_max = 1\n",
    "    \n",
    "    # rescaling the radius (redundant but needed for BC Fairing Function)\n",
    "    r_hat = (r - r_min)/(r_max - r_min)\n",
    "    \n",
    "    # messages for error and warning checking \n",
    "    warning_mssg = {1:'Warning: Total Amplitude exceeds maximum ', \\\n",
    "                    2:'Warning: Function is negative'}\n",
    "    \n",
    "    # getting amplitude for each kink\n",
    "    for i in range(len(rj)):\n",
    "        # \n",
    "        A.append(max_amplitude/(len(rj)+1))\n",
    "        if sum(A) > max_amplitude:\n",
    "            sys.exit(str(warning_mssg[1]))\n",
    "    \n",
    "    # defining kinks and antikinks\n",
    "    for j in range(len(rj)):\n",
    "        RightKink.append( A[j]*sp.tanh(B*( r_hat    - rj[j] )) )\n",
    "        LeftKink.append(  A[j]*sp.tanh(B*( rj[j]- rj[0] )) )   \n",
    "    \n",
    "    f = sum(LeftKink) + sum(RightKink) + S_vertical\n",
    "    return f"
   ]
  }
 ],
 "metadata": {
  "kernelspec": {
   "display_name": "Python 3",
   "language": "python",
   "name": "python3"
  },
  "language_info": {
   "codemirror_mode": {
    "name": "ipython",
    "version": 3
   },
   "file_extension": ".py",
   "mimetype": "text/x-python",
   "name": "python",
   "nbconvert_exporter": "python",
   "pygments_lexer": "ipython3",
   "version": "3.8.8"
  }
 },
 "nbformat": 4,
 "nbformat_minor": 5
}
