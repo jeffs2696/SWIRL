{
 "cells": [
  {
   "cell_type": "code",
   "execution_count": 27,
   "id": "51bbcb5e-8c16-45cf-8cb0-e2604d500d1c",
   "metadata": {},
   "outputs": [],
   "source": [
    "from IPython.core.debugger import set_trace#1-Up.ipynb\n",
    "%run 1-Set-Up.ipynb"
   ]
  },
  {
   "cell_type": "code",
   "execution_count": 28,
   "id": "8b0a639c-db2d-43c2-98d0-5042e234cb5c",
   "metadata": {},
   "outputs": [
    {
     "ename": "SyntaxError",
     "evalue": "cannot assign to function call (<ipython-input-28-399fe7de97ae>, line 24)",
     "output_type": "error",
     "traceback": [
      "\u001b[0;36m  File \u001b[0;32m\"<ipython-input-28-399fe7de97ae>\"\u001b[0;36m, line \u001b[0;32m24\u001b[0m\n\u001b[0;31m    x(j) = j\u001b[0m\n\u001b[0m    ^\u001b[0m\n\u001b[0;31mSyntaxError\u001b[0m\u001b[0;31m:\u001b[0m cannot assign to function call\n"
     ]
    }
   ],
   "source": [
    "k, j, a11 = symbols('k j a11')\n",
    "r = IndexedBase('r')\n",
    "i = Idx('i')\n",
    "\n",
    "rows = 4\n",
    "cols = 4\n",
    "\n",
    "# initialize A and A global with zeros\n",
    "# (A global will be a block diagonal composed of A) \n",
    "x = sp.zeros(cols)\n",
    "A = sp.zeros(rows,cols)\n",
    "A_global = sp.zeros(rows**2,cols**2)\n",
    "\n",
    "for k in range(rows):\n",
    "    for j in range(cols):\n",
    "        k1 = k + rows\n",
    "        k2 = k + 2*rows\n",
    "        k3 = k + 3*rows\n",
    "        \n",
    "        j1 = j + rows\n",
    "        j2 = j + 2*rows\n",
    "        j3 = j + 3*rows\n",
    "        \n",
    "        x[j ) = j\n",
    "        x[j1)= j1\n",
    "        x[j2)= j2\n",
    "        x[j3)=j3\n",
    "        #creating A\n",
    "        if k==j:\n",
    "            A[k,j] = r[k,j]\n",
    "\n",
    "        #creating A global\n",
    "        A_global[k,j] = A[k,j]\n",
    "        A_global[k1,j1] = A[k,j]\n",
    "pprint(A)\n",
    "\n",
    "pprint(A_global)\n",
    "# assign elements for A \n",
    "#for k in range(rows):\n",
    "#    for j in range(cols):\n",
    "#        if k == j:\n",
    "#            A[k,j] = 1\n",
    "#        \n",
    "#pprint(A)"
   ]
  },
  {
   "cell_type": "code",
   "execution_count": null,
   "id": "61dbdd33-9e7c-4f27-8c4c-f695b254b51d",
   "metadata": {},
   "outputs": [],
   "source": []
  },
  {
   "cell_type": "code",
   "execution_count": null,
   "id": "381d5f48-b9c0-45c3-9a0d-d4a957cd0ce4",
   "metadata": {},
   "outputs": [],
   "source": []
  }
 ],
 "metadata": {
  "kernelspec": {
   "display_name": "Python 3",
   "language": "python",
   "name": "python3"
  },
  "language_info": {
   "codemirror_mode": {
    "name": "ipython",
    "version": 3
   },
   "file_extension": ".py",
   "mimetype": "text/x-python",
   "name": "python",
   "nbconvert_exporter": "python",
   "pygments_lexer": "ipython3",
   "version": "3.8.8"
  }
 },
 "nbformat": 4,
 "nbformat_minor": 5
}
