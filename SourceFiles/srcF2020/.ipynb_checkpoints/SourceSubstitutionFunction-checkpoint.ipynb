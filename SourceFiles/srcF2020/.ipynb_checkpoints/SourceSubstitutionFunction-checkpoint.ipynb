{
 "cells": [
  {
   "cell_type": "code",
   "execution_count": null,
   "id": "75733fc5",
   "metadata": {},
   "outputs": [],
   "source": [
    "def SourceSubstitution(S, \\\n",
    "                       A_analytic         , \\\n",
    "                       M_t_analytic       , \\\n",
    "                       M_x_analytical     , \\\n",
    "                       v_r_analytical     , \\\n",
    "                       v_t_analytical     , \\\n",
    "                       v_x_analytical     , \\\n",
    "                       p_analytical       , \\\n",
    "                       dp_dr_analytical   , \\\n",
    "                       dv_r_dr_analytical , \\\n",
    "                       dM_x_dr_analytical , \\\n",
    "                       dM_t_dr_analytical , \\\n",
    "                      ): \n",
    "    \n",
    "    print('Input Source: ', S)\n",
    "    S = S.subs({ \\\n",
    "            A:A_analytic       , \\\n",
    "            M_t:M_t_analytic   , \\\n",
    "            M_x:M_x_analytical , \\\n",
    "            v_r:v_r_analytical , \\\n",
    "            v_t:v_t_analytical , \\\n",
    "            v_x:v_x_analytical , \\\n",
    "            p:p_analytical     , \\\n",
    "            dp_dr:dp_dr_analytical, \\\n",
    "            dv_r_dr:dv_r_dr_analytical, \\\n",
    "            dM_x_dr:dM_x_dr_analytical, \\\n",
    "            dM_t_dr:dM_t_dr_analytical, \\\n",
    "               })\n",
    "    print('Output Source', S)\n",
    "    return S"
   ]
  }
 ],
 "metadata": {
  "kernelspec": {
   "display_name": "Python 3",
   "language": "python",
   "name": "python3"
  },
  "language_info": {
   "codemirror_mode": {
    "name": "ipython",
    "version": 3
   },
   "file_extension": ".py",
   "mimetype": "text/x-python",
   "name": "python",
   "nbconvert_exporter": "python",
   "pygments_lexer": "ipython3",
   "version": "3.8.8"
  }
 },
 "nbformat": 4,
 "nbformat_minor": 5
}
