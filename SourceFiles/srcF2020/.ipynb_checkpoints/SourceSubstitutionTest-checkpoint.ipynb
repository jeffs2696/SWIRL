{
 "cells": [
  {
   "cell_type": "code",
   "execution_count": 7,
   "id": "5eac0eb6",
   "metadata": {},
   "outputs": [],
   "source": [
    "def SourceSubstitution(S, \\\n",
    "                       A_analytic         , \\\n",
    "                       M_t_analytic       , \\\n",
    "                       M_x_analytical     , \\\n",
    "                       v_r_analytical     , \\\n",
    "                       v_t_analytical     , \\\n",
    "                       v_x_analytical     , \\\n",
    "                       p_analytical       , \\\n",
    "                       dp_dr_analytical   , \\\n",
    "                       dv_r_dr_analytical , \\\n",
    "                       dM_x_dr_analytical , \\\n",
    "                       dM_t_dr_analytical , \\\n",
    "                      ): \n",
    "    print(S)\n",
    "    S = S.subs({ \\\n",
    "                A:A_analytic       , \\\n",
    "                M_t:M_t_analytic   \n",
    "                #, \\\n",
    "               # M_x:M_x_analytical , \\\n",
    "               # v_r:v_r_analytical , \\\n",
    "               # v_t:v_t_analytical , \\\n",
    "               # v_x:v_x_analytical , \\\n",
    "               # p:p_analytical     , \\\n",
    "               # dp_dr:dp_dr_analytical, \\\n",
    "               # dv_r_dr:dv_r_dr_analytical, \\\n",
    "               # dM_x_dr:dM_x_dr_analytical, \\\n",
    "               # dM_t_dr:dM_t_dr_analytical, \\\n",
    "               })\n",
    "    print(S)\n",
    "    "
   ]
  },
  {
   "cell_type": "code",
   "execution_count": null,
   "id": "37875ecd",
   "metadata": {},
   "outputs": [],
   "source": []
  },
  {
   "cell_type": "code",
   "execution_count": 8,
   "id": "a03a85d3",
   "metadata": {},
   "outputs": [],
   "source": [
    "%run 1-Set-Up.ipynb"
   ]
  },
  {
   "cell_type": "code",
   "execution_count": 9,
   "id": "a992d2c1",
   "metadata": {},
   "outputs": [],
   "source": [
    "# Defining symbolic variables needed for this code.\n",
    "# all units are dimensionless! \n",
    "\n",
    "# radius, maximum radius, and ratio of specific heats\n",
    "r, r_max, kappa = symbols('r r_max kappa')\n",
    "\n",
    "# arbitrary constants\n",
    "k = symbols('k', cls=IndexedBase)\n",
    "one, two, three = symbols('one two three')\n",
    "C = symbols('C')\n",
    "x = symbols('x')\n",
    "\n",
    "# reduced frequency\n",
    "ak = symbols('ak')\n",
    "\n",
    "# imaginary #, Speed of sound, azimuthal mode number, axial wavenumber \n",
    "i, A, m, gamma   = symbols('i A m gamma')\n",
    "v_r, v_t, v_x, p = symbols('v_r v_t v_x p ')\n",
    "M_t, M_x         = symbols('M_t M_x')\n",
    "dp_dr, dv_r_dr   = symbols('dp_dr dv_r_dr')\n",
    "dM_x_dr, dM_t_dr = symbols('dM_x_dr dM_t_dr')\n",
    "\n",
    "#locations of inflection Points for tanh?\n",
    "r2 , r3  = symbols('r2 r3')\n",
    "j        = symbols('j')\n",
    "\n"
   ]
  },
  {
   "cell_type": "code",
   "execution_count": 10,
   "id": "41b734bd",
   "metadata": {},
   "outputs": [
    {
     "ename": "TypeError",
     "evalue": "SourceSubstitution() missing 9 required positional arguments: 'M_x_analytical', 'v_r_analytical', 'v_t_analytical', 'v_x_analytical', 'p_analytical', 'dp_dr_analytical', 'dv_r_dr_analytical', 'dM_x_dr_analytical', and 'dM_t_dr_analytical'",
     "output_type": "error",
     "traceback": [
      "\u001b[0;31m---------------------------------------------------------------------------\u001b[0m",
      "\u001b[0;31mTypeError\u001b[0m                                 Traceback (most recent call last)",
      "\u001b[0;32m<ipython-input-10-b885a024e48b>\u001b[0m in \u001b[0;36m<module>\u001b[0;34m\u001b[0m\n\u001b[1;32m     16\u001b[0m \u001b[0;34m\u001b[0m\u001b[0m\n\u001b[1;32m     17\u001b[0m \u001b[0;34m\u001b[0m\u001b[0m\n\u001b[0;32m---> 18\u001b[0;31m SourceSubstitution(S, \\\n\u001b[0m\u001b[1;32m     19\u001b[0m                    \u001b[0mA_analytic\u001b[0m         \u001b[0;34m,\u001b[0m\u001b[0;31m \u001b[0m\u001b[0;31m\\\u001b[0m\u001b[0;34m\u001b[0m\u001b[0;34m\u001b[0m\u001b[0m\n\u001b[1;32m     20\u001b[0m                    \u001b[0mM_t_analytic\u001b[0m\u001b[0;34m\u001b[0m\u001b[0;34m\u001b[0m\u001b[0m\n",
      "\u001b[0;31mTypeError\u001b[0m: SourceSubstitution() missing 9 required positional arguments: 'M_x_analytical', 'v_r_analytical', 'v_t_analytical', 'v_x_analytical', 'p_analytical', 'dp_dr_analytical', 'dv_r_dr_analytical', 'dM_x_dr_analytical', and 'dM_t_dr_analytical'"
     ]
    }
   ],
   "source": [
    "S = -i*(ak/A - (m/r)*M_t - gamma*M_x)*v_r  -\\\n",
    "\\\n",
    "(two/r)*M_t*v_t + dp_dr + ((kappa - one)/r)*(M_t**two)*p\n",
    "\n",
    "A_analytic     = sp.sin(r)\n",
    "M_t_analytic   = 0 \n",
    "M_x_analytical = 1\n",
    "v_r_analytical = 1\n",
    "v_t_analytical = 1\n",
    "v_x_analytical = 1\n",
    "p_analytical = 1\n",
    "dp_dr_analytical = sp.sin(r) \n",
    "dv_r_dr_analytical = 1\n",
    "dM_x_dr_analytical = 1\n",
    "dM_t_dr_analytical = 1\n",
    "\n",
    "\n",
    "SourceSubstitution(S, \\\n",
    "                   A_analytic         , \\\n",
    "                   M_t_analytic   \n",
    "                   #, \\\n",
    "                   #M_x_analytical     , \\\n",
    "                   #v_r_analytical     , \\\n",
    "                   #v_t_analytical     , \\\n",
    "                   #v_x_analytical     , \\\n",
    "                   #p_analytical       , \\\n",
    "                   #dp_dr_analytical   , \\\n",
    "                   #dv_r_dr_analytical , \\\n",
    "                   #dM_x_dr_analytical , \\\n",
    "                   #dM_t_dr_analytical , \\\n",
    "                   )"
   ]
  },
  {
   "cell_type": "code",
   "execution_count": null,
   "id": "6b7a8fa6",
   "metadata": {},
   "outputs": [],
   "source": []
  }
 ],
 "metadata": {
  "kernelspec": {
   "display_name": "Python 3",
   "language": "python",
   "name": "python3"
  },
  "language_info": {
   "codemirror_mode": {
    "name": "ipython",
    "version": 3
   },
   "file_extension": ".py",
   "mimetype": "text/x-python",
   "name": "python",
   "nbconvert_exporter": "python",
   "pygments_lexer": "ipython3",
   "version": "3.8.8"
  }
 },
 "nbformat": 4,
 "nbformat_minor": 5
}
