{
 "cells": [
  {
   "cell_type": "code",
   "execution_count": null,
   "id": "9702d044-f98c-40f3-bb93-d2d28d269b2e",
   "metadata": {},
   "outputs": [],
   "source": [
    "\n",
    "AA = sp.Matrix(sp.zeros(4,4))\n",
    "\n",
    "AA[0,0] = -i*(ak/A - (m/r)*M_t)\n",
    "AA[1,1] = AA[0,0]\n",
    "AA[2,2] = AA[0,0]\n",
    "AA[3,3] = AA[0,0]\n",
    "\n",
    "AA[0,2] = 0\n",
    "AA[1,2] = 0\n",
    "AA[3,2] = 0\n",
    "AA[2,1] = 0\n",
    "AA[2,3] = 0\n",
    "\n",
    "AA[1,3] = (i*m)/r\n",
    "AA[3,1] = AA[1,3]\n",
    "\n",
    "A12 = (-two/r)*M_t\n",
    "A21 = M_t/r + dM_t_dr + (kappa - one)/(two*r)*M_t**three\n",
    "A31 = dM_x_dr + (kappa - one)/(two*r)*M_t**two*M_x\n",
    "\n",
    "AA[0,1] = A12\n",
    "AA[1,0] = A21\n",
    "AA[2,0] = A31\n",
    "\n",
    "# note that these terms only have derivative operators , See Eqn 2.52\n",
    "\n",
    "A41 = (1/v_r)*dv_r_dr + one/r + (kappa + one)/(two*r)*M_t**two\n",
    "A14 = (1/p)*dp_dr + (kappa - one)/r * M_t**two\n",
    "\n",
    "AA[3,0] = A41\n",
    "AA[0,3] = A14\n",
    "\n",
    "BB = sp.zeros(4,4)\n",
    "\n",
    "BB[0,0] = M_x\n",
    "BB[1,1] = BB[0,0]\n",
    "BB[2,2] = BB[0,0]\n",
    "BB[3,3] = BB[0,0]\n",
    "\n",
    "BB[2,3] = one\n",
    "BB[3,2] = BB[2,3]\n",
    "\n",
    "XX = sp.Matrix([\\\n",
    "               [v_r] , \\\n",
    "               [v_t] , \\\n",
    "               [v_x] , \\\n",
    "               [p] , \\\n",
    "               ])\n",
    "\n",
    "Lambda = -i*gamma\n",
    "\n",
    "SS = AA*XX - Lambda*BB*XX"
   ]
  }
 ],
 "metadata": {
  "kernelspec": {
   "display_name": "Python 3",
   "language": "python",
   "name": "python3"
  },
  "language_info": {
   "codemirror_mode": {
    "name": "ipython",
    "version": 3
   },
   "file_extension": ".py",
   "mimetype": "text/x-python",
   "name": "python",
   "nbconvert_exporter": "python",
   "pygments_lexer": "ipython3",
   "version": "3.8.8"
  }
 },
 "nbformat": 4,
 "nbformat_minor": 5
}
