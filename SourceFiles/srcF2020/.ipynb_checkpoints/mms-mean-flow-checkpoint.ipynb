{
 "cells": [
  {
   "cell_type": "markdown",
   "id": "74aa6669-85c5-42c5-b99c-0015af0b7c45",
   "metadata": {},
   "source": []
  },
  {
   "cell_type": "code",
   "execution_count": null,
   "id": "0610d35f-525c-42e0-8d87-fc36628d7858",
   "metadata": {},
   "outputs": [],
   "source": [
    "RightKink = \\\n",
    "k[1]*sp.tanh(k[2]*(r - r_max)) + \\\n",
    "k[1]*sp.tanh(k[2]*(r - r2)) + \\\n",
    "k[1]*sp.tanh(k[2]*(r - r3))\n",
    "\n",
    "LeftKink = \\\n",
    "k[1]*sp.tanh(k[2]*(r_max - r_max)) + \\\n",
    "k[1]*sp.tanh(k[2]*(r2    - r_max)) + \\\n",
    "k[1]*sp.tanh(k[2]*(r3    - r_max))\n",
    "\n",
    "S_vertical        = one\n",
    "A_analytic        = S_vertical + LeftKink + RightKink \n",
    "dA_analytic_dr    = diff(A_analytic,r)\n",
    "dA_analytic_sq_dr = diff(A_analytic**two,r)\n",
    "M_t_analytic      = sp.sqrt( \\\n",
    "                       r/((kappa-one)*A_analytic**two) * \\\n",
    "                       (dA_analytic_sq_dr))\n",
    "\n",
    "\n",
    "M_x_analytical = sp.sin(k[3]*(r - r_max))\n",
    "v_t_analytical = sp.sin(k[5]*(r - r_max))\n",
    "v_x_analytical = sp.sin(k[6]*(r - r_max))\n",
    "# these need to be zero at the wall!\n",
    "\n",
    "v_r_analytical = sp.cos(k[4]*(r - r_max)) - 1\n",
    "p_analytical   = sp.cos(k[7]*(r - r_max)) - 1\n",
    "\n",
    "dp_dr_analytical   = p_analytical.diff(r)\n",
    "dv_r_dr_analytical = v_r_analytical.diff(r) \n",
    "dM_x_dr_analytical = M_x_analytical.diff(r)\n",
    "dM_t_dr_analytical = M_t_analytic.diff(r)"
   ]
  },
  {
   "cell_type": "code",
   "execution_count": null,
   "id": "c23be4a6-1a54-4f7c-bc31-07bb0cd11817",
   "metadata": {},
   "outputs": [],
   "source": []
  },
  {
   "cell_type": "code",
   "execution_count": null,
   "id": "b1a00e71-4b80-4728-8076-9d110d7dcf01",
   "metadata": {},
   "outputs": [],
   "source": [
    "A_max = 3*r**2 - 2*r**3\n",
    "A_min = 1 - A_max\n",
    "\n",
    "\n",
    "f = v_r_analytical\n",
    "f_max = sp.cos(k[4]*(r_max-r_max)) - 1\n",
    "f_min = sp.cos(k[4]*(0.2-r_max)) - 1\n",
    "f_min_desired = 0\n",
    "f_max_desired = 0\n",
    "\n",
    "del_f_min = f_min - f_min_desired\n",
    "del_f_max = f_max - f_max_desired \n",
    "f_imposed = f + A_min*del_f_min - A_max*del_f_max\n",
    "v_r_analytical = f_imposed"
   ]
  }
 ],
 "metadata": {
  "kernelspec": {
   "display_name": "Python 3",
   "language": "python",
   "name": "python3"
  },
  "language_info": {
   "codemirror_mode": {
    "name": "ipython",
    "version": 3
   },
   "file_extension": ".py",
   "mimetype": "text/x-python",
   "name": "python",
   "nbconvert_exporter": "python",
   "pygments_lexer": "ipython3",
   "version": "3.8.8"
  }
 },
 "nbformat": 4,
 "nbformat_minor": 5
}
