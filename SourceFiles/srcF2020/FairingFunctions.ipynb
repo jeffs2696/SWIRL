{
 "cells": [
  {
   "cell_type": "code",
   "execution_count": 2,
   "id": "35eaf5f8-7a1b-4685-9257-6a3b89ed1b1a",
   "metadata": {},
   "outputs": [],
   "source": [
    "%run set-up.ipynb\n"
   ]
  },
  {
   "cell_type": "markdown",
   "id": "dceb8685-ae07-4a22-b7f5-14e5f328855f",
   "metadata": {},
   "source": []
  },
  {
   "cell_type": "markdown",
   "id": "5c366941-415e-4748-a4b9-ee38f760b017",
   "metadata": {
    "jupyter": {
     "source_hidden": true
    },
    "tags": []
   },
   "source": [
    "# Setting Up Boundary Condition Values Using a Fairing Function\n",
    "\n",
    "Given a specified analytical function , $ f(\\widetilde{r}) $, \n",
    "\\begin{align*}                                            \\widetilde{r} = \\frac{r - r_{min}}{r_{max} - r_{min}}                                                \n",
    "\\end{align*} \n",
    "\n",
    "Substituting $r_{min}$ and $r_{max}$ for $r$ gives,\n",
    "\n",
    "\\begin{align*}                                                                                           \n",
    "    \\widetilde{r}_{min} &= \\frac{r_{min} - r_{min}}{r_{max} - r_{min}} = 0\\\\                             \n",
    "    \\widetilde{r}_{max} &= \\frac{r_{max} - r_{min}}{r_{max} - r_{min}} = 1                               \n",
    "\\end{align*}                                                                                             \n",
    "                                                                                                         \n",
    "The goal is to set desired values at the boundaries of the specified analytical                          \n",
    "function. First we define the values at the boundaries, i.e.                                             \n",
    "\n",
    "\\begin{align*}                                                                                           \n",
    "    f(\\widetilde{r} &= \\widetilde{r}_{min}) = f_{min}     \\\\                                             \n",
    "    f(\\widetilde{r} &= \\widetilde{r}_{max}) = f_{max}                                                    \n",
    "\\end{align*}                                                                                             \n",
    "                                                                                                         \n",
    "Then, the change between our desired boundary condition value and the actual is,                         \n",
    "To do so, a desired change in the boundary condition must be defined.                                    \n",
    "                                                                                                         \n",
    "\\begin{align*}                                                                                           \n",
    "    \\Delta f_{min} =  (f_{min}) - (f_{min})_{desired}   \\\\\n",
    "    \\Delta f_{max} =  (f_{max}) - (f_{max})_{desired}                                                    \n",
    "\\end{align*}                       \n",
    "\n",
    "To ensure that the desired changes are imposed smoothly. The smoothness                         \n",
    "of a function is measured by the number of continuous derivatives the desired function                   \n",
    "has over the domain of the function. At the very minimum, a smooth function will be continuous and       \n",
    "hence differentiable everywhere. When generating manufactured solutions, smoothness                      \n",
    "of the solution is often times assumed but is not guaranteed\n",
    "\n"
   ]
  },
  {
   "cell_type": "markdown",
   "id": "be557e0c-aae2-482b-92cd-0e4bca71b147",
   "metadata": {
    "jupyter": {
     "source_hidden": true
    },
    "tags": []
   },
   "source": [
    "Defining the faring function:                                                                            \n",
    "\\begin{align*}                                                                                           \n",
    "    f_{imposed}(\\widetilde{r}) =                                                                         \n",
    "    f(\\widetilde{r}) +                                                                                   \n",
    "    A_{min}(\\widetilde{r}) \\Delta f_{min} +                                                              \n",
    "    A_{max}(\\widetilde{r}) \\Delta f_{max}                                                                \n",
    "\\end{align*}                                                                                             \n",
    "In order for the imposed boundary conditions to work, the desired values must be                         \n",
    "such that,                                                                                               \n",
    "\\begin{align*}                                                                                           \n",
    "    A_{min}(\\widetilde{r}_{min}) &= 1 &A_{min}(\\widetilde{r}_{max}) &= 0  \\\\                             \n",
    "    A_{max}(\\widetilde{r}_{max}) &= 0 &A_{max}(\\widetilde{r}_{min}) &= 1                                 \n",
    "\\end{align*}                                                                                             \n",
    "This assured that the opposite boundaries are not affected.(How?)                                        \n",
    "For simplicity lets define:                                                                              \n",
    "\\begin{align*}                                                                                           \n",
    "    A_{min}(\\widetilde{r}) =                                                                             \n",
    "    1-                                                                                                   \n",
    "    A_{max}(\\widetilde{r})                                                                               \n",
    "\\end{align*}                                                                                             \n",
    "so now only $A_{max}$ needs to be defined.                                                               \n",
    "As mentioned, the desired boundary condition need to allow the analytical function                       \n",
    "to be differentiable, and as a consequence, it would be wise to also set those.                          \n",
    "In addition, different types of boundary conditions (such as Neumann) that would                         \n",
    "require this.                                                                                            \n",
    "\\begin{align*}                                                                                           \n",
    "    \\frac{\\partial A_{max} }{\\partial \\widetilde{r}}|_{\\widetilde{r}_{min}} = 0 \\\\                       \n",
    "    \\frac{\\partial A_{max} }{\\partial \\widetilde{r}}|_{\\widetilde{r}_{max}} = 0 \\\\                       \n",
    "\\end{align*}                                                                                             \n",
    "A straight forward choice would be                                                                       \n",
    "\\begin{align*}                                                                                           \n",
    "    A_{max}(\\widetilde{r}) =                                                                             \n",
    "    3 \\widetilde{r}^2 - 2 \\widetilde{r}^3                                                                \n",
    "\\end{align*}                                                                                             \n",
    "Note that the correction is carried from boundary to boundary, as opposed to                             \n",
    "applying the correction to only to a region near the boundaries. This ensures smooth                     \n",
    "derivatives in the interior domain.                                                                      \n",
    "                                    "
   ]
  },
  {
   "cell_type": "code",
   "execution_count": null,
   "id": "d84284c2-41f6-43f2-af31-c410f12c92af",
   "metadata": {},
   "outputs": [],
   "source": []
  },
  {
   "cell_type": "code",
   "execution_count": 15,
   "id": "b500dd8c-0834-4225-8542-1d087c378de1",
   "metadata": {},
   "outputs": [],
   "source": [
    "\n",
    "def FairingFunction(f,f_min,f_max):\n",
    "    A_min, A_max    = sp.symbols('A_min, A_max')\n",
    "    \n",
    "    \n",
    "    del_f_min, f_min_desired, \\\n",
    "    del_f_max, f_max_desired  \\\n",
    "                    = sp.symbols('del_f_min, f_min_desired, del_f_max, f_max_desired')\n",
    "    \n",
    "    r_hat = (r - r_min)/(r_max - r_min)\n",
    "    \n",
    "    del_f_min = f_min - f_min_desired\n",
    "    del_f_max = f_max - f_max_desired\n",
    "    \n",
    "    r_hat_max = r_hat.subs('r','r_max')\n",
    "    r_hat_min = r_hat.subs('r','r_min')\n",
    "    A_max         = 3*r_hat**2 - 2*r_hat**3 \n",
    "    A_min         = 1 - A_max\n",
    "    f_imposed = f + A_min*del_f_min - A_max*del_f_max\n",
    "    \n",
    "    \n",
    "   # f_max_desired = 0\n",
    "   # f_min_desired = 0\n",
    "   # \n",
    "   # f_imposed = f_imposed.subs(\\\n",
    "   #                [(sp.Symbol('f')    ,f), \\\n",
    "   #                 (sp.Symbol('f_min'),f_min),\\\n",
    "   #                 (sp.Symbol('f_max'),f_max), \\\n",
    "   #                 (sp.Symbol('f_min_desired'),f_min_desired), \\\n",
    "   #                 (sp.Symbol('f_max_desired'),f_max_desired), \\\n",
    "   #                 (sp.Symbol('A_min'),A_min), \\\n",
    "   #                 (sp.Symbol('A_max'),A_max) ])\n",
    "   # f_imposed_min = f_imposed.subs(r,r_min)\n",
    "   # f_imposed_max = f_imposed.subs(r,r_max)\n",
    "    pprint(f_imposed_min)\n",
    "    return f_imposed"
   ]
  },
  {
   "cell_type": "code",
   "execution_count": 9,
   "id": "1309338b-9102-4475-b756-dfbb93e0492d",
   "metadata": {},
   "outputs": [],
   "source": [
    "\n",
    "r, r_max, r_min = sp.symbols('r r_max r_min')\n",
    "    \n",
    "    f_min         = f.subs(r,r_min)\n",
    "    f_max         = f.subs(r,r_max)g"
   ]
  },
  {
   "cell_type": "code",
   "execution_count": 16,
   "id": "c253c393-9efc-4354-9b76-89e2b934201b",
   "metadata": {},
   "outputs": [
    {
     "ename": "NameError",
     "evalue": "name 'f_imposed_min' is not defined",
     "output_type": "error",
     "traceback": [
      "\u001b[0;31m---------------------------------------------------------------------------\u001b[0m",
      "\u001b[0;31mNameError\u001b[0m                                 Traceback (most recent call last)",
      "\u001b[0;32m<ipython-input-16-a406356b934f>\u001b[0m in \u001b[0;36m<module>\u001b[0;34m\u001b[0m\n\u001b[0;32m----> 1\u001b[0;31m \u001b[0mf_imposed\u001b[0m \u001b[0;34m=\u001b[0m \u001b[0mFairingFunction\u001b[0m\u001b[0;34m(\u001b[0m\u001b[0mf\u001b[0m\u001b[0;34m,\u001b[0m\u001b[0mf_min\u001b[0m\u001b[0;34m,\u001b[0m\u001b[0mf_max\u001b[0m\u001b[0;34m)\u001b[0m\u001b[0;34m\u001b[0m\u001b[0;34m\u001b[0m\u001b[0m\n\u001b[0m",
      "\u001b[0;32m<ipython-input-15-8bc465d060f8>\u001b[0m in \u001b[0;36mFairingFunction\u001b[0;34m(f, f_min, f_max)\u001b[0m\n\u001b[1;32m     35\u001b[0m    \u001b[0;31m# f_imposed_min = f_imposed.subs(r,r_min)\u001b[0m\u001b[0;34m\u001b[0m\u001b[0;34m\u001b[0m\u001b[0;34m\u001b[0m\u001b[0m\n\u001b[1;32m     36\u001b[0m    \u001b[0;31m# f_imposed_max = f_imposed.subs(r,r_max)\u001b[0m\u001b[0;34m\u001b[0m\u001b[0;34m\u001b[0m\u001b[0;34m\u001b[0m\u001b[0m\n\u001b[0;32m---> 37\u001b[0;31m     \u001b[0mpprint\u001b[0m\u001b[0;34m(\u001b[0m\u001b[0mf_imposed_min\u001b[0m\u001b[0;34m)\u001b[0m\u001b[0;34m\u001b[0m\u001b[0;34m\u001b[0m\u001b[0m\n\u001b[0m\u001b[1;32m     38\u001b[0m     \u001b[0;32mreturn\u001b[0m \u001b[0mf_imposed\u001b[0m\u001b[0;34m\u001b[0m\u001b[0;34m\u001b[0m\u001b[0m\n",
      "\u001b[0;31mNameError\u001b[0m: name 'f_imposed_min' is not defined"
     ]
    }
   ],
   "source": [
    "f_imposed = FairingFunction(f,f_min,f_max)"
   ]
  },
  {
   "cell_type": "code",
   "execution_count": null,
   "id": "dbd30238-9f77-4402-bb89-02d25e51683e",
   "metadata": {},
   "outputs": [],
   "source": []
  }
 ],
 "metadata": {
  "kernelspec": {
   "display_name": "Python 3",
   "language": "python",
   "name": "python3"
  },
  "language_info": {
   "codemirror_mode": {
    "name": "ipython",
    "version": 3
   },
   "file_extension": ".py",
   "mimetype": "text/x-python",
   "name": "python",
   "nbconvert_exporter": "python",
   "pygments_lexer": "ipython3",
   "version": "3.8.8"
  },
  "toc-autonumbering": false,
  "toc-showmarkdowntxt": false
 },
 "nbformat": 4,
 "nbformat_minor": 5
}
