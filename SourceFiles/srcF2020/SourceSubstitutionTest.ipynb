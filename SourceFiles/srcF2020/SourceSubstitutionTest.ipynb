{
 "cells": [
  {
   "cell_type": "code",
   "execution_count": null,
   "id": "693d8dd5",
   "metadata": {},
   "outputs": [],
   "source": [
    "    "
   ]
  },
  {
   "cell_type": "code",
   "execution_count": 9,
   "id": "77e3fc0d",
   "metadata": {},
   "outputs": [],
   "source": [
    "%run 1-Set-Up.ipynb"
   ]
  },
  {
   "cell_type": "code",
   "execution_count": 10,
   "id": "f71868d8",
   "metadata": {},
   "outputs": [],
   "source": [
    "# Defining symbolic variables needed for this code.\n",
    "# all units are dimensionless! \n",
    "\n",
    "# radius, maximum radius, and ratio of specific heats\n",
    "r, r_max, kappa = symbols('r r_max kappa')\n",
    "\n",
    "# arbitrary constants\n",
    "k = symbols('k', cls=IndexedBase)\n",
    "one, two, three = symbols('one two three')\n",
    "C = symbols('C')\n",
    "x = symbols('x')\n",
    "\n",
    "# reduced frequency\n",
    "ak = symbols('ak')\n",
    "\n",
    "# imaginary #, Speed of sound, azimuthal mode number, axial wavenumber \n",
    "i, A, m, gamma   = symbols('i A m gamma')\n",
    "v_r, v_t, v_x, p = symbols('v_r v_t v_x p ')\n",
    "M_t, M_x         = symbols('M_t M_x')\n",
    "dp_dr, dv_r_dr   = symbols('dp_dr dv_r_dr')\n",
    "dM_x_dr, dM_t_dr = symbols('dM_x_dr dM_t_dr')\n",
    "\n",
    "#locations of inflection Points for tanh?\n",
    "r2 , r3  = symbols('r2 r3')\n",
    "j        = symbols('j')\n",
    "\n"
   ]
  },
  {
   "cell_type": "code",
   "execution_count": 11,
   "id": "3ee62321",
   "metadata": {},
   "outputs": [
    {
     "name": "stdout",
     "output_type": "stream",
     "text": [
      "S before: -M_t*two*v_t/r + M_t**two*p*(kappa - one)/r + dp_dr - i*v_r*(-M_t*m/r - M_x*gamma + ak/A)\n",
      "S after: -i*(ak/sin(r) - gamma*sin(r) - m*cos(r)/r)*sin(r) + sin(r) - two*sin(r)*cos(r)/r + (kappa - one)*sin(r)*cos(r)**two/r\n"
     ]
    }
   ],
   "source": [
    "S = -i*(ak/A - (m/r)*M_t - gamma*M_x)*v_r  -\\\n",
    "\\\n",
    "(two/r)*M_t*v_t + dp_dr + ((kappa - one)/r)*(M_t**two)*p\n",
    "\n",
    "A_analytic     = sp.sin(r)\n",
    "M_t_analytic   = sp.cos(r) \n",
    "M_x_analytical = sp.sin(r)\n",
    "v_r_analytical = sp.sin(r)\n",
    "v_t_analytical = sp.sin(r)\n",
    "v_x_analytical = sp.sin(r)\n",
    "p_analytical = sp.sin(r)\n",
    "dp_dr_analytical = sp.sin(r) \n",
    "dv_r_dr_analytical = sp.sin(r)\n",
    "dM_x_dr_analytical = sp.sin(r)\n",
    "dM_t_dr_analytical = sp.sin(r)\n",
    "\n",
    "SourceSubstitution(S, \\\n",
    "                   A_analytic         , \\\n",
    "                   M_t_analytic   , \\\n",
    "                   M_x_analytical     , \\\n",
    "                   v_r_analytical     , \\\n",
    "                   v_t_analytical     , \\\n",
    "                   v_x_analytical     , \\\n",
    "                   p_analytical       , \\\n",
    "                   dp_dr_analytical   , \\\n",
    "                   dv_r_dr_analytical , \\\n",
    "                   dM_x_dr_analytical , \\\n",
    "                   dM_t_dr_analytical , \\\n",
    "                   )"
   ]
  },
  {
   "cell_type": "code",
   "execution_count": null,
   "id": "47ebd7d0",
   "metadata": {},
   "outputs": [],
   "source": []
  },
  {
   "cell_type": "code",
   "execution_count": null,
   "id": "bb8da123",
   "metadata": {},
   "outputs": [],
   "source": []
  }
 ],
 "metadata": {
  "kernelspec": {
   "display_name": "Python 3",
   "language": "python",
   "name": "python3"
  },
  "language_info": {
   "codemirror_mode": {
    "name": "ipython",
    "version": 3
   },
   "file_extension": ".py",
   "mimetype": "text/x-python",
   "name": "python",
   "nbconvert_exporter": "python",
   "pygments_lexer": "ipython3",
   "version": "3.8.8"
  }
 },
 "nbformat": 4,
 "nbformat_minor": 5
}
