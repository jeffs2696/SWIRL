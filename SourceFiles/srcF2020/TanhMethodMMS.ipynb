{
 "cells": [
  {
   "cell_type": "code",
   "execution_count": 1,
   "id": "ca768eed-7a87-4c72-afa3-01425b3016ac",
   "metadata": {},
   "outputs": [],
   "source": [
    "from sympy import symbols\n",
    "from numpy import linspace\n",
    "from sympy import lambdify, Function\n",
    "import matplotlib.pyplot as mpl\n",
    "import sympy as sp\n",
    "import sys"
   ]
  },
  {
   "cell_type": "code",
   "execution_count": 6,
   "id": "828df277-0333-4b8c-bd45-b0545bcd2445",
   "metadata": {
    "jupyter": {
     "source_hidden": true
    },
    "tags": []
   },
   "outputs": [],
   "source": [
    "def TanhMethodMMS(n,B):\n",
    "    RightKink  = []\n",
    "    LeftKink   = []\n",
    "    A          = []\n",
    "    max_amplitude = 0.75\n",
    "    S_vertical = 1\n",
    "    \n",
    "    rj = list(linspace(1,0,n))\n",
    "    r_min = 0\n",
    "    r_max = 1\n",
    "    # rescaling the radius (redundant but needed for BC Fairing Function)\n",
    "    r_hat = (r - r_min)/(r_max - r_min)\n",
    "    warning_mssg = {1:'Warning: Total Amplitude exceeds maximum ', \\\n",
    "                    2:'Warning: Function is negative'}\n",
    "    \n",
    "    # getting amplitude for each kink\n",
    "    for i in range(len(rj)):\n",
    "        A.append(max_amplitude/(len(rj)+1))\n",
    "        if sum(A) > max_amplitude:\n",
    "            sys.exit(str(warning_mssg[1]))\n",
    "    \n",
    "    # defining kinks and antikinks\n",
    "    for j in range(len(rj)):\n",
    "        RightKink.append( A[j]*sp.tanh(B*( r_hat    - rj[j] )) )\n",
    "        LeftKink.append(  A[j]*sp.tanh(B*( rj[j]- rj[0] )) )   \n",
    "    \n",
    "    y = sum(LeftKink) + sum(RightKink) + S_vertical\n",
    "    lam_x = lambdify(r,f , modules=['numpy'])\n",
    "    \n",
    "    x_vals = linspace(r_min, r_max, 100)\n",
    "    y_vals = lam_x(x_vals)\n",
    "    \n",
    "    if debug == 1:\n",
    "        for i in range(len(y_vals)):\n",
    "            if y_vals[i] < 0:\n",
    "                sys.exit(str(warning_mssg[2]))\n",
    "            \n",
    "    mpl.plot(x_vals, y_vals)\n",
    "    mpl.show()\n",
    "    return y"
   ]
  },
  {
   "cell_type": "code",
   "execution_count": 7,
   "id": "ec8a3fdc-4006-4d20-9de4-9767661b9692",
   "metadata": {},
   "outputs": [],
   "source": [
    "r = sp.IndexedBase('r')\n",
    "n = 5 # number of kinks\n",
    "B = 50 \n",
    "\n",
    "debug = 0"
   ]
  },
  {
   "cell_type": "code",
   "execution_count": 8,
   "id": "1f9e7c58-199c-46da-a228-7eae0afe71ad",
   "metadata": {
    "tags": []
   },
   "outputs": [
    {
     "data": {
      "image/png": "[encoded data removed]",
      "text/plain": [
       "<Figure size 432x288 with 1 Axes>"
      ]
     },
     "metadata": {
      "needs_background": "light"
     },
     "output_type": "display_data"
    },
    {
     "name": "stdout",
     "output_type": "stream",
     "text": [
      "0.125*tanh(50*r - 50.0) + 0.125*tanh(50*r - 37.5) + 0.125*tanh(50*r - 25.0) + 0.125*tanh(50*r - 12.5) + 0.125*tanh(50*r) + 0.500000000003472\n"
     ]
    }
   ],
   "source": [
    "f = TanhMethodMMS(n,B)\n",
    "print(f)\n"
   ]
  },
  {
   "cell_type": "code",
   "execution_count": null,
   "id": "873a94a7-4bea-41e5-a3e4-c711333d15ce",
   "metadata": {},
   "outputs": [],
   "source": []
  },
  {
   "cell_type": "code",
   "execution_count": null,
   "id": "fabecf73-e1d2-4fa1-a308-2b7cc850da0a",
   "metadata": {},
   "outputs": [],
   "source": []
  }
 ],
 "metadata": {
  "kernelspec": {
   "display_name": "Python 3",
   "language": "python",
   "name": "python3"
  },
  "language_info": {
   "codemirror_mode": {
    "name": "ipython",
    "version": 3
   },
   "file_extension": ".py",
   "mimetype": "text/x-python",
   "name": "python",
   "nbconvert_exporter": "python",
   "pygments_lexer": "ipython3",
   "version": "3.8.8"
  }
 },
 "nbformat": 4,
 "nbformat_minor": 5
}
