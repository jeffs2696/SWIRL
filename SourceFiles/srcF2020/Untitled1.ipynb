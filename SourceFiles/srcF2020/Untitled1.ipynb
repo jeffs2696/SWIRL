{
 "cells": [
  {
   "cell_type": "code",
   "execution_count": 5,
   "id": "7ca750e6-908f-4e90-b9eb-db21cdf55967",
   "metadata": {
    "tags": []
   },
   "outputs": [],
   "source": [
    "#now that we set the matricies up lets get our individual terms \n",
    "A_times_x        = sp.Matrix(sp.zeros(len(S),len(S)))\n",
    "lambda_B_times_x = sp.Matrix(sp.zeros(len(S),len(S)))\n",
    "\n",
    "for j in range(len(S)):\n",
    "    for i in range(len(S)):\n",
    "        A_times_x[i,j]        = [AA[i,j]*XX[j]]\n",
    "        lambda_B_times_x[i,j] = Lambda*BB[i,j]*XX[j]"
   ]
  },
  {
   "cell_type": "code",
   "execution_count": 6,
   "id": "ed81e0e1-2202-4452-96d9-a2d15d3f3823",
   "metadata": {
    "tags": []
   },
   "outputs": [
    {
     "name": "stdout",
     "output_type": "stream",
     "text": [
      "True\n",
      "True\n",
      "True\n",
      "True\n"
     ]
    }
   ],
   "source": [
    "for i in range(len(S)):\n",
    "    match =(S[i].equals( \\\n",
    "                  A_times_x[i,0] + \\\n",
    "                  A_times_x[i,1] + \\\n",
    "                  A_times_x[i,2] + \\\n",
    "                  A_times_x[i,3] -\\\n",
    "                 (lambda_B_times_x[i,0] + \\\n",
    "                  lambda_B_times_x[i,1] + \\\n",
    "                  lambda_B_times_x[i,2] + \\\n",
    "                  lambda_B_times_x[i,3])))\n",
    "    print(match)\n",
    "# notes on differences between system of equations and Ax-lambda Bx    \n",
    "# multiplying (1/p) and not (one/p) by dp_dr made  S_1 and SS[1] the same\n",
    "# multiplied i gamma p term by \"one\" in S_3\n",
    "# multiplied by 1/v_r by d_v_dr and i v_x gamma terM by one"
   ]
  },
  {
   "cell_type": "code",
   "execution_count": 10,
   "id": "96032043-bcb9-441d-a062-c2391d0d2570",
   "metadata": {
    "tags": []
   },
   "outputs": [],
   "source": [
    "for i in range(len(S)):\n",
    "    S[i] = SourceSubstitution(S[i], \\\n",
    "                       A_analytic         , \\\n",
    "                       M_t_analytic   , \\\n",
    "                       M_x_analytical     , \\\n",
    "                       v_r_analytical     , \\\n",
    "                       v_t_analytical     , \\\n",
    "                       v_x_analytical     , \\\n",
    "                       p_analytical       , \\\n",
    "                       dp_dr_analytical   , \\\n",
    "                       dv_r_dr_analytical , \\\n",
    "                       dM_x_dr_analytical , \\\n",
    "                       dM_t_dr_analytical , \\\n",
    "                       )\n",
    "\n",
    "for i in range(len(A_times_x[:,0])):\n",
    "    for j in range(len(A_times_x[0,:])):\n",
    "        A_times_x[i,j] = SourceSubstitution(\\\n",
    "                       A_times_x[i,j], \\\n",
    "                       A_analytic         , \\\n",
    "                       M_t_analytic   , \\\n",
    "                       M_x_analytical     , \\\n",
    "                       v_r_analytical     , \\\n",
    "                       v_t_analytical     , \\\n",
    "                       v_x_analytical     , \\\n",
    "                       p_analytical       , \\\n",
    "                       dp_dr_analytical   , \\\n",
    "                       dv_r_dr_analytical , \\\n",
    "                       dM_x_dr_analytical , \\\n",
    "                       dM_t_dr_analytical , \\\n",
    "                                      ) \n",
    "        lambda_B_times_x[i,j] = SourceSubstitution(\\\n",
    "                       lambda_B_times_x[i,j], \\\n",
    "                       A_analytic         , \\\n",
    "                       M_t_analytic   , \\\n",
    "                       M_x_analytical     , \\\n",
    "                       v_r_analytical     , \\\n",
    "                       v_t_analytical     , \\\n",
    "                       v_x_analytical     , \\\n",
    "                       p_analytical       , \\\n",
    "                       dp_dr_analytical   , \\\n",
    "                       dv_r_dr_analytical , \\\n",
    "                       dM_x_dr_analytical , \\\n",
    "                       dM_t_dr_analytical , \\\n",
    "                                         )"
   ]
  },
  {
   "cell_type": "code",
   "execution_count": 5,
   "id": "b683a585-35e8-4a51-aa18-a0277f4c8cf1",
   "metadata": {
    "tags": []
   },
   "outputs": [],
   "source": [
    "#now that we set the matricies up lets get our individual terms \n",
    "A_times_x        = sp.Matrix(sp.zeros(len(S),len(S)))\n",
    "lambda_B_times_x = sp.Matrix(sp.zeros(len(S),len(S)))\n",
    "\n",
    "for j in range(len(S)):\n",
    "    for i in range(len(S)):\n",
    "        A_times_x[i,j]        = [AA[i,j]*XX[j]]\n",
    "        lambda_B_times_x[i,j] = Lambda*BB[i,j]*XX[j]"
   ]
  },
  {
   "cell_type": "code",
   "execution_count": 6,
   "id": "63d15db2-7329-4c2e-a70f-f0f3b8f356ad",
   "metadata": {
    "tags": []
   },
   "outputs": [
    {
     "name": "stdout",
     "output_type": "stream",
     "text": [
      "True\n",
      "True\n",
      "True\n",
      "True\n"
     ]
    }
   ],
   "source": [
    "for i in range(len(S)):\n",
    "    match =(S[i].equals( \\\n",
    "                  A_times_x[i,0] + \\\n",
    "                  A_times_x[i,1] + \\\n",
    "                  A_times_x[i,2] + \\\n",
    "                  A_times_x[i,3] -\\\n",
    "                 (lambda_B_times_x[i,0] + \\\n",
    "                  lambda_B_times_x[i,1] + \\\n",
    "                  lambda_B_times_x[i,2] + \\\n",
    "                  lambda_B_times_x[i,3])))\n",
    "    print(match)\n",
    "# notes on differences between system of equations and Ax-lambda Bx    \n",
    "# multiplying (1/p) and not (one/p) by dp_dr made  S_1 and SS[1] the same\n",
    "# multiplied i gamma p term by \"one\" in S_3\n",
    "# multiplied by 1/v_r by d_v_dr and i v_x gamma terM by one"
   ]
  },
  {
   "cell_type": "code",
   "execution_count": 10,
   "id": "13f9caab-badc-4507-8a07-af7e50efa494",
   "metadata": {
    "tags": []
   },
   "outputs": [],
   "source": [
    "for i in range(len(S)):\n",
    "    S[i] = SourceSubstitution(S[i], \\\n",
    "                       A_analytic         , \\\n",
    "                       M_t_analytic   , \\\n",
    "                       M_x_analytical     , \\\n",
    "                       v_r_analytical     , \\\n",
    "                       v_t_analytical     , \\\n",
    "                       v_x_analytical     , \\\n",
    "                       p_analytical       , \\\n",
    "                       dp_dr_analytical   , \\\n",
    "                       dv_r_dr_analytical , \\\n",
    "                       dM_x_dr_analytical , \\\n",
    "                       dM_t_dr_analytical , \\\n",
    "                       )\n",
    "\n",
    "for i in range(len(A_times_x[:,0])):\n",
    "    for j in range(len(A_times_x[0,:])):\n",
    "        A_times_x[i,j] = SourceSubstitution(\\\n",
    "                       A_times_x[i,j], \\\n",
    "                       A_analytic         , \\\n",
    "                       M_t_analytic   , \\\n",
    "                       M_x_analytical     , \\\n",
    "                       v_r_analytical     , \\\n",
    "                       v_t_analytical     , \\\n",
    "                       v_x_analytical     , \\\n",
    "                       p_analytical       , \\\n",
    "                       dp_dr_analytical   , \\\n",
    "                       dv_r_dr_analytical , \\\n",
    "                       dM_x_dr_analytical , \\\n",
    "                       dM_t_dr_analytical , \\\n",
    "                                      ) \n",
    "        lambda_B_times_x[i,j] = SourceSubstitution(\\\n",
    "                       lambda_B_times_x[i,j], \\\n",
    "                       A_analytic         , \\\n",
    "                       M_t_analytic   , \\\n",
    "                       M_x_analytical     , \\\n",
    "                       v_r_analytical     , \\\n",
    "                       v_t_analytical     , \\\n",
    "                       v_x_analytical     , \\\n",
    "                       p_analytical       , \\\n",
    "                       dp_dr_analytical   , \\\n",
    "                       dv_r_dr_analytical , \\\n",
    "                       dM_x_dr_analytical , \\\n",
    "                       dM_t_dr_analytical , \\\n",
    "                                         )"
   ]
  },
  {
   "cell_type": "code",
   "execution_count": null,
   "id": "3f3ed47d-a619-47a8-9e54-5b61c9f854b7",
   "metadata": {},
   "outputs": [],
   "source": []
  }
 ],
 "metadata": {
  "kernelspec": {
   "display_name": "Python 3",
   "language": "python",
   "name": "python3"
  },
  "language_info": {
   "codemirror_mode": {
    "name": "ipython",
    "version": 3
   },
   "file_extension": ".py",
   "mimetype": "text/x-python",
   "name": "python",
   "nbconvert_exporter": "python",
   "pygments_lexer": "ipython3",
   "version": "3.8.8"
  }
 },
 "nbformat": 4,
 "nbformat_minor": 5
}
